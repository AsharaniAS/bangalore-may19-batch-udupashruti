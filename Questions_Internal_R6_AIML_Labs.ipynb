{
  "nbformat": 4,
  "nbformat_minor": 0,
  "metadata": {
    "colab": {
      "name": "Questions - Internal - R6 - AIML Labs.ipynb",
      "provenance": [],
      "collapsed_sections": []
    },
    "kernelspec": {
      "name": "python3",
      "display_name": "Python 3"
    },
    "accelerator": "GPU"
  },
  "cells": [
    {
      "cell_type": "markdown",
      "metadata": {
        "id": "zUZjPnVXGz0Z",
        "colab_type": "text"
      },
      "source": [
        "# The Iris Dataset\n",
        "The data set consists of 50 samples from each of three species of Iris (Iris setosa, Iris virginica and Iris versicolor). Four features were measured from each sample: the length and the width of the sepals and petals, in centimeters.\n",
        "\n",
        "The dataset contains a set of 150 records under five attributes - petal length, petal width, sepal length, sepal width and species."
      ]
    },
    {
      "cell_type": "markdown",
      "metadata": {
        "id": "RMbmpriavLE9",
        "colab_type": "text"
      },
      "source": [
        "### Specifying the TensorFlow version\n",
        "Running `import tensorflow` will import the default version (currently 1.x). You can use 2.x by running a cell with the `tensorflow_version` magic **before** you run `import tensorflow`."
      ]
    },
    {
      "cell_type": "code",
      "metadata": {
        "colab_type": "code",
        "id": "fu8bUU__oa7h",
        "outputId": "71ad4a08-77d0-444c-bbb0-168033b9316c",
        "colab": {
          "base_uri": "https://localhost:8080/",
          "height": 34
        }
      },
      "source": [
        "%tensorflow_version 2.x"
      ],
      "execution_count": 0,
      "outputs": [
        {
          "output_type": "stream",
          "text": [
            "TensorFlow 2.x selected.\n"
          ],
          "name": "stdout"
        }
      ]
    },
    {
      "cell_type": "markdown",
      "metadata": {
        "colab_type": "text",
        "id": "bLz1Ckvfvn6D"
      },
      "source": [
        "### Import TensorFlow\n",
        "Once you have specified a version via this magic, you can run `import tensorflow` as normal and verify which version was imported as follows:"
      ]
    },
    {
      "cell_type": "code",
      "metadata": {
        "colab_type": "code",
        "id": "CWrzVTLOvn6M",
        "outputId": "7c327dba-07ce-452c-8b56-e14a384b7cdd",
        "colab": {
          "base_uri": "https://localhost:8080/",
          "height": 34
        }
      },
      "source": [
        "import tensorflow as tf\n",
        "print(tf.__version__)"
      ],
      "execution_count": 0,
      "outputs": [
        {
          "output_type": "stream",
          "text": [
            "2.0.0-rc2\n"
          ],
          "name": "stdout"
        }
      ]
    },
    {
      "cell_type": "markdown",
      "metadata": {
        "id": "_uYeJgkNuXNC",
        "colab_type": "text"
      },
      "source": [
        "### Set random seed"
      ]
    },
    {
      "cell_type": "code",
      "metadata": {
        "id": "lcASNsewsfQX",
        "colab_type": "code",
        "colab": {}
      },
      "source": [
        "tf.random.set_seed(42)"
      ],
      "execution_count": 0,
      "outputs": []
    },
    {
      "cell_type": "markdown",
      "metadata": {
        "id": "5-vVQBBqg7DI",
        "colab_type": "text"
      },
      "source": [
        "## Question 1"
      ]
    },
    {
      "cell_type": "markdown",
      "metadata": {
        "id": "kE0EDKvQhEIe",
        "colab_type": "text"
      },
      "source": [
        "### Import dataset\n",
        "- Import iris dataset\n",
        "- Import the dataset using sklearn library"
      ]
    },
    {
      "cell_type": "code",
      "metadata": {
        "id": "IOOWpD26Haq3",
        "colab_type": "code",
        "colab": {}
      },
      "source": [
        "from sklearn import datasets\n",
        "iris = datasets.load_iris() "
      ],
      "execution_count": 0,
      "outputs": []
    },
    {
      "cell_type": "markdown",
      "metadata": {
        "id": "ta8YqInTh5v5",
        "colab_type": "text"
      },
      "source": [
        "## Question 2"
      ]
    },
    {
      "cell_type": "markdown",
      "metadata": {
        "id": "HERt3drbhX0i",
        "colab_type": "text"
      },
      "source": [
        "### Get features and label from the dataset in separate variable\n",
        "- you can get the features using .data method\n",
        "- you can get the features using .target method"
      ]
    },
    {
      "cell_type": "code",
      "metadata": {
        "id": "0cV-_qHAHyvE",
        "colab_type": "code",
        "colab": {}
      },
      "source": [
        "X=iris.data"
      ],
      "execution_count": 0,
      "outputs": []
    },
    {
      "cell_type": "code",
      "metadata": {
        "id": "lvVIqdLCf5BU",
        "colab_type": "code",
        "colab": {}
      },
      "source": [
        "y=iris.target"
      ],
      "execution_count": 0,
      "outputs": []
    },
    {
      "cell_type": "markdown",
      "metadata": {
        "id": "Qg1A2lkUjFak",
        "colab_type": "text"
      },
      "source": [
        "## Question 3"
      ]
    },
    {
      "cell_type": "markdown",
      "metadata": {
        "colab_type": "text",
        "id": "3YErwYLCH0N_"
      },
      "source": [
        "### Create train and test data\n",
        "- use train_test_split to get train and test set\n",
        "- set a random_state\n",
        "- test_size: 0.25"
      ]
    },
    {
      "cell_type": "code",
      "metadata": {
        "id": "TYKNJL85h7pQ",
        "colab_type": "code",
        "colab": {}
      },
      "source": [
        "from sklearn import model_selection\n",
        "\n",
        "test_size = 0.25\n",
        "seed = 10\n",
        "X_train, X_test, y_train, y_test = model_selection.train_test_split(X, y, test_size=test_size, random_state=seed)"
      ],
      "execution_count": 0,
      "outputs": []
    },
    {
      "cell_type": "code",
      "metadata": {
        "id": "7UNEF-R8hbe8",
        "colab_type": "code",
        "outputId": "7b850ca7-916a-4704-8aaf-b38939b92a4b",
        "colab": {
          "base_uri": "https://localhost:8080/",
          "height": 118
        }
      },
      "source": [
        "y_train"
      ],
      "execution_count": 0,
      "outputs": [
        {
          "output_type": "execute_result",
          "data": {
            "text/plain": [
              "array([2, 2, 0, 0, 1, 0, 1, 0, 1, 1, 2, 2, 1, 2, 1, 1, 1, 0, 0, 1, 0, 2,\n",
              "       0, 0, 2, 1, 2, 0, 2, 0, 1, 1, 0, 2, 2, 2, 2, 2, 0, 1, 2, 1, 0, 2,\n",
              "       1, 1, 0, 0, 0, 1, 2, 2, 1, 0, 0, 0, 2, 2, 1, 1, 2, 2, 2, 2, 1, 0,\n",
              "       0, 1, 0, 0, 2, 1, 0, 0, 0, 1, 0, 1, 0, 1, 2, 0, 1, 1, 2, 0, 2, 0,\n",
              "       1, 1, 2, 2, 0, 1, 2, 2, 1, 1, 2, 0, 2, 0, 0, 1, 0, 2, 2, 2, 1, 0,\n",
              "       2, 0])"
            ]
          },
          "metadata": {
            "tags": []
          },
          "execution_count": 69
        }
      ]
    },
    {
      "cell_type": "code",
      "metadata": {
        "id": "neIvcg49kX3S",
        "colab_type": "code",
        "outputId": "7f9f5c6a-64d7-473a-eb6b-b6c782f4bc62",
        "colab": {
          "base_uri": "https://localhost:8080/",
          "height": 34
        }
      },
      "source": [
        "y_train.shape"
      ],
      "execution_count": 0,
      "outputs": [
        {
          "output_type": "execute_result",
          "data": {
            "text/plain": [
              "(112,)"
            ]
          },
          "metadata": {
            "tags": []
          },
          "execution_count": 70
        }
      ]
    },
    {
      "cell_type": "markdown",
      "metadata": {
        "id": "g0KVP17Ozaix",
        "colab_type": "text"
      },
      "source": [
        "## Question 4"
      ]
    },
    {
      "cell_type": "markdown",
      "metadata": {
        "id": "SIjqxbhWv1zv",
        "colab_type": "text"
      },
      "source": [
        "### One-hot encode the labels\n",
        "- convert class vectors (integers) to binary class matrix\n",
        "- convert labels\n",
        "- number of classes: 3\n",
        "- we are doing this to use categorical_crossentropy as loss"
      ]
    },
    {
      "cell_type": "code",
      "metadata": {
        "id": "R9vW0YMknqQS",
        "colab_type": "code",
        "colab": {}
      },
      "source": [
        "#y_train = y_train.reshape(len(y_train), 1)"
      ],
      "execution_count": 0,
      "outputs": []
    },
    {
      "cell_type": "code",
      "metadata": {
        "id": "3VDal8Uxnqe0",
        "colab_type": "code",
        "colab": {}
      },
      "source": [
        "#y_test = y_test.reshape(len(y_test), 1)"
      ],
      "execution_count": 0,
      "outputs": []
    },
    {
      "cell_type": "code",
      "metadata": {
        "colab_type": "code",
        "id": "R9vv-_gpyLY9",
        "colab": {}
      },
      "source": [
        "#from sklearn.preprocessing import OneHotEncoder \n",
        "#onehotencoder = OneHotEncoder(sparse = False)\n",
        "#y_train = onehotencoder.fit_transform(y_train)\n",
        "#y_test = onehotencoder.fit_transform(y_test)"
      ],
      "execution_count": 0,
      "outputs": []
    },
    {
      "cell_type": "code",
      "metadata": {
        "id": "72-sphAGnhO1",
        "colab_type": "code",
        "colab": {}
      },
      "source": [
        "y_train = tf.keras.utils.to_categorical(y_train)\n",
        "y_test = tf.keras.utils.to_categorical(y_test)"
      ],
      "execution_count": 0,
      "outputs": []
    },
    {
      "cell_type": "code",
      "metadata": {
        "id": "kMQQVIhNtHsQ",
        "colab_type": "code",
        "outputId": "66e3ef98-5384-4d23-c5e1-a2d7b4a0a74b",
        "colab": {
          "base_uri": "https://localhost:8080/",
          "height": 34
        }
      },
      "source": [
        "y_train.shape"
      ],
      "execution_count": 0,
      "outputs": [
        {
          "output_type": "execute_result",
          "data": {
            "text/plain": [
              "(112, 3)"
            ]
          },
          "metadata": {
            "tags": []
          },
          "execution_count": 75
        }
      ]
    },
    {
      "cell_type": "markdown",
      "metadata": {
        "colab_type": "text",
        "id": "ovjLyYzWkO9s"
      },
      "source": [
        "## Question 5"
      ]
    },
    {
      "cell_type": "markdown",
      "metadata": {
        "id": "hbIFzoPNSyYo",
        "colab_type": "text"
      },
      "source": [
        "### Initialize a sequential model\n",
        "- Define a sequential model"
      ]
    },
    {
      "cell_type": "code",
      "metadata": {
        "id": "4FvSbf1UjHtl",
        "colab_type": "code",
        "colab": {}
      },
      "source": [
        "model = tf.keras.models.Sequential()"
      ],
      "execution_count": 0,
      "outputs": []
    },
    {
      "cell_type": "markdown",
      "metadata": {
        "colab_type": "text",
        "id": "dGMy999vlacX"
      },
      "source": [
        "## Question 6"
      ]
    },
    {
      "cell_type": "markdown",
      "metadata": {
        "id": "72ibK5Jxm8iL",
        "colab_type": "text"
      },
      "source": [
        "### Add a layer\n",
        "- Use Dense Layer  with input shape of 4 (according to the feature set) and number of outputs set to 3\n",
        "- Apply Softmax on Dense Layer outputs"
      ]
    },
    {
      "cell_type": "code",
      "metadata": {
        "id": "uZKrBNSRm_o9",
        "colab_type": "code",
        "colab": {}
      },
      "source": [
        "model.add(tf.keras.layers.Dense(3, input_shape=(4,),activation='softmax'))"
      ],
      "execution_count": 0,
      "outputs": []
    },
    {
      "cell_type": "markdown",
      "metadata": {
        "id": "i4uiTH8plmNX",
        "colab_type": "text"
      },
      "source": [
        "## Question 7"
      ]
    },
    {
      "cell_type": "markdown",
      "metadata": {
        "id": "yJL8n8vcSyYz",
        "colab_type": "text"
      },
      "source": [
        "### Compile the model\n",
        "- Use SGD as Optimizer\n",
        "- Use categorical_crossentropy as loss function\n",
        "- Use accuracy as metrics"
      ]
    },
    {
      "cell_type": "code",
      "metadata": {
        "id": "Tc_-fjIEk1ve",
        "colab_type": "code",
        "colab": {}
      },
      "source": [
        "model.compile(optimizer='sgd', loss='categorical_crossentropy', \n",
        "              metrics=['accuracy'])"
      ],
      "execution_count": 0,
      "outputs": []
    },
    {
      "cell_type": "markdown",
      "metadata": {
        "colab_type": "text",
        "id": "sihIGbRll_jT"
      },
      "source": [
        "## Question 8"
      ]
    },
    {
      "cell_type": "markdown",
      "metadata": {
        "id": "54ZZCfNGlu0i",
        "colab_type": "text"
      },
      "source": [
        "### Summarize the model\n",
        "- Check model layers\n",
        "- Understand number of trainable parameters"
      ]
    },
    {
      "cell_type": "code",
      "metadata": {
        "id": "elER3F_4ln8n",
        "colab_type": "code",
        "outputId": "d3c33f7e-2347-4ddf-c880-dc43da0fe178",
        "colab": {
          "base_uri": "https://localhost:8080/",
          "height": 185
        }
      },
      "source": [
        "model.summary()"
      ],
      "execution_count": 0,
      "outputs": [
        {
          "output_type": "stream",
          "text": [
            "Model: \"sequential_2\"\n",
            "_________________________________________________________________\n",
            "Layer (type)                 Output Shape              Param #   \n",
            "=================================================================\n",
            "dense_4 (Dense)              (None, 3)                 15        \n",
            "=================================================================\n",
            "Total params: 15\n",
            "Trainable params: 15\n",
            "Non-trainable params: 0\n",
            "_________________________________________________________________\n"
          ],
          "name": "stdout"
        }
      ]
    },
    {
      "cell_type": "markdown",
      "metadata": {
        "colab_type": "text",
        "id": "2PiP7j3Vmj4p"
      },
      "source": [
        "## Question 9"
      ]
    },
    {
      "cell_type": "markdown",
      "metadata": {
        "id": "rWdbfFCXmCHt",
        "colab_type": "text"
      },
      "source": [
        "### Fit the model\n",
        "- Give train data as training features and labels\n",
        "- Epochs: 100\n",
        "- Give validation data as testing features and labels"
      ]
    },
    {
      "cell_type": "code",
      "metadata": {
        "id": "cO1c-5tjmBVZ",
        "colab_type": "code",
        "outputId": "89cb178f-fe61-4144-e834-659ed0ef7563",
        "colab": {
          "base_uri": "https://localhost:8080/",
          "height": 1000
        }
      },
      "source": [
        "model.fit(X_train, y_train, \n",
        "          validation_data=(X_test, y_test), \n",
        "          epochs=100)"
      ],
      "execution_count": 0,
      "outputs": [
        {
          "output_type": "stream",
          "text": [
            "Train on 112 samples, validate on 38 samples\n",
            "Epoch 1/100\n",
            "112/112 [==============================] - 2s 14ms/sample - loss: 2.6672 - accuracy: 0.3482 - val_loss: 1.8083 - val_accuracy: 0.2895\n",
            "Epoch 2/100\n",
            "112/112 [==============================] - 0s 315us/sample - loss: 1.6475 - accuracy: 0.3482 - val_loss: 1.3140 - val_accuracy: 0.1579\n",
            "Epoch 3/100\n",
            "112/112 [==============================] - 0s 270us/sample - loss: 1.3436 - accuracy: 0.1071 - val_loss: 1.1794 - val_accuracy: 0.1579\n",
            "Epoch 4/100\n",
            "112/112 [==============================] - 0s 341us/sample - loss: 1.2353 - accuracy: 0.0982 - val_loss: 1.1257 - val_accuracy: 0.2632\n",
            "Epoch 5/100\n",
            "112/112 [==============================] - 0s 281us/sample - loss: 1.1855 - accuracy: 0.1786 - val_loss: 1.0891 - val_accuracy: 0.2368\n",
            "Epoch 6/100\n",
            "112/112 [==============================] - 0s 271us/sample - loss: 1.1545 - accuracy: 0.2143 - val_loss: 1.0559 - val_accuracy: 0.2632\n",
            "Epoch 7/100\n",
            "112/112 [==============================] - 0s 280us/sample - loss: 1.1152 - accuracy: 0.2143 - val_loss: 1.0330 - val_accuracy: 0.3421\n",
            "Epoch 8/100\n",
            "112/112 [==============================] - 0s 295us/sample - loss: 1.0811 - accuracy: 0.2321 - val_loss: 1.0060 - val_accuracy: 0.3158\n",
            "Epoch 9/100\n",
            "112/112 [==============================] - 0s 265us/sample - loss: 1.0547 - accuracy: 0.1875 - val_loss: 0.9760 - val_accuracy: 0.2895\n",
            "Epoch 10/100\n",
            "112/112 [==============================] - 0s 250us/sample - loss: 1.0174 - accuracy: 0.2768 - val_loss: 0.9514 - val_accuracy: 0.3947\n",
            "Epoch 11/100\n",
            "112/112 [==============================] - 0s 301us/sample - loss: 0.9983 - accuracy: 0.4196 - val_loss: 0.9343 - val_accuracy: 0.4211\n",
            "Epoch 12/100\n",
            "112/112 [==============================] - 0s 289us/sample - loss: 0.9629 - accuracy: 0.3661 - val_loss: 0.9112 - val_accuracy: 0.5789\n",
            "Epoch 13/100\n",
            "112/112 [==============================] - 0s 263us/sample - loss: 0.9497 - accuracy: 0.4554 - val_loss: 0.8843 - val_accuracy: 0.5789\n",
            "Epoch 14/100\n",
            "112/112 [==============================] - 0s 283us/sample - loss: 0.9178 - accuracy: 0.5268 - val_loss: 0.8635 - val_accuracy: 0.6053\n",
            "Epoch 15/100\n",
            "112/112 [==============================] - 0s 287us/sample - loss: 0.8988 - accuracy: 0.5625 - val_loss: 0.8468 - val_accuracy: 0.6316\n",
            "Epoch 16/100\n",
            "112/112 [==============================] - 0s 278us/sample - loss: 0.8854 - accuracy: 0.5804 - val_loss: 0.8379 - val_accuracy: 0.6579\n",
            "Epoch 17/100\n",
            "112/112 [==============================] - 0s 297us/sample - loss: 0.8597 - accuracy: 0.5982 - val_loss: 0.8297 - val_accuracy: 0.7105\n",
            "Epoch 18/100\n",
            "112/112 [==============================] - 0s 265us/sample - loss: 0.8415 - accuracy: 0.5982 - val_loss: 0.8039 - val_accuracy: 0.6316\n",
            "Epoch 19/100\n",
            "112/112 [==============================] - 0s 296us/sample - loss: 0.8243 - accuracy: 0.6429 - val_loss: 0.8001 - val_accuracy: 0.7105\n",
            "Epoch 20/100\n",
            "112/112 [==============================] - 0s 337us/sample - loss: 0.8113 - accuracy: 0.5893 - val_loss: 0.7971 - val_accuracy: 0.6842\n",
            "Epoch 21/100\n",
            "112/112 [==============================] - 0s 309us/sample - loss: 0.7984 - accuracy: 0.6250 - val_loss: 0.7842 - val_accuracy: 0.7105\n",
            "Epoch 22/100\n",
            "112/112 [==============================] - 0s 281us/sample - loss: 0.7823 - accuracy: 0.6339 - val_loss: 0.7657 - val_accuracy: 0.7368\n",
            "Epoch 23/100\n",
            "112/112 [==============================] - 0s 282us/sample - loss: 0.7679 - accuracy: 0.6339 - val_loss: 0.7492 - val_accuracy: 0.7105\n",
            "Epoch 24/100\n",
            "112/112 [==============================] - 0s 276us/sample - loss: 0.7563 - accuracy: 0.6339 - val_loss: 0.7300 - val_accuracy: 0.6842\n",
            "Epoch 25/100\n",
            "112/112 [==============================] - 0s 265us/sample - loss: 0.7456 - accuracy: 0.6964 - val_loss: 0.7227 - val_accuracy: 0.7105\n",
            "Epoch 26/100\n",
            "112/112 [==============================] - 0s 300us/sample - loss: 0.7370 - accuracy: 0.6607 - val_loss: 0.7171 - val_accuracy: 0.7368\n",
            "Epoch 27/100\n",
            "112/112 [==============================] - 0s 279us/sample - loss: 0.7255 - accuracy: 0.6607 - val_loss: 0.7094 - val_accuracy: 0.7105\n",
            "Epoch 28/100\n",
            "112/112 [==============================] - 0s 326us/sample - loss: 0.7146 - accuracy: 0.6518 - val_loss: 0.7033 - val_accuracy: 0.7105\n",
            "Epoch 29/100\n",
            "112/112 [==============================] - 0s 305us/sample - loss: 0.7028 - accuracy: 0.6607 - val_loss: 0.6910 - val_accuracy: 0.7368\n",
            "Epoch 30/100\n",
            "112/112 [==============================] - 0s 279us/sample - loss: 0.6942 - accuracy: 0.6875 - val_loss: 0.6861 - val_accuracy: 0.7105\n",
            "Epoch 31/100\n",
            "112/112 [==============================] - 0s 364us/sample - loss: 0.6824 - accuracy: 0.6607 - val_loss: 0.6804 - val_accuracy: 0.7895\n",
            "Epoch 32/100\n",
            "112/112 [==============================] - 0s 282us/sample - loss: 0.6848 - accuracy: 0.6429 - val_loss: 0.6686 - val_accuracy: 0.7368\n",
            "Epoch 33/100\n",
            "112/112 [==============================] - 0s 275us/sample - loss: 0.6686 - accuracy: 0.6696 - val_loss: 0.6597 - val_accuracy: 0.7632\n",
            "Epoch 34/100\n",
            "112/112 [==============================] - 0s 278us/sample - loss: 0.6668 - accuracy: 0.7411 - val_loss: 0.6592 - val_accuracy: 0.7895\n",
            "Epoch 35/100\n",
            "112/112 [==============================] - 0s 295us/sample - loss: 0.6539 - accuracy: 0.6786 - val_loss: 0.6496 - val_accuracy: 0.7895\n",
            "Epoch 36/100\n",
            "112/112 [==============================] - 0s 263us/sample - loss: 0.6454 - accuracy: 0.6786 - val_loss: 0.6408 - val_accuracy: 0.7632\n",
            "Epoch 37/100\n",
            "112/112 [==============================] - 0s 262us/sample - loss: 0.6397 - accuracy: 0.6964 - val_loss: 0.6338 - val_accuracy: 0.7632\n",
            "Epoch 38/100\n",
            "112/112 [==============================] - 0s 299us/sample - loss: 0.6328 - accuracy: 0.7321 - val_loss: 0.6309 - val_accuracy: 0.7895\n",
            "Epoch 39/100\n",
            "112/112 [==============================] - 0s 346us/sample - loss: 0.6281 - accuracy: 0.7232 - val_loss: 0.6341 - val_accuracy: 0.7895\n",
            "Epoch 40/100\n",
            "112/112 [==============================] - 0s 260us/sample - loss: 0.6247 - accuracy: 0.6696 - val_loss: 0.6347 - val_accuracy: 0.7368\n",
            "Epoch 41/100\n",
            "112/112 [==============================] - 0s 265us/sample - loss: 0.6186 - accuracy: 0.6518 - val_loss: 0.6154 - val_accuracy: 0.8421\n",
            "Epoch 42/100\n",
            "112/112 [==============================] - 0s 281us/sample - loss: 0.6100 - accuracy: 0.6964 - val_loss: 0.6114 - val_accuracy: 0.8421\n",
            "Epoch 43/100\n",
            "112/112 [==============================] - 0s 253us/sample - loss: 0.6061 - accuracy: 0.7500 - val_loss: 0.6166 - val_accuracy: 0.7632\n",
            "Epoch 44/100\n",
            "112/112 [==============================] - 0s 279us/sample - loss: 0.6003 - accuracy: 0.6696 - val_loss: 0.6048 - val_accuracy: 0.7895\n",
            "Epoch 45/100\n",
            "112/112 [==============================] - 0s 312us/sample - loss: 0.5954 - accuracy: 0.6964 - val_loss: 0.5984 - val_accuracy: 0.8421\n",
            "Epoch 46/100\n",
            "112/112 [==============================] - 0s 282us/sample - loss: 0.5914 - accuracy: 0.7232 - val_loss: 0.5934 - val_accuracy: 0.8421\n",
            "Epoch 47/100\n",
            "112/112 [==============================] - 0s 299us/sample - loss: 0.5849 - accuracy: 0.7232 - val_loss: 0.5896 - val_accuracy: 0.8421\n",
            "Epoch 48/100\n",
            "112/112 [==============================] - 0s 276us/sample - loss: 0.5832 - accuracy: 0.7857 - val_loss: 0.5934 - val_accuracy: 0.7895\n",
            "Epoch 49/100\n",
            "112/112 [==============================] - 0s 277us/sample - loss: 0.5766 - accuracy: 0.6696 - val_loss: 0.5854 - val_accuracy: 0.7895\n",
            "Epoch 50/100\n",
            "112/112 [==============================] - 0s 269us/sample - loss: 0.5736 - accuracy: 0.7321 - val_loss: 0.5853 - val_accuracy: 0.7895\n",
            "Epoch 51/100\n",
            "112/112 [==============================] - 0s 296us/sample - loss: 0.5706 - accuracy: 0.6696 - val_loss: 0.5728 - val_accuracy: 0.8158\n",
            "Epoch 52/100\n",
            "112/112 [==============================] - 0s 288us/sample - loss: 0.5676 - accuracy: 0.7857 - val_loss: 0.5786 - val_accuracy: 0.7895\n",
            "Epoch 53/100\n",
            "112/112 [==============================] - 0s 263us/sample - loss: 0.5641 - accuracy: 0.7500 - val_loss: 0.5771 - val_accuracy: 0.7895\n",
            "Epoch 54/100\n",
            "112/112 [==============================] - 0s 339us/sample - loss: 0.5606 - accuracy: 0.7054 - val_loss: 0.5683 - val_accuracy: 0.8158\n",
            "Epoch 55/100\n",
            "112/112 [==============================] - 0s 257us/sample - loss: 0.5559 - accuracy: 0.7232 - val_loss: 0.5673 - val_accuracy: 0.7895\n",
            "Epoch 56/100\n",
            "112/112 [==============================] - 0s 276us/sample - loss: 0.5520 - accuracy: 0.7321 - val_loss: 0.5646 - val_accuracy: 0.7895\n",
            "Epoch 57/100\n",
            "112/112 [==============================] - 0s 259us/sample - loss: 0.5491 - accuracy: 0.7321 - val_loss: 0.5568 - val_accuracy: 0.8421\n",
            "Epoch 58/100\n",
            "112/112 [==============================] - 0s 263us/sample - loss: 0.5433 - accuracy: 0.7589 - val_loss: 0.5536 - val_accuracy: 0.8421\n",
            "Epoch 59/100\n",
            "112/112 [==============================] - 0s 309us/sample - loss: 0.5445 - accuracy: 0.7768 - val_loss: 0.5567 - val_accuracy: 0.7895\n",
            "Epoch 60/100\n",
            "112/112 [==============================] - 0s 347us/sample - loss: 0.5370 - accuracy: 0.7143 - val_loss: 0.5502 - val_accuracy: 0.8158\n",
            "Epoch 61/100\n",
            "112/112 [==============================] - 0s 318us/sample - loss: 0.5346 - accuracy: 0.7946 - val_loss: 0.5544 - val_accuracy: 0.7895\n",
            "Epoch 62/100\n",
            "112/112 [==============================] - 0s 277us/sample - loss: 0.5332 - accuracy: 0.7054 - val_loss: 0.5476 - val_accuracy: 0.8158\n",
            "Epoch 63/100\n",
            "112/112 [==============================] - 0s 276us/sample - loss: 0.5314 - accuracy: 0.7589 - val_loss: 0.5516 - val_accuracy: 0.7895\n",
            "Epoch 64/100\n",
            "112/112 [==============================] - 0s 281us/sample - loss: 0.5314 - accuracy: 0.7321 - val_loss: 0.5595 - val_accuracy: 0.7368\n",
            "Epoch 65/100\n",
            "112/112 [==============================] - 0s 272us/sample - loss: 0.5282 - accuracy: 0.6964 - val_loss: 0.5572 - val_accuracy: 0.7368\n",
            "Epoch 66/100\n",
            "112/112 [==============================] - 0s 276us/sample - loss: 0.5237 - accuracy: 0.7054 - val_loss: 0.5432 - val_accuracy: 0.7895\n",
            "Epoch 67/100\n",
            "112/112 [==============================] - 0s 293us/sample - loss: 0.5188 - accuracy: 0.7054 - val_loss: 0.5373 - val_accuracy: 0.8158\n",
            "Epoch 68/100\n",
            "112/112 [==============================] - 0s 316us/sample - loss: 0.5234 - accuracy: 0.7589 - val_loss: 0.5387 - val_accuracy: 0.7895\n",
            "Epoch 69/100\n",
            "112/112 [==============================] - 0s 289us/sample - loss: 0.5153 - accuracy: 0.7232 - val_loss: 0.5384 - val_accuracy: 0.7368\n",
            "Epoch 70/100\n",
            "112/112 [==============================] - 0s 296us/sample - loss: 0.5103 - accuracy: 0.7411 - val_loss: 0.5276 - val_accuracy: 0.8158\n",
            "Epoch 71/100\n",
            "112/112 [==============================] - 0s 318us/sample - loss: 0.5076 - accuracy: 0.7679 - val_loss: 0.5247 - val_accuracy: 0.8158\n",
            "Epoch 72/100\n",
            "112/112 [==============================] - 0s 286us/sample - loss: 0.5054 - accuracy: 0.7589 - val_loss: 0.5197 - val_accuracy: 0.8421\n",
            "Epoch 73/100\n",
            "112/112 [==============================] - 0s 268us/sample - loss: 0.5040 - accuracy: 0.7768 - val_loss: 0.5160 - val_accuracy: 0.8947\n",
            "Epoch 74/100\n",
            "112/112 [==============================] - 0s 269us/sample - loss: 0.5033 - accuracy: 0.8125 - val_loss: 0.5142 - val_accuracy: 0.8947\n",
            "Epoch 75/100\n",
            "112/112 [==============================] - 0s 270us/sample - loss: 0.5001 - accuracy: 0.8214 - val_loss: 0.5121 - val_accuracy: 0.8947\n",
            "Epoch 76/100\n",
            "112/112 [==============================] - 0s 280us/sample - loss: 0.4996 - accuracy: 0.8125 - val_loss: 0.5212 - val_accuracy: 0.8158\n",
            "Epoch 77/100\n",
            "112/112 [==============================] - 0s 274us/sample - loss: 0.4971 - accuracy: 0.7500 - val_loss: 0.5089 - val_accuracy: 0.8947\n",
            "Epoch 78/100\n",
            "112/112 [==============================] - 0s 359us/sample - loss: 0.4934 - accuracy: 0.8304 - val_loss: 0.5195 - val_accuracy: 0.7895\n",
            "Epoch 79/100\n",
            "112/112 [==============================] - 0s 283us/sample - loss: 0.4963 - accuracy: 0.7321 - val_loss: 0.5199 - val_accuracy: 0.7368\n",
            "Epoch 80/100\n",
            "112/112 [==============================] - 0s 272us/sample - loss: 0.4908 - accuracy: 0.7679 - val_loss: 0.5071 - val_accuracy: 0.8158\n",
            "Epoch 81/100\n",
            "112/112 [==============================] - 0s 285us/sample - loss: 0.4914 - accuracy: 0.8125 - val_loss: 0.5060 - val_accuracy: 0.8158\n",
            "Epoch 82/100\n",
            "112/112 [==============================] - 0s 246us/sample - loss: 0.4848 - accuracy: 0.8036 - val_loss: 0.5014 - val_accuracy: 0.8947\n",
            "Epoch 83/100\n",
            "112/112 [==============================] - 0s 258us/sample - loss: 0.4892 - accuracy: 0.7679 - val_loss: 0.4963 - val_accuracy: 0.8947\n",
            "Epoch 84/100\n",
            "112/112 [==============================] - 0s 294us/sample - loss: 0.4856 - accuracy: 0.8571 - val_loss: 0.4976 - val_accuracy: 0.8947\n",
            "Epoch 85/100\n",
            "112/112 [==============================] - 0s 281us/sample - loss: 0.4805 - accuracy: 0.8036 - val_loss: 0.4999 - val_accuracy: 0.8158\n",
            "Epoch 86/100\n",
            "112/112 [==============================] - 0s 292us/sample - loss: 0.4770 - accuracy: 0.7857 - val_loss: 0.4979 - val_accuracy: 0.8158\n",
            "Epoch 87/100\n",
            "112/112 [==============================] - 0s 357us/sample - loss: 0.4755 - accuracy: 0.8036 - val_loss: 0.4930 - val_accuracy: 0.8947\n",
            "Epoch 88/100\n",
            "112/112 [==============================] - 0s 302us/sample - loss: 0.4737 - accuracy: 0.8304 - val_loss: 0.4940 - val_accuracy: 0.8421\n",
            "Epoch 89/100\n",
            "112/112 [==============================] - 0s 331us/sample - loss: 0.4731 - accuracy: 0.7946 - val_loss: 0.4918 - val_accuracy: 0.8684\n",
            "Epoch 90/100\n",
            "112/112 [==============================] - 0s 393us/sample - loss: 0.4703 - accuracy: 0.8125 - val_loss: 0.4916 - val_accuracy: 0.8158\n",
            "Epoch 91/100\n",
            "112/112 [==============================] - 0s 299us/sample - loss: 0.4680 - accuracy: 0.8214 - val_loss: 0.4930 - val_accuracy: 0.8158\n",
            "Epoch 92/100\n",
            "112/112 [==============================] - 0s 291us/sample - loss: 0.4667 - accuracy: 0.8125 - val_loss: 0.4875 - val_accuracy: 0.8684\n",
            "Epoch 93/100\n",
            "112/112 [==============================] - 0s 304us/sample - loss: 0.4659 - accuracy: 0.8304 - val_loss: 0.4948 - val_accuracy: 0.8158\n",
            "Epoch 94/100\n",
            "112/112 [==============================] - 0s 300us/sample - loss: 0.4657 - accuracy: 0.8125 - val_loss: 0.4934 - val_accuracy: 0.8158\n",
            "Epoch 95/100\n",
            "112/112 [==============================] - 0s 287us/sample - loss: 0.4685 - accuracy: 0.8125 - val_loss: 0.4836 - val_accuracy: 0.8684\n",
            "Epoch 96/100\n",
            "112/112 [==============================] - 0s 283us/sample - loss: 0.4605 - accuracy: 0.8482 - val_loss: 0.4876 - val_accuracy: 0.8158\n",
            "Epoch 97/100\n",
            "112/112 [==============================] - 0s 269us/sample - loss: 0.4598 - accuracy: 0.8214 - val_loss: 0.4830 - val_accuracy: 0.8158\n",
            "Epoch 98/100\n",
            "112/112 [==============================] - 0s 278us/sample - loss: 0.4586 - accuracy: 0.8214 - val_loss: 0.4785 - val_accuracy: 0.8947\n",
            "Epoch 99/100\n",
            "112/112 [==============================] - 0s 285us/sample - loss: 0.4577 - accuracy: 0.8482 - val_loss: 0.4875 - val_accuracy: 0.8158\n",
            "Epoch 100/100\n",
            "112/112 [==============================] - 0s 291us/sample - loss: 0.4556 - accuracy: 0.8125 - val_loss: 0.4783 - val_accuracy: 0.8421\n"
          ],
          "name": "stdout"
        },
        {
          "output_type": "execute_result",
          "data": {
            "text/plain": [
              "<tensorflow.python.keras.callbacks.History at 0x7f55a4b2bc50>"
            ]
          },
          "metadata": {
            "tags": []
          },
          "execution_count": 80
        }
      ]
    },
    {
      "cell_type": "markdown",
      "metadata": {
        "id": "re9ItAR3yS3J",
        "colab_type": "text"
      },
      "source": [
        "## Question 10"
      ]
    },
    {
      "cell_type": "markdown",
      "metadata": {
        "id": "liw0IFf9yVqH",
        "colab_type": "text"
      },
      "source": [
        "### Make predictions\n",
        "- Predict labels on one row"
      ]
    },
    {
      "cell_type": "code",
      "metadata": {
        "id": "H5sBybi6mlLl",
        "colab_type": "code",
        "colab": {}
      },
      "source": [
        "import numpy as np"
      ],
      "execution_count": 0,
      "outputs": []
    },
    {
      "cell_type": "code",
      "metadata": {
        "id": "r5o73xEKwe1B",
        "colab_type": "code",
        "outputId": "2a1852e5-003b-4ff0-f9ae-0a8f9e23eb58",
        "colab": {
          "base_uri": "https://localhost:8080/",
          "height": 34
        }
      },
      "source": [
        "input_data = np.expand_dims(X_test[0], axis=0)\n",
        "print(input_data.shape)"
      ],
      "execution_count": 0,
      "outputs": [
        {
          "output_type": "stream",
          "text": [
            "(1, 4)\n"
          ],
          "name": "stdout"
        }
      ]
    },
    {
      "cell_type": "code",
      "metadata": {
        "id": "DvMyFiB0wfAi",
        "colab_type": "code",
        "outputId": "962629b3-7dad-46e1-a24a-70557cff95ab",
        "colab": {
          "base_uri": "https://localhost:8080/",
          "height": 34
        }
      },
      "source": [
        "pred = model.predict(input_data)\n",
        "pred"
      ],
      "execution_count": 0,
      "outputs": [
        {
          "output_type": "execute_result",
          "data": {
            "text/plain": [
              "array([[0.06005713, 0.60954106, 0.33040178]], dtype=float32)"
            ]
          },
          "metadata": {
            "tags": []
          },
          "execution_count": 84
        }
      ]
    },
    {
      "cell_type": "code",
      "metadata": {
        "id": "1bd1ig4Jyxun",
        "colab_type": "code",
        "outputId": "1ee959e3-e7e5-4b4e-e9d8-d66ca25fc428",
        "colab": {
          "base_uri": "https://localhost:8080/",
          "height": 50
        }
      },
      "source": [
        "model.predict_classes(X_test)"
      ],
      "execution_count": 0,
      "outputs": [
        {
          "output_type": "execute_result",
          "data": {
            "text/plain": [
              "array([1, 2, 0, 2, 0, 1, 1, 1, 0, 2, 2, 2, 1, 0, 0, 2, 2, 0, 0, 0, 2, 2,\n",
              "       2, 0, 2, 0, 1, 1, 1, 2, 1, 1, 1, 2, 2, 0, 2, 2])"
            ]
          },
          "metadata": {
            "tags": []
          },
          "execution_count": 87
        }
      ]
    },
    {
      "cell_type": "markdown",
      "metadata": {
        "id": "hSUgMq3m0bG7",
        "colab_type": "text"
      },
      "source": [
        "### Compare the prediction with actual label\n",
        "- Print the same row as done in the previous step but of actual labels"
      ]
    },
    {
      "cell_type": "code",
      "metadata": {
        "id": "K5WbwVPyz-qQ",
        "colab_type": "code",
        "outputId": "4bb7a86f-4cc6-456f-b452-740c9ac60bbf",
        "colab": {
          "base_uri": "https://localhost:8080/",
          "height": 34
        }
      },
      "source": [
        "y_test[0]"
      ],
      "execution_count": 0,
      "outputs": [
        {
          "output_type": "execute_result",
          "data": {
            "text/plain": [
              "array([0., 1., 0.], dtype=float32)"
            ]
          },
          "metadata": {
            "tags": []
          },
          "execution_count": 85
        }
      ]
    },
    {
      "cell_type": "code",
      "metadata": {
        "id": "D7JWpxyNzCZE",
        "colab_type": "code",
        "outputId": "42422c80-4fdd-4087-92fc-9bcf63eebbfe",
        "colab": {
          "base_uri": "https://localhost:8080/",
          "height": 655
        }
      },
      "source": [
        "y_test"
      ],
      "execution_count": 0,
      "outputs": [
        {
          "output_type": "execute_result",
          "data": {
            "text/plain": [
              "array([[0., 1., 0.],\n",
              "       [0., 0., 1.],\n",
              "       [1., 0., 0.],\n",
              "       [0., 1., 0.],\n",
              "       [1., 0., 0.],\n",
              "       [0., 1., 0.],\n",
              "       [0., 1., 0.],\n",
              "       [0., 1., 0.],\n",
              "       [1., 0., 0.],\n",
              "       [0., 1., 0.],\n",
              "       [0., 1., 0.],\n",
              "       [0., 0., 1.],\n",
              "       [0., 1., 0.],\n",
              "       [1., 0., 0.],\n",
              "       [1., 0., 0.],\n",
              "       [0., 0., 1.],\n",
              "       [0., 1., 0.],\n",
              "       [1., 0., 0.],\n",
              "       [1., 0., 0.],\n",
              "       [1., 0., 0.],\n",
              "       [0., 0., 1.],\n",
              "       [0., 0., 1.],\n",
              "       [0., 0., 1.],\n",
              "       [1., 0., 0.],\n",
              "       [0., 1., 0.],\n",
              "       [1., 0., 0.],\n",
              "       [0., 1., 0.],\n",
              "       [0., 1., 0.],\n",
              "       [0., 1., 0.],\n",
              "       [0., 0., 1.],\n",
              "       [0., 1., 0.],\n",
              "       [0., 1., 0.],\n",
              "       [0., 0., 1.],\n",
              "       [0., 0., 1.],\n",
              "       [0., 0., 1.],\n",
              "       [1., 0., 0.],\n",
              "       [0., 0., 1.],\n",
              "       [0., 0., 1.]], dtype=float32)"
            ]
          },
          "metadata": {
            "tags": []
          },
          "execution_count": 88
        }
      ]
    },
    {
      "cell_type": "markdown",
      "metadata": {
        "id": "FrTKwbgE7NFT",
        "colab_type": "text"
      },
      "source": [
        "\n",
        "\n",
        "---\n",
        "\n"
      ]
    },
    {
      "cell_type": "markdown",
      "metadata": {
        "id": "a1UBYPNp5Tn1",
        "colab_type": "text"
      },
      "source": [
        "# Stock prices dataset\n",
        "The data is of tock exchange's stock listings for each trading day of 2010 to 2016.\n",
        "\n",
        "## Description\n",
        "A brief description of columns.\n",
        "- open: The opening market price of the equity symbol on the date\n",
        "- high: The highest market price of the equity symbol on the date\n",
        "- low: The lowest recorded market price of the equity symbol on the date\n",
        "- close: The closing recorded price of the equity symbol on the date\n",
        "- symbol: Symbol of the listed company\n",
        "- volume: Total traded volume of the equity symbol on the date\n",
        "- date: Date of record"
      ]
    },
    {
      "cell_type": "markdown",
      "metadata": {
        "colab_type": "text",
        "id": "ctH_ZW5g-M3g"
      },
      "source": [
        "### Specifying the TensorFlow version\n",
        "Running `import tensorflow` will import the default version (currently 1.x). You can use 2.x by running a cell with the `tensorflow_version` magic **before** you run `import tensorflow`."
      ]
    },
    {
      "cell_type": "code",
      "metadata": {
        "colab_type": "code",
        "id": "vQbdODpH-M3r",
        "colab": {}
      },
      "source": [
        "%tensorflow_version 2.x"
      ],
      "execution_count": 0,
      "outputs": []
    },
    {
      "cell_type": "markdown",
      "metadata": {
        "colab_type": "text",
        "id": "nFQWH1tj-M38"
      },
      "source": [
        "### Import TensorFlow\n",
        "Once you have specified a version via this magic, you can run `import tensorflow` as normal and verify which version was imported as follows:"
      ]
    },
    {
      "cell_type": "code",
      "metadata": {
        "colab_type": "code",
        "id": "Ho5n-xhd-M3_",
        "outputId": "546b02a6-ec23-43a9-c7ff-73f815585489",
        "colab": {
          "base_uri": "https://localhost:8080/",
          "height": 34
        }
      },
      "source": [
        "import tensorflow as tf\n",
        "print(tf.__version__)"
      ],
      "execution_count": 0,
      "outputs": [
        {
          "output_type": "stream",
          "text": [
            "2.0.0-rc2\n"
          ],
          "name": "stdout"
        }
      ]
    },
    {
      "cell_type": "markdown",
      "metadata": {
        "colab_type": "text",
        "id": "tgkl0qu6-M4F"
      },
      "source": [
        "### Set random seed"
      ]
    },
    {
      "cell_type": "code",
      "metadata": {
        "colab_type": "code",
        "id": "TKgTyuA3-M4G",
        "colab": {}
      },
      "source": [
        "tf.random.set_seed(42)"
      ],
      "execution_count": 0,
      "outputs": []
    },
    {
      "cell_type": "markdown",
      "metadata": {
        "id": "_88voqAH-O6J",
        "colab_type": "text"
      },
      "source": [
        "## Question 1"
      ]
    },
    {
      "cell_type": "markdown",
      "metadata": {
        "id": "dRHCeJqP-evf",
        "colab_type": "text"
      },
      "source": [
        "### Load the data\n",
        "- load the csv file and read it using pandas\n",
        "- file name is prices.csv"
      ]
    },
    {
      "cell_type": "code",
      "metadata": {
        "colab_type": "code",
        "id": "-puZX6Fn0hyi",
        "colab": {}
      },
      "source": [
        "# run this cell to upload file if you are using google colab\n",
        "#from google.colab import files\n",
        "#files.upload\n",
        "import pandas as pd"
      ],
      "execution_count": 0,
      "outputs": []
    },
    {
      "cell_type": "code",
      "metadata": {
        "id": "-gDC6cSW_FSK",
        "colab_type": "code",
        "colab": {}
      },
      "source": [
        "prices = pd.read_csv('prices.csv')"
      ],
      "execution_count": 0,
      "outputs": []
    },
    {
      "cell_type": "code",
      "metadata": {
        "id": "9Vp0VteE0vp7",
        "colab_type": "code",
        "outputId": "198dcbfa-000a-43ce-b457-b0f760cae0b9",
        "colab": {
          "base_uri": "https://localhost:8080/",
          "height": 195
        }
      },
      "source": [
        "prices.head()"
      ],
      "execution_count": 0,
      "outputs": [
        {
          "output_type": "execute_result",
          "data": {
            "text/html": [
              "<div>\n",
              "<style scoped>\n",
              "    .dataframe tbody tr th:only-of-type {\n",
              "        vertical-align: middle;\n",
              "    }\n",
              "\n",
              "    .dataframe tbody tr th {\n",
              "        vertical-align: top;\n",
              "    }\n",
              "\n",
              "    .dataframe thead th {\n",
              "        text-align: right;\n",
              "    }\n",
              "</style>\n",
              "<table border=\"1\" class=\"dataframe\">\n",
              "  <thead>\n",
              "    <tr style=\"text-align: right;\">\n",
              "      <th></th>\n",
              "      <th>date</th>\n",
              "      <th>symbol</th>\n",
              "      <th>open</th>\n",
              "      <th>close</th>\n",
              "      <th>low</th>\n",
              "      <th>high</th>\n",
              "      <th>volume</th>\n",
              "    </tr>\n",
              "  </thead>\n",
              "  <tbody>\n",
              "    <tr>\n",
              "      <th>0</th>\n",
              "      <td>2016-01-05 00:00:00</td>\n",
              "      <td>WLTW</td>\n",
              "      <td>123.430000</td>\n",
              "      <td>125.839996</td>\n",
              "      <td>122.309998</td>\n",
              "      <td>126.250000</td>\n",
              "      <td>2163600.0</td>\n",
              "    </tr>\n",
              "    <tr>\n",
              "      <th>1</th>\n",
              "      <td>2016-01-06 00:00:00</td>\n",
              "      <td>WLTW</td>\n",
              "      <td>125.239998</td>\n",
              "      <td>119.980003</td>\n",
              "      <td>119.940002</td>\n",
              "      <td>125.540001</td>\n",
              "      <td>2386400.0</td>\n",
              "    </tr>\n",
              "    <tr>\n",
              "      <th>2</th>\n",
              "      <td>2016-01-07 00:00:00</td>\n",
              "      <td>WLTW</td>\n",
              "      <td>116.379997</td>\n",
              "      <td>114.949997</td>\n",
              "      <td>114.930000</td>\n",
              "      <td>119.739998</td>\n",
              "      <td>2489500.0</td>\n",
              "    </tr>\n",
              "    <tr>\n",
              "      <th>3</th>\n",
              "      <td>2016-01-08 00:00:00</td>\n",
              "      <td>WLTW</td>\n",
              "      <td>115.480003</td>\n",
              "      <td>116.620003</td>\n",
              "      <td>113.500000</td>\n",
              "      <td>117.440002</td>\n",
              "      <td>2006300.0</td>\n",
              "    </tr>\n",
              "    <tr>\n",
              "      <th>4</th>\n",
              "      <td>2016-01-11 00:00:00</td>\n",
              "      <td>WLTW</td>\n",
              "      <td>117.010002</td>\n",
              "      <td>114.970001</td>\n",
              "      <td>114.089996</td>\n",
              "      <td>117.330002</td>\n",
              "      <td>1408600.0</td>\n",
              "    </tr>\n",
              "  </tbody>\n",
              "</table>\n",
              "</div>"
            ],
            "text/plain": [
              "                  date symbol        open  ...         low        high     volume\n",
              "0  2016-01-05 00:00:00   WLTW  123.430000  ...  122.309998  126.250000  2163600.0\n",
              "1  2016-01-06 00:00:00   WLTW  125.239998  ...  119.940002  125.540001  2386400.0\n",
              "2  2016-01-07 00:00:00   WLTW  116.379997  ...  114.930000  119.739998  2489500.0\n",
              "3  2016-01-08 00:00:00   WLTW  115.480003  ...  113.500000  117.440002  2006300.0\n",
              "4  2016-01-11 00:00:00   WLTW  117.010002  ...  114.089996  117.330002  1408600.0\n",
              "\n",
              "[5 rows x 7 columns]"
            ]
          },
          "metadata": {
            "tags": []
          },
          "execution_count": 98
        }
      ]
    },
    {
      "cell_type": "code",
      "metadata": {
        "id": "goid_qDr00Wj",
        "colab_type": "code",
        "outputId": "10c8e7bf-1cdb-429b-ce06-7b5ad4c44650",
        "colab": {
          "base_uri": "https://localhost:8080/",
          "height": 218
        }
      },
      "source": [
        "prices.info()"
      ],
      "execution_count": 0,
      "outputs": [
        {
          "output_type": "stream",
          "text": [
            "<class 'pandas.core.frame.DataFrame'>\n",
            "RangeIndex: 98922 entries, 0 to 98921\n",
            "Data columns (total 7 columns):\n",
            "date      98922 non-null object\n",
            "symbol    98922 non-null object\n",
            "open      98922 non-null float64\n",
            "close     98922 non-null float64\n",
            "low       98922 non-null float64\n",
            "high      98922 non-null float64\n",
            "volume    98922 non-null float64\n",
            "dtypes: float64(5), object(2)\n",
            "memory usage: 5.3+ MB\n"
          ],
          "name": "stdout"
        }
      ]
    },
    {
      "cell_type": "markdown",
      "metadata": {
        "id": "HlLKVPVH_BCT",
        "colab_type": "text"
      },
      "source": [
        "## Question 2"
      ]
    },
    {
      "cell_type": "markdown",
      "metadata": {
        "id": "9J4BlzVA_gZd",
        "colab_type": "text"
      },
      "source": [
        "### Drop columnns\n",
        "- drop \"date\" and \"symbol\" column from the data"
      ]
    },
    {
      "cell_type": "code",
      "metadata": {
        "id": "IKEK8aEE_Csx",
        "colab_type": "code",
        "colab": {}
      },
      "source": [
        "prices = prices.drop(columns = ['date','symbol'])"
      ],
      "execution_count": 0,
      "outputs": []
    },
    {
      "cell_type": "code",
      "metadata": {
        "id": "PoXdvc7Y1cQs",
        "colab_type": "code",
        "outputId": "f4b06b84-4440-4c51-c625-fe0b08749c00",
        "colab": {
          "base_uri": "https://localhost:8080/",
          "height": 195
        }
      },
      "source": [
        "prices.head()"
      ],
      "execution_count": 0,
      "outputs": [
        {
          "output_type": "execute_result",
          "data": {
            "text/html": [
              "<div>\n",
              "<style scoped>\n",
              "    .dataframe tbody tr th:only-of-type {\n",
              "        vertical-align: middle;\n",
              "    }\n",
              "\n",
              "    .dataframe tbody tr th {\n",
              "        vertical-align: top;\n",
              "    }\n",
              "\n",
              "    .dataframe thead th {\n",
              "        text-align: right;\n",
              "    }\n",
              "</style>\n",
              "<table border=\"1\" class=\"dataframe\">\n",
              "  <thead>\n",
              "    <tr style=\"text-align: right;\">\n",
              "      <th></th>\n",
              "      <th>open</th>\n",
              "      <th>close</th>\n",
              "      <th>low</th>\n",
              "      <th>high</th>\n",
              "      <th>volume</th>\n",
              "    </tr>\n",
              "  </thead>\n",
              "  <tbody>\n",
              "    <tr>\n",
              "      <th>0</th>\n",
              "      <td>123.430000</td>\n",
              "      <td>125.839996</td>\n",
              "      <td>122.309998</td>\n",
              "      <td>126.250000</td>\n",
              "      <td>2163600.0</td>\n",
              "    </tr>\n",
              "    <tr>\n",
              "      <th>1</th>\n",
              "      <td>125.239998</td>\n",
              "      <td>119.980003</td>\n",
              "      <td>119.940002</td>\n",
              "      <td>125.540001</td>\n",
              "      <td>2386400.0</td>\n",
              "    </tr>\n",
              "    <tr>\n",
              "      <th>2</th>\n",
              "      <td>116.379997</td>\n",
              "      <td>114.949997</td>\n",
              "      <td>114.930000</td>\n",
              "      <td>119.739998</td>\n",
              "      <td>2489500.0</td>\n",
              "    </tr>\n",
              "    <tr>\n",
              "      <th>3</th>\n",
              "      <td>115.480003</td>\n",
              "      <td>116.620003</td>\n",
              "      <td>113.500000</td>\n",
              "      <td>117.440002</td>\n",
              "      <td>2006300.0</td>\n",
              "    </tr>\n",
              "    <tr>\n",
              "      <th>4</th>\n",
              "      <td>117.010002</td>\n",
              "      <td>114.970001</td>\n",
              "      <td>114.089996</td>\n",
              "      <td>117.330002</td>\n",
              "      <td>1408600.0</td>\n",
              "    </tr>\n",
              "  </tbody>\n",
              "</table>\n",
              "</div>"
            ],
            "text/plain": [
              "         open       close         low        high     volume\n",
              "0  123.430000  125.839996  122.309998  126.250000  2163600.0\n",
              "1  125.239998  119.980003  119.940002  125.540001  2386400.0\n",
              "2  116.379997  114.949997  114.930000  119.739998  2489500.0\n",
              "3  115.480003  116.620003  113.500000  117.440002  2006300.0\n",
              "4  117.010002  114.970001  114.089996  117.330002  1408600.0"
            ]
          },
          "metadata": {
            "tags": []
          },
          "execution_count": 102
        }
      ]
    },
    {
      "cell_type": "markdown",
      "metadata": {
        "id": "cTPhO6v-AiZt",
        "colab_type": "text"
      },
      "source": [
        "## Question 3"
      ]
    },
    {
      "cell_type": "markdown",
      "metadata": {
        "id": "SsZXmF3NAkna",
        "colab_type": "text"
      },
      "source": [
        "### Take initial rows\n",
        "- Take first 1000 rows from the data\n",
        "- This step is done to make the execution faster"
      ]
    },
    {
      "cell_type": "code",
      "metadata": {
        "id": "aKs04iIHAjxN",
        "colab_type": "code",
        "outputId": "7928a4f9-b480-4488-d319-672d36138233",
        "colab": {
          "base_uri": "https://localhost:8080/",
          "height": 34
        }
      },
      "source": [
        "prices.shape"
      ],
      "execution_count": 0,
      "outputs": [
        {
          "output_type": "execute_result",
          "data": {
            "text/plain": [
              "(98922, 5)"
            ]
          },
          "metadata": {
            "tags": []
          },
          "execution_count": 103
        }
      ]
    },
    {
      "cell_type": "code",
      "metadata": {
        "id": "1Tgkjkgv11tc",
        "colab_type": "code",
        "colab": {}
      },
      "source": [
        "data = prices.head(1000)"
      ],
      "execution_count": 0,
      "outputs": []
    },
    {
      "cell_type": "code",
      "metadata": {
        "id": "AfmGKIMu2B1m",
        "colab_type": "code",
        "outputId": "450e05a9-2f3e-46fe-8754-62a8275da174",
        "colab": {
          "base_uri": "https://localhost:8080/",
          "height": 34
        }
      },
      "source": [
        "data.shape"
      ],
      "execution_count": 0,
      "outputs": [
        {
          "output_type": "execute_result",
          "data": {
            "text/plain": [
              "(1000, 5)"
            ]
          },
          "metadata": {
            "tags": []
          },
          "execution_count": 105
        }
      ]
    },
    {
      "cell_type": "markdown",
      "metadata": {
        "id": "6vGtnapgBIJm",
        "colab_type": "text"
      },
      "source": [
        "## Question 4"
      ]
    },
    {
      "cell_type": "markdown",
      "metadata": {
        "colab_type": "text",
        "id": "C8u_jlbABTip"
      },
      "source": [
        "### Get features and label from the dataset in separate variable\n",
        "- Take \"open\", \"close\", \"low\", \"high\" columns as features\n",
        "- Take \"volume\" column as label\n",
        "- Normalize label column by dividing it with 1000000"
      ]
    },
    {
      "cell_type": "code",
      "metadata": {
        "id": "xQjCMzUXBJbg",
        "colab_type": "code",
        "colab": {}
      },
      "source": [
        "features = data.drop(columns = 'volume')\n",
        "label = data['volume']/1000000"
      ],
      "execution_count": 0,
      "outputs": []
    },
    {
      "cell_type": "code",
      "metadata": {
        "id": "Jes__ukg2bMm",
        "colab_type": "code",
        "outputId": "d8980977-9222-4718-edac-c67e681ad34e",
        "colab": {
          "base_uri": "https://localhost:8080/",
          "height": 195
        }
      },
      "source": [
        "features.head()"
      ],
      "execution_count": 0,
      "outputs": [
        {
          "output_type": "execute_result",
          "data": {
            "text/html": [
              "<div>\n",
              "<style scoped>\n",
              "    .dataframe tbody tr th:only-of-type {\n",
              "        vertical-align: middle;\n",
              "    }\n",
              "\n",
              "    .dataframe tbody tr th {\n",
              "        vertical-align: top;\n",
              "    }\n",
              "\n",
              "    .dataframe thead th {\n",
              "        text-align: right;\n",
              "    }\n",
              "</style>\n",
              "<table border=\"1\" class=\"dataframe\">\n",
              "  <thead>\n",
              "    <tr style=\"text-align: right;\">\n",
              "      <th></th>\n",
              "      <th>open</th>\n",
              "      <th>close</th>\n",
              "      <th>low</th>\n",
              "      <th>high</th>\n",
              "    </tr>\n",
              "  </thead>\n",
              "  <tbody>\n",
              "    <tr>\n",
              "      <th>0</th>\n",
              "      <td>123.430000</td>\n",
              "      <td>125.839996</td>\n",
              "      <td>122.309998</td>\n",
              "      <td>126.250000</td>\n",
              "    </tr>\n",
              "    <tr>\n",
              "      <th>1</th>\n",
              "      <td>125.239998</td>\n",
              "      <td>119.980003</td>\n",
              "      <td>119.940002</td>\n",
              "      <td>125.540001</td>\n",
              "    </tr>\n",
              "    <tr>\n",
              "      <th>2</th>\n",
              "      <td>116.379997</td>\n",
              "      <td>114.949997</td>\n",
              "      <td>114.930000</td>\n",
              "      <td>119.739998</td>\n",
              "    </tr>\n",
              "    <tr>\n",
              "      <th>3</th>\n",
              "      <td>115.480003</td>\n",
              "      <td>116.620003</td>\n",
              "      <td>113.500000</td>\n",
              "      <td>117.440002</td>\n",
              "    </tr>\n",
              "    <tr>\n",
              "      <th>4</th>\n",
              "      <td>117.010002</td>\n",
              "      <td>114.970001</td>\n",
              "      <td>114.089996</td>\n",
              "      <td>117.330002</td>\n",
              "    </tr>\n",
              "  </tbody>\n",
              "</table>\n",
              "</div>"
            ],
            "text/plain": [
              "         open       close         low        high\n",
              "0  123.430000  125.839996  122.309998  126.250000\n",
              "1  125.239998  119.980003  119.940002  125.540001\n",
              "2  116.379997  114.949997  114.930000  119.739998\n",
              "3  115.480003  116.620003  113.500000  117.440002\n",
              "4  117.010002  114.970001  114.089996  117.330002"
            ]
          },
          "metadata": {
            "tags": []
          },
          "execution_count": 124
        }
      ]
    },
    {
      "cell_type": "code",
      "metadata": {
        "id": "a6l9YfXM2d_O",
        "colab_type": "code",
        "outputId": "8c8f612f-4192-45f2-d80b-1e9544ca7a1e",
        "colab": {
          "base_uri": "https://localhost:8080/",
          "height": 118
        }
      },
      "source": [
        "label.head()"
      ],
      "execution_count": 0,
      "outputs": [
        {
          "output_type": "execute_result",
          "data": {
            "text/plain": [
              "0    2.1636\n",
              "1    2.3864\n",
              "2    2.4895\n",
              "3    2.0063\n",
              "4    1.4086\n",
              "Name: volume, dtype: float64"
            ]
          },
          "metadata": {
            "tags": []
          },
          "execution_count": 125
        }
      ]
    },
    {
      "cell_type": "markdown",
      "metadata": {
        "id": "aTAKzlxZBz0z",
        "colab_type": "text"
      },
      "source": [
        "## Question 5"
      ]
    },
    {
      "cell_type": "markdown",
      "metadata": {
        "id": "IfY8Km1Zzyt2",
        "colab_type": "text"
      },
      "source": [
        "### Convert data\n",
        "- Convert features and labels to numpy array\n",
        "- Convert their data type to \"float32\""
      ]
    },
    {
      "cell_type": "code",
      "metadata": {
        "id": "Ko7nnQVbYENh",
        "colab_type": "code",
        "colab": {}
      },
      "source": [
        "X = features.to_numpy()"
      ],
      "execution_count": 0,
      "outputs": []
    },
    {
      "cell_type": "code",
      "metadata": {
        "id": "JCkQCdXw2zKO",
        "colab_type": "code",
        "colab": {}
      },
      "source": [
        "y = label.to_numpy()"
      ],
      "execution_count": 0,
      "outputs": []
    },
    {
      "cell_type": "code",
      "metadata": {
        "id": "Eyzp_mUg23gv",
        "colab_type": "code",
        "outputId": "ae74ef86-48e7-49a2-c571-9ad1279ec732",
        "colab": {
          "base_uri": "https://localhost:8080/",
          "height": 34
        }
      },
      "source": [
        "type(X)"
      ],
      "execution_count": 0,
      "outputs": [
        {
          "output_type": "execute_result",
          "data": {
            "text/plain": [
              "numpy.ndarray"
            ]
          },
          "metadata": {
            "tags": []
          },
          "execution_count": 128
        }
      ]
    },
    {
      "cell_type": "code",
      "metadata": {
        "id": "6D1uDjgh28by",
        "colab_type": "code",
        "colab": {}
      },
      "source": [
        "X = X.astype('float32')\n",
        "y = y.astype('float32')"
      ],
      "execution_count": 0,
      "outputs": []
    },
    {
      "cell_type": "markdown",
      "metadata": {
        "colab_type": "text",
        "id": "3TWpN0nVTpUx"
      },
      "source": [
        "## Question 6"
      ]
    },
    {
      "cell_type": "markdown",
      "metadata": {
        "id": "WQ1FKEs-4btX",
        "colab_type": "text"
      },
      "source": [
        "### Normalize data\n",
        "- Normalize features\n",
        "- Use tf.math.l2_normalize to normalize features\n",
        "- You can read more about it here https://www.tensorflow.org/api_docs/python/tf/math/l2_normalize"
      ]
    },
    {
      "cell_type": "code",
      "metadata": {
        "id": "V0Tfe00X78wB",
        "colab_type": "code",
        "colab": {}
      },
      "source": [
        "X=tf.math.l2_normalize(X)"
      ],
      "execution_count": 0,
      "outputs": []
    },
    {
      "cell_type": "markdown",
      "metadata": {
        "colab_type": "text",
        "id": "wmXUGc2oTspa"
      },
      "source": [
        "## Question 7"
      ]
    },
    {
      "cell_type": "markdown",
      "metadata": {
        "id": "VJelDMpzxs0L",
        "colab_type": "text"
      },
      "source": [
        "### Define weight and bias\n",
        "- Initialize weight and bias with tf.zeros\n",
        "- tf.zeros is an initializer that generates tensors initialized to 0\n",
        "- Specify the value for shape"
      ]
    },
    {
      "cell_type": "code",
      "metadata": {
        "id": "8o9RPWVTxs0O",
        "colab_type": "code",
        "colab": {}
      },
      "source": [
        "w = tf.zeros(shape=(4,1))\n",
        "b = tf.zeros(shape=(1))"
      ],
      "execution_count": 0,
      "outputs": []
    },
    {
      "cell_type": "markdown",
      "metadata": {
        "colab_type": "text",
        "id": "8a0wr94aTyjg"
      },
      "source": [
        "## Question 8"
      ]
    },
    {
      "cell_type": "markdown",
      "metadata": {
        "id": "zMXXYdOSxs0Q",
        "colab_type": "text"
      },
      "source": [
        "### Get prediction\n",
        "- Define a function to get prediction\n",
        "- Approach: prediction = (X * W) + b; here is X is features"
      ]
    },
    {
      "cell_type": "code",
      "metadata": {
        "id": "U8Cty1y0xs0S",
        "colab_type": "code",
        "colab": {}
      },
      "source": [
        "def prediction(x, w, b):\n",
        "    \n",
        "    xw_matmul = tf.matmul(x, w)\n",
        "    y = tf.add(xw_matmul, b)\n",
        "    \n",
        "    return y"
      ],
      "execution_count": 0,
      "outputs": []
    },
    {
      "cell_type": "markdown",
      "metadata": {
        "id": "lQmS3Tauxs0V",
        "colab_type": "text"
      },
      "source": [
        "### Calculate loss\n",
        "- Calculate loss using predictions\n",
        "- Define a function to calculate loss\n",
        "- We are calculating mean squared error"
      ]
    },
    {
      "cell_type": "code",
      "metadata": {
        "id": "-FRXmDd5xs0X",
        "colab_type": "code",
        "colab": {}
      },
      "source": [
        "def loss(y_actual, y_predicted):\n",
        "    \n",
        "    diff = y_actual - y_predicted\n",
        "    sqr = tf.square(diff)\n",
        "    avg = tf.reduce_mean(sqr)\n",
        "    \n",
        "    return avg"
      ],
      "execution_count": 0,
      "outputs": []
    },
    {
      "cell_type": "markdown",
      "metadata": {
        "colab_type": "text",
        "id": "ZbBpnOtfT0wd"
      },
      "source": [
        "## Question 9"
      ]
    },
    {
      "cell_type": "markdown",
      "metadata": {
        "id": "bkOzAUUsTmF_",
        "colab_type": "text"
      },
      "source": [
        "### Define a function to train the model\n",
        "1.   Record all the mathematical steps to calculate Loss\n",
        "2.   Calculate Gradients of Loss w.r.t weights and bias\n",
        "3.   Update Weights and Bias based on gradients and learning rate to minimize loss"
      ]
    },
    {
      "cell_type": "code",
      "metadata": {
        "id": "2R4uieGYLYtM",
        "colab_type": "code",
        "colab": {}
      },
      "source": [
        "def train(x, y_actual, w, b, learning_rate=0.01):\n",
        "    \n",
        "    #Record mathematical operations on 'tape' to calculate loss\n",
        "    with tf.GradientTape() as t:\n",
        "        \n",
        "        t.watch([w,b])\n",
        "        \n",
        "        current_prediction = prediction(x, w, b)\n",
        "        current_loss = loss(y_actual, current_prediction)\n",
        "    \n",
        "    #Calculate Gradients for Loss with respect to Weights and Bias\n",
        "    dw, db = t.gradient(current_loss,[w, b])\n",
        "    \n",
        "    #Update Weights and Bias\n",
        "    w = w - learning_rate*dw\n",
        "    b = b - learning_rate*db\n",
        "    \n",
        "    return w, b"
      ],
      "execution_count": 0,
      "outputs": []
    },
    {
      "cell_type": "markdown",
      "metadata": {
        "colab_type": "text",
        "id": "AW4SEP8kT2ls"
      },
      "source": [
        "## Question 10"
      ]
    },
    {
      "cell_type": "markdown",
      "metadata": {
        "id": "yeN0deOvT81N",
        "colab_type": "text"
      },
      "source": [
        "### Train the model for 100 epochs \n",
        "- Observe the training loss at every iteration"
      ]
    },
    {
      "cell_type": "code",
      "metadata": {
        "id": "Jjkn4gUgLevE",
        "colab_type": "code",
        "colab": {
          "base_uri": "https://localhost:8080/",
          "height": 1000
        },
        "outputId": "a7b8a3e0-24d3-4aa5-8d5c-069fc638f415"
      },
      "source": [
        "for i in range(100):\n",
        "    \n",
        "    w, b = train(X, y, w, b, learning_rate=0.01)\n",
        "    print('Current Loss on iteration', i, \n",
        "          loss(y, prediction(X, w, b)).numpy())"
      ],
      "execution_count": 149,
      "outputs": [
        {
          "output_type": "stream",
          "text": [
            "Current Loss on iteration 0 236.16776\n",
            "Current Loss on iteration 1 235.09312\n",
            "Current Loss on iteration 2 234.06105\n",
            "Current Loss on iteration 3 233.0699\n",
            "Current Loss on iteration 4 232.11801\n",
            "Current Loss on iteration 5 231.20383\n",
            "Current Loss on iteration 6 230.32588\n",
            "Current Loss on iteration 7 229.48273\n",
            "Current Loss on iteration 8 228.67296\n",
            "Current Loss on iteration 9 227.8953\n",
            "Current Loss on iteration 10 227.14842\n",
            "Current Loss on iteration 11 226.43114\n",
            "Current Loss on iteration 12 225.74234\n",
            "Current Loss on iteration 13 225.08076\n",
            "Current Loss on iteration 14 224.44542\n",
            "Current Loss on iteration 15 223.83525\n",
            "Current Loss on iteration 16 223.24927\n",
            "Current Loss on iteration 17 222.68645\n",
            "Current Loss on iteration 18 222.146\n",
            "Current Loss on iteration 19 221.62692\n",
            "Current Loss on iteration 20 221.12845\n",
            "Current Loss on iteration 21 220.64972\n",
            "Current Loss on iteration 22 220.18996\n",
            "Current Loss on iteration 23 219.74837\n",
            "Current Loss on iteration 24 219.32433\n",
            "Current Loss on iteration 25 218.91707\n",
            "Current Loss on iteration 26 218.52594\n",
            "Current Loss on iteration 27 218.15028\n",
            "Current Loss on iteration 28 217.78957\n",
            "Current Loss on iteration 29 217.44312\n",
            "Current Loss on iteration 30 217.11038\n",
            "Current Loss on iteration 31 216.79086\n",
            "Current Loss on iteration 32 216.48398\n",
            "Current Loss on iteration 33 216.18927\n",
            "Current Loss on iteration 34 215.9062\n",
            "Current Loss on iteration 35 215.63438\n",
            "Current Loss on iteration 36 215.37332\n",
            "Current Loss on iteration 37 215.12262\n",
            "Current Loss on iteration 38 214.88182\n",
            "Current Loss on iteration 39 214.6506\n",
            "Current Loss on iteration 40 214.42853\n",
            "Current Loss on iteration 41 214.21524\n",
            "Current Loss on iteration 42 214.01044\n",
            "Current Loss on iteration 43 213.8137\n",
            "Current Loss on iteration 44 213.6248\n",
            "Current Loss on iteration 45 213.44337\n",
            "Current Loss on iteration 46 213.26913\n",
            "Current Loss on iteration 47 213.10176\n",
            "Current Loss on iteration 48 212.94109\n",
            "Current Loss on iteration 49 212.78674\n",
            "Current Loss on iteration 50 212.63852\n",
            "Current Loss on iteration 51 212.49617\n",
            "Current Loss on iteration 52 212.35944\n",
            "Current Loss on iteration 53 212.22815\n",
            "Current Loss on iteration 54 212.10207\n",
            "Current Loss on iteration 55 211.98096\n",
            "Current Loss on iteration 56 211.86464\n",
            "Current Loss on iteration 57 211.75299\n",
            "Current Loss on iteration 58 211.64569\n",
            "Current Loss on iteration 59 211.54271\n",
            "Current Loss on iteration 60 211.44376\n",
            "Current Loss on iteration 61 211.34872\n",
            "Current Loss on iteration 62 211.2575\n",
            "Current Loss on iteration 63 211.16988\n",
            "Current Loss on iteration 64 211.0857\n",
            "Current Loss on iteration 65 211.00488\n",
            "Current Loss on iteration 66 210.92723\n",
            "Current Loss on iteration 67 210.85272\n",
            "Current Loss on iteration 68 210.7811\n",
            "Current Loss on iteration 69 210.71236\n",
            "Current Loss on iteration 70 210.64632\n",
            "Current Loss on iteration 71 210.5829\n",
            "Current Loss on iteration 72 210.52199\n",
            "Current Loss on iteration 73 210.46352\n",
            "Current Loss on iteration 74 210.40733\n",
            "Current Loss on iteration 75 210.35338\n",
            "Current Loss on iteration 76 210.30156\n",
            "Current Loss on iteration 77 210.25183\n",
            "Current Loss on iteration 78 210.20403\n",
            "Current Loss on iteration 79 210.15813\n",
            "Current Loss on iteration 80 210.11407\n",
            "Current Loss on iteration 81 210.07172\n",
            "Current Loss on iteration 82 210.03108\n",
            "Current Loss on iteration 83 209.99205\n",
            "Current Loss on iteration 84 209.95454\n",
            "Current Loss on iteration 85 209.91853\n",
            "Current Loss on iteration 86 209.88396\n",
            "Current Loss on iteration 87 209.85075\n",
            "Current Loss on iteration 88 209.81883\n",
            "Current Loss on iteration 89 209.78822\n",
            "Current Loss on iteration 90 209.75882\n",
            "Current Loss on iteration 91 209.73055\n",
            "Current Loss on iteration 92 209.70343\n",
            "Current Loss on iteration 93 209.67735\n",
            "Current Loss on iteration 94 209.65233\n",
            "Current Loss on iteration 95 209.62828\n",
            "Current Loss on iteration 96 209.60522\n",
            "Current Loss on iteration 97 209.58304\n",
            "Current Loss on iteration 98 209.56177\n",
            "Current Loss on iteration 99 209.5413\n"
          ],
          "name": "stdout"
        }
      ]
    },
    {
      "cell_type": "markdown",
      "metadata": {
        "id": "vanvD93FV0_k",
        "colab_type": "text"
      },
      "source": [
        "### Observe values of Weight\n",
        "- Print the updated values"
      ]
    },
    {
      "cell_type": "code",
      "metadata": {
        "id": "QSqpy4gtWaOD",
        "colab_type": "code",
        "colab": {
          "base_uri": "https://localhost:8080/",
          "height": 101
        },
        "outputId": "6431654c-97dd-453c-c19d-f9d744599bbd"
      },
      "source": [
        "print('Weights:\\n', w.numpy())"
      ],
      "execution_count": 151,
      "outputs": [
        {
          "output_type": "stream",
          "text": [
            "Weights:\n",
            " [[0.0547828 ]\n",
            " [0.0548819 ]\n",
            " [0.05422734]\n",
            " [0.05533116]]\n"
          ],
          "name": "stdout"
        }
      ]
    },
    {
      "cell_type": "markdown",
      "metadata": {
        "colab_type": "text",
        "id": "y9KpRupYUEwy"
      },
      "source": [
        "### Observe values of Bias\n",
        "- Print the updated values"
      ]
    },
    {
      "cell_type": "code",
      "metadata": {
        "colab_type": "code",
        "id": "bhEWkGqHWohg",
        "colab": {
          "base_uri": "https://localhost:8080/",
          "height": 50
        },
        "outputId": "577b4596-9ec7-442c-961a-092d0ff79f55"
      },
      "source": [
        "print('Bias:\\n',b.numpy())"
      ],
      "execution_count": 152,
      "outputs": [
        {
          "output_type": "stream",
          "text": [
            "Bias:\n",
            " [4.607657]\n"
          ],
          "name": "stdout"
        }
      ]
    },
    {
      "cell_type": "code",
      "metadata": {
        "id": "GFXYgyCD9JKP",
        "colab_type": "code",
        "colab": {}
      },
      "source": [
        ""
      ],
      "execution_count": 0,
      "outputs": []
    }
  ]
}