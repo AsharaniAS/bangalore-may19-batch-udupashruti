{
  "nbformat": 4,
  "nbformat_minor": 0,
  "metadata": {
    "colab": {
      "name": "R8_External_Lab_CIFAR10_Transfer_Learning_TFIDF_Text_Classification.ipynb",
      "provenance": [],
      "collapsed_sections": [],
      "machine_shape": "hm"
    },
    "kernelspec": {
      "name": "python3",
      "display_name": "Python 3"
    },
    "accelerator": "GPU"
  },
  "cells": [
    {
      "cell_type": "markdown",
      "metadata": {
        "id": "QGIsF1ADyJ58",
        "colab_type": "text"
      },
      "source": [
        "# Transfer Learning CIFAR10"
      ]
    },
    {
      "cell_type": "markdown",
      "metadata": {
        "id": "E-n6tVFayGBe",
        "colab_type": "text"
      },
      "source": [
        "* Train a simple convnet on the CIFAR dataset the first 5 output classes [0..4].\n",
        "* Freeze convolutional layers and fine-tune dense layers for the last 5 ouput classes [5..9].\n"
      ]
    },
    {
      "cell_type": "markdown",
      "metadata": {
        "id": "Cq8ejXHJyGYq",
        "colab_type": "text"
      },
      "source": [
        "### 1. Import CIFAR10 data and create 2 datasets with one dataset having classes from 0 to 4 and other having classes from 5 to 9 "
      ]
    },
    {
      "cell_type": "code",
      "metadata": {
        "id": "uWYbxnBayFUP",
        "colab_type": "code",
        "colab": {}
      },
      "source": [
        "import random\n",
        "random.seed(0)\n",
        "\n",
        "import warnings\n",
        "warnings.filterwarnings(\"ignore\")"
      ],
      "execution_count": 0,
      "outputs": []
    },
    {
      "cell_type": "code",
      "metadata": {
        "id": "jhLbDReeIZ9N",
        "colab_type": "code",
        "colab": {}
      },
      "source": [
        "from keras.backend import backend\n",
        "from keras.datasets import cifar10\n",
        "(X_train, y_train), (X_test, y_test) = cifar10.load_data()"
      ],
      "execution_count": 0,
      "outputs": []
    },
    {
      "cell_type": "code",
      "metadata": {
        "id": "5k9wcRiOJlyZ",
        "colab_type": "code",
        "colab": {
          "base_uri": "https://localhost:8080/",
          "height": 300
        },
        "outputId": "c453d904-ab6a-4e5a-8d16-74cd74d2647b"
      },
      "source": [
        "import matplotlib.pyplot as plt\n",
        "%matplotlib inline\n",
        "print(\"Label: {}\".format(y_train[11]))\n",
        "plt.imshow(X_train[11], cmap='gray')"
      ],
      "execution_count": 23,
      "outputs": [
        {
          "output_type": "stream",
          "text": [
            "Label: [7]\n"
          ],
          "name": "stdout"
        },
        {
          "output_type": "execute_result",
          "data": {
            "text/plain": [
              "<matplotlib.image.AxesImage at 0x7f9ef581b128>"
            ]
          },
          "metadata": {
            "tags": []
          },
          "execution_count": 23
        },
        {
          "output_type": "display_data",
          "data": {
            "image/png": "[encoded data removed]",
            "text/plain": [
              "<Figure size 432x288 with 1 Axes>"
            ]
          },
          "metadata": {
            "tags": []
          }
        }
      ]
    },
    {
      "cell_type": "code",
      "metadata": {
        "id": "FtdevLWgIaBE",
        "colab_type": "code",
        "colab": {
          "base_uri": "https://localhost:8080/",
          "height": 101
        },
        "outputId": "a89ba8f8-8691-48ea-808c-07cf38507209"
      },
      "source": [
        "y_train[:5]"
      ],
      "execution_count": 36,
      "outputs": [
        {
          "output_type": "execute_result",
          "data": {
            "text/plain": [
              "array([[6],\n",
              "       [9],\n",
              "       [9],\n",
              "       [4],\n",
              "       [1]])"
            ]
          },
          "metadata": {
            "tags": []
          },
          "execution_count": 36
        }
      ]
    },
    {
      "cell_type": "code",
      "metadata": {
        "id": "w5MMGwHsJSLn",
        "colab_type": "code",
        "colab": {
          "base_uri": "https://localhost:8080/",
          "height": 34
        },
        "outputId": "84172e0f-b98f-4964-91a8-cb95a9dd4940"
      },
      "source": [
        "X_train.shape"
      ],
      "execution_count": 37,
      "outputs": [
        {
          "output_type": "execute_result",
          "data": {
            "text/plain": [
              "(50000, 32, 32, 3)"
            ]
          },
          "metadata": {
            "tags": []
          },
          "execution_count": 37
        }
      ]
    },
    {
      "cell_type": "code",
      "metadata": {
        "id": "S5oOw_0fKs42",
        "colab_type": "code",
        "colab": {
          "base_uri": "https://localhost:8080/",
          "height": 34
        },
        "outputId": "e9ff8725-0b44-4601-8a90-f619abdcf019"
      },
      "source": [
        "y_train.shape"
      ],
      "execution_count": 38,
      "outputs": [
        {
          "output_type": "execute_result",
          "data": {
            "text/plain": [
              "(50000, 1)"
            ]
          },
          "metadata": {
            "tags": []
          },
          "execution_count": 38
        }
      ]
    },
    {
      "cell_type": "code",
      "metadata": {
        "id": "bGTnsx6NKtFe",
        "colab_type": "code",
        "colab": {
          "base_uri": "https://localhost:8080/",
          "height": 34
        },
        "outputId": "f2e618c1-2d59-4ede-a52d-000fabe9841e"
      },
      "source": [
        "y_train[0]"
      ],
      "execution_count": 39,
      "outputs": [
        {
          "output_type": "execute_result",
          "data": {
            "text/plain": [
              "array([6])"
            ]
          },
          "metadata": {
            "tags": []
          },
          "execution_count": 39
        }
      ]
    },
    {
      "cell_type": "code",
      "metadata": {
        "id": "Gunk84y3Ljlb",
        "colab_type": "code",
        "colab": {
          "base_uri": "https://localhost:8080/",
          "height": 34
        },
        "outputId": "c0fb35d3-bb81-478a-a412-1610bf2d7793"
      },
      "source": [
        "y_train[0].shape"
      ],
      "execution_count": 40,
      "outputs": [
        {
          "output_type": "execute_result",
          "data": {
            "text/plain": [
              "(1,)"
            ]
          },
          "metadata": {
            "tags": []
          },
          "execution_count": 40
        }
      ]
    },
    {
      "cell_type": "code",
      "metadata": {
        "id": "dIdX1HyYLrKx",
        "colab_type": "code",
        "colab": {
          "base_uri": "https://localhost:8080/",
          "height": 34
        },
        "outputId": "a32d5493-2d3d-4b8b-88e6-cdf054bff046"
      },
      "source": [
        "type(y_train[0])"
      ],
      "execution_count": 49,
      "outputs": [
        {
          "output_type": "execute_result",
          "data": {
            "text/plain": [
              "numpy.ndarray"
            ]
          },
          "metadata": {
            "tags": []
          },
          "execution_count": 49
        }
      ]
    },
    {
      "cell_type": "code",
      "metadata": {
        "id": "kor6XWiDQU41",
        "colab_type": "code",
        "colab": {
          "base_uri": "https://localhost:8080/",
          "height": 34
        },
        "outputId": "881d0812-630d-478d-c212-99476d8093ca"
      },
      "source": [
        "type(y_train)"
      ],
      "execution_count": 50,
      "outputs": [
        {
          "output_type": "execute_result",
          "data": {
            "text/plain": [
              "numpy.ndarray"
            ]
          },
          "metadata": {
            "tags": []
          },
          "execution_count": 50
        }
      ]
    },
    {
      "cell_type": "code",
      "metadata": {
        "id": "Bxx25AmMQIGE",
        "colab_type": "code",
        "colab": {}
      },
      "source": [
        "import numpy as np"
      ],
      "execution_count": 0,
      "outputs": []
    },
    {
      "cell_type": "code",
      "metadata": {
        "id": "oKiZLXPOL527",
        "colab_type": "code",
        "colab": {}
      },
      "source": [
        "y_train = y_train.flatten()\n",
        "y_test = y_test.flatten()"
      ],
      "execution_count": 0,
      "outputs": []
    },
    {
      "cell_type": "code",
      "metadata": {
        "id": "pYRG0I1hOlZI",
        "colab_type": "code",
        "colab": {
          "base_uri": "https://localhost:8080/",
          "height": 34
        },
        "outputId": "8ea89747-b023-4e86-8402-da670c81fdd0"
      },
      "source": [
        "type(y_train[0])"
      ],
      "execution_count": 61,
      "outputs": [
        {
          "output_type": "execute_result",
          "data": {
            "text/plain": [
              "numpy.int64"
            ]
          },
          "metadata": {
            "tags": []
          },
          "execution_count": 61
        }
      ]
    },
    {
      "cell_type": "code",
      "metadata": {
        "id": "0_hkHYOHJSRf",
        "colab_type": "code",
        "colab": {}
      },
      "source": [
        "xtrain1 = X_train[y_train < 5]\n",
        "xtrain2 = X_train[y_train >= 5]\n",
        "xtest1 = X_test[y_test < 5]\n",
        "xtest2 = X_test[y_test >= 5]"
      ],
      "execution_count": 0,
      "outputs": []
    },
    {
      "cell_type": "code",
      "metadata": {
        "id": "BE9AXoBdJSPN",
        "colab_type": "code",
        "colab": {}
      },
      "source": [
        "ytrain1 = y_train[y_train < 5]\n",
        "ytrain2 = y_train[y_train >= 5]\n",
        "ytest1 = y_test[y_test < 5]\n",
        "ytest2 = y_test[y_test >= 5]"
      ],
      "execution_count": 0,
      "outputs": []
    },
    {
      "cell_type": "markdown",
      "metadata": {
        "id": "xtCKmQh4yXhT",
        "colab_type": "text"
      },
      "source": [
        "### 2. Use One-hot encoding to divide y_train and y_test into required no of output classes"
      ]
    },
    {
      "cell_type": "code",
      "metadata": {
        "id": "uN5O2kJ3yYa6",
        "colab_type": "code",
        "colab": {
          "base_uri": "https://localhost:8080/",
          "height": 34
        },
        "outputId": "9e7d6633-b82e-4ef5-9671-10c570225a82"
      },
      "source": [
        "xtrain1.shape"
      ],
      "execution_count": 66,
      "outputs": [
        {
          "output_type": "execute_result",
          "data": {
            "text/plain": [
              "(25000, 32, 32, 3)"
            ]
          },
          "metadata": {
            "tags": []
          },
          "execution_count": 66
        }
      ]
    },
    {
      "cell_type": "code",
      "metadata": {
        "id": "O1r0daIXahDM",
        "colab_type": "code",
        "colab": {
          "base_uri": "https://localhost:8080/",
          "height": 34
        },
        "outputId": "f80cc8af-5ac1-4895-9f4e-d8863dbc6018"
      },
      "source": [
        "xtrain2.shape"
      ],
      "execution_count": 67,
      "outputs": [
        {
          "output_type": "execute_result",
          "data": {
            "text/plain": [
              "(25000, 32, 32, 3)"
            ]
          },
          "metadata": {
            "tags": []
          },
          "execution_count": 67
        }
      ]
    },
    {
      "cell_type": "code",
      "metadata": {
        "id": "ZQhYeDsqahHX",
        "colab_type": "code",
        "colab": {
          "base_uri": "https://localhost:8080/",
          "height": 34
        },
        "outputId": "12557f9d-9111-45b6-8e8e-ac4e9661b742"
      },
      "source": [
        "xtest1.shape"
      ],
      "execution_count": 68,
      "outputs": [
        {
          "output_type": "execute_result",
          "data": {
            "text/plain": [
              "(5000, 32, 32, 3)"
            ]
          },
          "metadata": {
            "tags": []
          },
          "execution_count": 68
        }
      ]
    },
    {
      "cell_type": "code",
      "metadata": {
        "id": "SuN7QtOGazDz",
        "colab_type": "code",
        "colab": {
          "base_uri": "https://localhost:8080/",
          "height": 34
        },
        "outputId": "b5a13199-c86b-41ad-8877-e1da6bf97607"
      },
      "source": [
        "xtest2.shape"
      ],
      "execution_count": 69,
      "outputs": [
        {
          "output_type": "execute_result",
          "data": {
            "text/plain": [
              "(5000, 32, 32, 3)"
            ]
          },
          "metadata": {
            "tags": []
          },
          "execution_count": 69
        }
      ]
    },
    {
      "cell_type": "code",
      "metadata": {
        "id": "gI6xEVE_cNkb",
        "colab_type": "code",
        "colab": {
          "base_uri": "https://localhost:8080/",
          "height": 34
        },
        "outputId": "957748c7-d161-4b86-cf6a-18a397e539bf"
      },
      "source": [
        "ytrain1[0:10]"
      ],
      "execution_count": 72,
      "outputs": [
        {
          "output_type": "execute_result",
          "data": {
            "text/plain": [
              "array([4, 1, 1, 2, 3, 4, 2, 3, 2, 4])"
            ]
          },
          "metadata": {
            "tags": []
          },
          "execution_count": 72
        }
      ]
    },
    {
      "cell_type": "code",
      "metadata": {
        "id": "ridXqDTXcNsI",
        "colab_type": "code",
        "colab": {
          "base_uri": "https://localhost:8080/",
          "height": 34
        },
        "outputId": "e9d3767c-dac7-4961-a625-d022ca086dec"
      },
      "source": [
        "ytrain2[0:10]"
      ],
      "execution_count": 73,
      "outputs": [
        {
          "output_type": "execute_result",
          "data": {
            "text/plain": [
              "array([6, 9, 9, 7, 8, 7, 7, 9, 9, 9])"
            ]
          },
          "metadata": {
            "tags": []
          },
          "execution_count": 73
        }
      ]
    },
    {
      "cell_type": "code",
      "metadata": {
        "id": "KIidndyWdqcV",
        "colab_type": "code",
        "colab": {
          "base_uri": "https://localhost:8080/",
          "height": 840
        },
        "outputId": "ca494305-c75c-47e5-e8c6-dc3ed2f94051"
      },
      "source": [
        "xtrain1[0]"
      ],
      "execution_count": 121,
      "outputs": [
        {
          "output_type": "execute_result",
          "data": {
            "text/plain": [
              "array([[[0.10980392, 0.09803922, 0.03921569],\n",
              "        [0.14509805, 0.13333334, 0.07450981],\n",
              "        [0.14901961, 0.13725491, 0.07843138],\n",
              "        ...,\n",
              "        [0.29803923, 0.2627451 , 0.15294118],\n",
              "        [0.31764707, 0.28235295, 0.16862746],\n",
              "        [0.33333334, 0.29803923, 0.18431373]],\n",
              "\n",
              "       [[0.12941177, 0.10980392, 0.05098039],\n",
              "        [0.13333334, 0.11764706, 0.05490196],\n",
              "        [0.1254902 , 0.10588235, 0.04705882],\n",
              "        ...,\n",
              "        [0.37254903, 0.32156864, 0.21568628],\n",
              "        [0.3764706 , 0.32156864, 0.21960784],\n",
              "        [0.33333334, 0.28235295, 0.1764706 ]],\n",
              "\n",
              "       [[0.15294118, 0.1254902 , 0.05882353],\n",
              "        [0.15686275, 0.12941177, 0.06666667],\n",
              "        [0.22352941, 0.19607843, 0.12941177],\n",
              "        ...,\n",
              "        [0.3647059 , 0.29803923, 0.20392157],\n",
              "        [0.41960785, 0.34901962, 0.25882354],\n",
              "        [0.37254903, 0.3019608 , 0.21176471]],\n",
              "\n",
              "       ...,\n",
              "\n",
              "       [[0.3254902 , 0.28627452, 0.20392157],\n",
              "        [0.34117648, 0.3019608 , 0.21960784],\n",
              "        [0.32941177, 0.2901961 , 0.20392157],\n",
              "        ...,\n",
              "        [0.3882353 , 0.3647059 , 0.27450982],\n",
              "        [0.3529412 , 0.32941177, 0.23921569],\n",
              "        [0.31764707, 0.29411766, 0.20392157]],\n",
              "\n",
              "       [[0.34509805, 0.28235295, 0.2       ],\n",
              "        [0.3529412 , 0.2901961 , 0.20392157],\n",
              "        [0.3647059 , 0.3019608 , 0.21960784],\n",
              "        ...,\n",
              "        [0.3137255 , 0.2901961 , 0.20784314],\n",
              "        [0.29803923, 0.27450982, 0.19215687],\n",
              "        [0.32156864, 0.29803923, 0.21568628]],\n",
              "\n",
              "       [[0.38039216, 0.30588236, 0.21960784],\n",
              "        [0.36862746, 0.29411766, 0.20784314],\n",
              "        [0.3647059 , 0.29411766, 0.20784314],\n",
              "        ...,\n",
              "        [0.21176471, 0.18431373, 0.10980392],\n",
              "        [0.24705882, 0.21960784, 0.14509805],\n",
              "        [0.28235295, 0.25490198, 0.18039216]]], dtype=float32)"
            ]
          },
          "metadata": {
            "tags": []
          },
          "execution_count": 121
        }
      ]
    },
    {
      "cell_type": "code",
      "metadata": {
        "id": "k0LKYqHTdqej",
        "colab_type": "code",
        "colab": {}
      },
      "source": [
        "xtrain1 = xtrain1.astype('float32')\n",
        "xtest1 = xtest1.astype('float32')\n",
        "xtrain1 /= 255\n",
        "xtest1 /= 255"
      ],
      "execution_count": 0,
      "outputs": []
    },
    {
      "cell_type": "code",
      "metadata": {
        "id": "Llf7YLm1dqh9",
        "colab_type": "code",
        "colab": {
          "base_uri": "https://localhost:8080/",
          "height": 34
        },
        "outputId": "dc5aee50-59e1-4119-c137-367dc81c112c"
      },
      "source": [
        "print(ytrain1[0])"
      ],
      "execution_count": 80,
      "outputs": [
        {
          "output_type": "stream",
          "text": [
            "4\n"
          ],
          "name": "stdout"
        }
      ]
    },
    {
      "cell_type": "code",
      "metadata": {
        "id": "8L5AvaqfesAI",
        "colab_type": "code",
        "colab": {}
      },
      "source": [
        "import keras\n",
        "ytrain1 = keras.utils.to_categorical(ytrain1, 5)\n",
        "ytest1 = keras.utils.to_categorical(ytest1, 5)"
      ],
      "execution_count": 0,
      "outputs": []
    },
    {
      "cell_type": "code",
      "metadata": {
        "id": "T1Kk2rjBesFJ",
        "colab_type": "code",
        "colab": {
          "base_uri": "https://localhost:8080/",
          "height": 34
        },
        "outputId": "3c056a56-4ce3-4ff3-a169-4fbcb01cc54e"
      },
      "source": [
        "print(ytrain1[0])"
      ],
      "execution_count": 94,
      "outputs": [
        {
          "output_type": "stream",
          "text": [
            "[0. 0. 0. 0. 1.]\n"
          ],
          "name": "stdout"
        }
      ]
    },
    {
      "cell_type": "code",
      "metadata": {
        "id": "_aZqT-iijDwV",
        "colab_type": "code",
        "colab": {
          "base_uri": "https://localhost:8080/",
          "height": 34
        },
        "outputId": "686428ce-fef7-4c15-b03d-c3551370facf"
      },
      "source": [
        "xtrain1.shape"
      ],
      "execution_count": 101,
      "outputs": [
        {
          "output_type": "execute_result",
          "data": {
            "text/plain": [
              "(25000, 32, 32, 3)"
            ]
          },
          "metadata": {
            "tags": []
          },
          "execution_count": 101
        }
      ]
    },
    {
      "cell_type": "markdown",
      "metadata": {
        "id": "cuOiKWfeybAl",
        "colab_type": "text"
      },
      "source": [
        "### 3. Build a sequential neural network model which can classify the classes 0 to 4 of CIFAR10 dataset with at least 80% accuracy on test data"
      ]
    },
    {
      "cell_type": "code",
      "metadata": {
        "id": "5HzxNbiiyoBD",
        "colab_type": "code",
        "colab": {}
      },
      "source": [
        "import keras\n",
        "from keras.models import Sequential\n",
        "from keras.layers import Dense, Dropout, Flatten\n",
        "from keras.layers import Conv2D, MaxPooling2D\n",
        "\n",
        "model = Sequential()\n",
        " \n",
        "model.add(Conv2D(32, kernel_size=(3, 3),activation='relu',kernel_initializer='he_uniform',padding='same',input_shape=(32, 32, 3),name='conv_1'))\n",
        "model.add(Conv2D(100, kernel_size=(3, 3), activation='relu',kernel_initializer='he_uniform',padding='same',name='conv_2'))\n",
        "model.add(MaxPooling2D(pool_size=(2, 2),name='max_1'))\n",
        "model.add(Dropout(0.2,name='drop_1'))\n",
        "model.add(Conv2D(64, kernel_size=(3, 3),activation='relu',kernel_initializer='he_uniform',padding='same',name='conv_3'))\n",
        "model.add(Conv2D(64, kernel_size=(3, 3),activation='relu',kernel_initializer='he_uniform',padding='same',name='conv_4'))\n",
        "model.add(MaxPooling2D(pool_size=(2, 2),name='max_2'))\n",
        "model.add(Dropout(0.2,name='drop_2'))\n",
        "model.add(Conv2D(128, kernel_size=(3, 3),activation='relu',kernel_initializer='he_uniform',padding='same',name='conv_5'))\n",
        "model.add(Conv2D(128, kernel_size=(3, 3),activation='relu',kernel_initializer='he_uniform',padding='same',name='conv_6'))\n",
        "model.add(MaxPooling2D(pool_size=(2, 2),name='max_3'))\n",
        "model.add(Dropout(0.2,name='drop_3'))"
      ],
      "execution_count": 0,
      "outputs": []
    },
    {
      "cell_type": "code",
      "metadata": {
        "id": "Q0TgQN_mf0N6",
        "colab_type": "code",
        "colab": {}
      },
      "source": [
        "model.add(Flatten())\n",
        "model.add(Dense(400, activation='relu',name='dense_1'))\n",
        "model.add(Dropout(0.2,name='drop_4'))\n",
        "model.add(Dense(200, activation='relu',name='dense_2'))\n",
        "model.add(Dropout(0.3,name='drop_5'))\n",
        "model.add(Dense(5, activation='softmax',name='dense_3'))"
      ],
      "execution_count": 0,
      "outputs": []
    },
    {
      "cell_type": "code",
      "metadata": {
        "id": "Vd_OTzzVgFUL",
        "colab_type": "code",
        "colab": {}
      },
      "source": [
        "from keras.losses import categorical_crossentropy\n",
        "from keras import optimizers\n",
        "#model.compile(loss= \"categorical_crossentropy\",optimizer='sgd',metrics=['accuracy'])\n",
        "opt = optimizers.SGD(lr=0.01, momentum=0.9)\n",
        "model.compile(optimizer=opt, loss='categorical_crossentropy', metrics=['accuracy'])"
      ],
      "execution_count": 0,
      "outputs": []
    },
    {
      "cell_type": "code",
      "metadata": {
        "id": "fhtOBjMLgSC9",
        "colab_type": "code",
        "colab": {
          "base_uri": "https://localhost:8080/",
          "height": 722
        },
        "outputId": "ae80ad87-51b5-4b40-ad00-8fd6ff3210c7"
      },
      "source": [
        "model.fit(xtrain1, ytrain1,batch_size=30,epochs=20,verbose=1,validation_data=(xtest1, ytest1))"
      ],
      "execution_count": 182,
      "outputs": [
        {
          "output_type": "stream",
          "text": [
            "Train on 25000 samples, validate on 5000 samples\n",
            "Epoch 1/20\n",
            "25000/25000 [==============================] - 11s 422us/step - loss: 1.2617 - acc: 0.4538 - val_loss: 0.9729 - val_acc: 0.5836\n",
            "Epoch 2/20\n",
            "25000/25000 [==============================] - 8s 335us/step - loss: 0.9511 - acc: 0.6085 - val_loss: 0.8179 - val_acc: 0.6740\n",
            "Epoch 3/20\n",
            "25000/25000 [==============================] - 8s 335us/step - loss: 0.8097 - acc: 0.6818 - val_loss: 0.7572 - val_acc: 0.7014\n",
            "Epoch 4/20\n",
            "25000/25000 [==============================] - 8s 331us/step - loss: 0.7210 - acc: 0.7193 - val_loss: 0.6908 - val_acc: 0.7340\n",
            "Epoch 5/20\n",
            "25000/25000 [==============================] - 8s 333us/step - loss: 0.6474 - acc: 0.7523 - val_loss: 0.6036 - val_acc: 0.7694\n",
            "Epoch 6/20\n",
            "25000/25000 [==============================] - 8s 329us/step - loss: 0.5932 - acc: 0.7776 - val_loss: 0.5479 - val_acc: 0.7908\n",
            "Epoch 7/20\n",
            "25000/25000 [==============================] - 8s 331us/step - loss: 0.5357 - acc: 0.8005 - val_loss: 0.5396 - val_acc: 0.8032\n",
            "Epoch 8/20\n",
            "25000/25000 [==============================] - 8s 332us/step - loss: 0.5118 - acc: 0.8110 - val_loss: 0.5086 - val_acc: 0.8112\n",
            "Epoch 9/20\n",
            "25000/25000 [==============================] - 8s 332us/step - loss: 0.4728 - acc: 0.8271 - val_loss: 0.5034 - val_acc: 0.8154\n",
            "Epoch 10/20\n",
            "25000/25000 [==============================] - 8s 331us/step - loss: 0.4392 - acc: 0.8389 - val_loss: 0.4640 - val_acc: 0.8326\n",
            "Epoch 11/20\n",
            "25000/25000 [==============================] - 8s 329us/step - loss: 0.4187 - acc: 0.8465 - val_loss: 0.4630 - val_acc: 0.8402\n",
            "Epoch 12/20\n",
            "25000/25000 [==============================] - 8s 330us/step - loss: 0.3885 - acc: 0.8572 - val_loss: 0.4864 - val_acc: 0.8298\n",
            "Epoch 13/20\n",
            "25000/25000 [==============================] - 8s 333us/step - loss: 0.3705 - acc: 0.8630 - val_loss: 0.4737 - val_acc: 0.8368\n",
            "Epoch 14/20\n",
            "25000/25000 [==============================] - 8s 329us/step - loss: 0.3585 - acc: 0.8682 - val_loss: 0.4821 - val_acc: 0.8306\n",
            "Epoch 15/20\n",
            "25000/25000 [==============================] - 8s 336us/step - loss: 0.3415 - acc: 0.8766 - val_loss: 0.4607 - val_acc: 0.8414\n",
            "Epoch 16/20\n",
            "25000/25000 [==============================] - 9s 340us/step - loss: 0.3234 - acc: 0.8826 - val_loss: 0.4512 - val_acc: 0.8430\n",
            "Epoch 17/20\n",
            "25000/25000 [==============================] - 8s 337us/step - loss: 0.3169 - acc: 0.8842 - val_loss: 0.4791 - val_acc: 0.8364\n",
            "Epoch 18/20\n",
            "25000/25000 [==============================] - 8s 331us/step - loss: 0.2951 - acc: 0.8930 - val_loss: 0.5050 - val_acc: 0.8346\n",
            "Epoch 19/20\n",
            "25000/25000 [==============================] - 8s 330us/step - loss: 0.2908 - acc: 0.8956 - val_loss: 0.4583 - val_acc: 0.8502\n",
            "Epoch 20/20\n",
            "25000/25000 [==============================] - 8s 328us/step - loss: 0.2779 - acc: 0.8979 - val_loss: 0.4509 - val_acc: 0.8552\n"
          ],
          "name": "stdout"
        },
        {
          "output_type": "execute_result",
          "data": {
            "text/plain": [
              "<keras.callbacks.History at 0x7f9e597afba8>"
            ]
          },
          "metadata": {
            "tags": []
          },
          "execution_count": 182
        }
      ]
    },
    {
      "cell_type": "code",
      "metadata": {
        "id": "auvlNORzhY88",
        "colab_type": "code",
        "colab": {
          "base_uri": "https://localhost:8080/",
          "height": 67
        },
        "outputId": "549c9788-2a5f-472c-e25a-8b03f327363c"
      },
      "source": [
        "score = model.evaluate(xtest1, ytest1)\n",
        "print('Test loss:', score[0])\n",
        "print('Test accuracy:', score[1])"
      ],
      "execution_count": 183,
      "outputs": [
        {
          "output_type": "stream",
          "text": [
            "5000/5000 [==============================] - 1s 120us/step\n",
            "Test loss: 0.4508796021461487\n",
            "Test accuracy: 0.8552\n"
          ],
          "name": "stdout"
        }
      ]
    },
    {
      "cell_type": "markdown",
      "metadata": {
        "id": "woTfNst_ynRG",
        "colab_type": "text"
      },
      "source": [
        "### 4. In the model which was built above (for classification of classes 0-4 in CIFAR10), make only the dense layers to be trainable and conv layers to be non-trainable"
      ]
    },
    {
      "cell_type": "code",
      "metadata": {
        "id": "o_VCDB3Byb1a",
        "colab_type": "code",
        "colab": {
          "base_uri": "https://localhost:8080/",
          "height": 622
        },
        "outputId": "44de7ae2-0043-4d79-f38c-b0abd3e4ded6"
      },
      "source": [
        "for layer in model.layers:\n",
        "  if('dense' not in layer.name): \n",
        "    layer.trainable = False\n",
        "\n",
        "from termcolor import colored\n",
        "\n",
        "for layer in model.layers:\n",
        "  print (colored(layer.name, 'blue'))\n",
        "  print (colored(layer.trainable, 'red'))"
      ],
      "execution_count": 184,
      "outputs": [
        {
          "output_type": "stream",
          "text": [
            "\u001b[34mconv_1\u001b[0m\n",
            "\u001b[31mFalse\u001b[0m\n",
            "\u001b[34mconv_2\u001b[0m\n",
            "\u001b[31mFalse\u001b[0m\n",
            "\u001b[34mmax_1\u001b[0m\n",
            "\u001b[31mFalse\u001b[0m\n",
            "\u001b[34mdrop_1\u001b[0m\n",
            "\u001b[31mFalse\u001b[0m\n",
            "\u001b[34mconv_3\u001b[0m\n",
            "\u001b[31mFalse\u001b[0m\n",
            "\u001b[34mconv_4\u001b[0m\n",
            "\u001b[31mFalse\u001b[0m\n",
            "\u001b[34mmax_2\u001b[0m\n",
            "\u001b[31mFalse\u001b[0m\n",
            "\u001b[34mdrop_2\u001b[0m\n",
            "\u001b[31mFalse\u001b[0m\n",
            "\u001b[34mconv_5\u001b[0m\n",
            "\u001b[31mFalse\u001b[0m\n",
            "\u001b[34mconv_6\u001b[0m\n",
            "\u001b[31mFalse\u001b[0m\n",
            "\u001b[34mmax_3\u001b[0m\n",
            "\u001b[31mFalse\u001b[0m\n",
            "\u001b[34mdrop_3\u001b[0m\n",
            "\u001b[31mFalse\u001b[0m\n",
            "\u001b[34mflatten_14\u001b[0m\n",
            "\u001b[31mFalse\u001b[0m\n",
            "\u001b[34mdense_1\u001b[0m\n",
            "\u001b[31mTrue\u001b[0m\n",
            "\u001b[34mdrop_4\u001b[0m\n",
            "\u001b[31mFalse\u001b[0m\n",
            "\u001b[34mdense_2\u001b[0m\n",
            "\u001b[31mTrue\u001b[0m\n",
            "\u001b[34mdrop_5\u001b[0m\n",
            "\u001b[31mFalse\u001b[0m\n",
            "\u001b[34mdense_3\u001b[0m\n",
            "\u001b[31mTrue\u001b[0m\n"
          ],
          "name": "stdout"
        }
      ]
    },
    {
      "cell_type": "markdown",
      "metadata": {
        "id": "1-uUPqWpyeyX",
        "colab_type": "text"
      },
      "source": [
        "### 5. Utilize the the model trained on CIFAR 10 (classes 0 to 4) to classify the classes 5 to 9 of CIFAR 10  (Use Transfer Learning) <br>\n",
        "Achieve an accuracy of more than 85% on test data"
      ]
    },
    {
      "cell_type": "code",
      "metadata": {
        "id": "szHjJgDvyfCt",
        "colab_type": "code",
        "colab": {
          "base_uri": "https://localhost:8080/",
          "height": 34
        },
        "outputId": "8b8984f8-dae1-4da5-a456-6470a264f9cb"
      },
      "source": [
        "print(ytrain2[0:10])"
      ],
      "execution_count": 190,
      "outputs": [
        {
          "output_type": "stream",
          "text": [
            "[6 9 9 7 8 7 7 9 9 9]\n"
          ],
          "name": "stdout"
        }
      ]
    },
    {
      "cell_type": "code",
      "metadata": {
        "id": "jhKhdZqU11oV",
        "colab_type": "code",
        "colab": {}
      },
      "source": [
        "ytrain2 = ytrain2 - 5\n",
        "ytest2 = ytest2 - 5"
      ],
      "execution_count": 0,
      "outputs": []
    },
    {
      "cell_type": "code",
      "metadata": {
        "id": "paT3TgFt11sD",
        "colab_type": "code",
        "colab": {
          "base_uri": "https://localhost:8080/",
          "height": 34
        },
        "outputId": "f2b12fbd-a375-461e-f7f9-52360691ffa3"
      },
      "source": [
        "print(ytrain2[0:10])"
      ],
      "execution_count": 192,
      "outputs": [
        {
          "output_type": "stream",
          "text": [
            "[1 4 4 2 3 2 2 4 4 4]\n"
          ],
          "name": "stdout"
        }
      ]
    },
    {
      "cell_type": "code",
      "metadata": {
        "id": "pjOhhPp62Ac0",
        "colab_type": "code",
        "colab": {}
      },
      "source": [
        "xtrain2 = xtrain2.astype('float32')\n",
        "xtest2 = xtest2.astype('float32')\n",
        "\n",
        "xtrain2 /= 255\n",
        "xtest2 /= 255"
      ],
      "execution_count": 0,
      "outputs": []
    },
    {
      "cell_type": "code",
      "metadata": {
        "id": "TnetytXk2Vo9",
        "colab_type": "code",
        "colab": {
          "base_uri": "https://localhost:8080/",
          "height": 34
        },
        "outputId": "464f1f85-e398-4868-955c-77e6946196c3"
      },
      "source": [
        "print(ytrain2[0])"
      ],
      "execution_count": 194,
      "outputs": [
        {
          "output_type": "stream",
          "text": [
            "1\n"
          ],
          "name": "stdout"
        }
      ]
    },
    {
      "cell_type": "code",
      "metadata": {
        "id": "gVf0Vqjy2V1s",
        "colab_type": "code",
        "colab": {}
      },
      "source": [
        "ytrain2 = keras.utils.to_categorical(ytrain2, 5)\n",
        "ytest2 = keras.utils.to_categorical(ytest2, 5)"
      ],
      "execution_count": 0,
      "outputs": []
    },
    {
      "cell_type": "code",
      "metadata": {
        "id": "oRxQZph_2dWm",
        "colab_type": "code",
        "colab": {
          "base_uri": "https://localhost:8080/",
          "height": 34
        },
        "outputId": "5f4a5c41-7a67-436f-ce53-2fa213b011e2"
      },
      "source": [
        "print(ytrain2[0])"
      ],
      "execution_count": 196,
      "outputs": [
        {
          "output_type": "stream",
          "text": [
            "[0. 1. 0. 0. 0.]\n"
          ],
          "name": "stdout"
        }
      ]
    },
    {
      "cell_type": "code",
      "metadata": {
        "id": "lO-6uxqP1P3X",
        "colab_type": "code",
        "colab": {}
      },
      "source": [
        "from keras.models import Model \n",
        "x = model.output\n",
        "#x = Flatten()(x)\n",
        "x = Dense(1024, activation=\"relu\")(x)\n",
        "x = Dropout(0.3)(x)\n",
        "x = Dense(128, activation=\"relu\")(x)\n",
        "x = Dense(32, activation=\"relu\")(x)\n",
        "predictions = Dense(5, activation=\"softmax\")(x)\n",
        "\n",
        "model_final = Model(input = model.input, output = predictions)\n",
        "opt = optimizers.SGD(lr=0.01, momentum=0.9)\n",
        "model_final.compile(loss = \"categorical_crossentropy\", optimizer = opt, metrics=[\"accuracy\"])"
      ],
      "execution_count": 0,
      "outputs": []
    },
    {
      "cell_type": "code",
      "metadata": {
        "id": "frLWKxgc1QBz",
        "colab_type": "code",
        "colab": {
          "base_uri": "https://localhost:8080/",
          "height": 722
        },
        "outputId": "4e79dbac-e2c9-496f-e876-57e2c49b68fb"
      },
      "source": [
        "model_final.fit(xtrain2, ytrain2,batch_size=128,epochs=20,verbose=1,validation_data=(xtest2, ytest2))"
      ],
      "execution_count": 198,
      "outputs": [
        {
          "output_type": "stream",
          "text": [
            "Train on 25000 samples, validate on 5000 samples\n",
            "Epoch 1/20\n",
            "25000/25000 [==============================] - 4s 180us/step - loss: 1.1906 - acc: 0.5560 - val_loss: 0.8626 - val_acc: 0.6614\n",
            "Epoch 2/20\n",
            "25000/25000 [==============================] - 2s 97us/step - loss: 0.7879 - acc: 0.7093 - val_loss: 0.6243 - val_acc: 0.7822\n",
            "Epoch 3/20\n",
            "25000/25000 [==============================] - 2s 98us/step - loss: 0.6378 - acc: 0.7723 - val_loss: 0.5378 - val_acc: 0.8122\n",
            "Epoch 4/20\n",
            "25000/25000 [==============================] - 2s 97us/step - loss: 0.5793 - acc: 0.7968 - val_loss: 0.5012 - val_acc: 0.8272\n",
            "Epoch 5/20\n",
            "25000/25000 [==============================] - 2s 96us/step - loss: 0.5448 - acc: 0.8038 - val_loss: 0.4799 - val_acc: 0.8286\n",
            "Epoch 6/20\n",
            "25000/25000 [==============================] - 2s 96us/step - loss: 0.5092 - acc: 0.8200 - val_loss: 0.4685 - val_acc: 0.8360\n",
            "Epoch 7/20\n",
            "25000/25000 [==============================] - 2s 96us/step - loss: 0.4942 - acc: 0.8242 - val_loss: 0.4515 - val_acc: 0.8398\n",
            "Epoch 8/20\n",
            "25000/25000 [==============================] - 2s 97us/step - loss: 0.4703 - acc: 0.8319 - val_loss: 0.4475 - val_acc: 0.8432\n",
            "Epoch 9/20\n",
            "25000/25000 [==============================] - 2s 96us/step - loss: 0.4575 - acc: 0.8365 - val_loss: 0.4525 - val_acc: 0.8438\n",
            "Epoch 10/20\n",
            "25000/25000 [==============================] - 2s 96us/step - loss: 0.4364 - acc: 0.8451 - val_loss: 0.4365 - val_acc: 0.8488\n",
            "Epoch 11/20\n",
            "25000/25000 [==============================] - 2s 98us/step - loss: 0.4214 - acc: 0.8497 - val_loss: 0.4286 - val_acc: 0.8496\n",
            "Epoch 12/20\n",
            "25000/25000 [==============================] - 2s 96us/step - loss: 0.4086 - acc: 0.8540 - val_loss: 0.4173 - val_acc: 0.8546\n",
            "Epoch 13/20\n",
            "25000/25000 [==============================] - 2s 96us/step - loss: 0.4022 - acc: 0.8558 - val_loss: 0.4149 - val_acc: 0.8586\n",
            "Epoch 14/20\n",
            "25000/25000 [==============================] - 2s 97us/step - loss: 0.3891 - acc: 0.8596 - val_loss: 0.4141 - val_acc: 0.8556\n",
            "Epoch 15/20\n",
            "25000/25000 [==============================] - 2s 98us/step - loss: 0.3806 - acc: 0.8649 - val_loss: 0.4145 - val_acc: 0.8586\n",
            "Epoch 16/20\n",
            "25000/25000 [==============================] - 2s 96us/step - loss: 0.3652 - acc: 0.8682 - val_loss: 0.4081 - val_acc: 0.8606\n",
            "Epoch 17/20\n",
            "25000/25000 [==============================] - 2s 97us/step - loss: 0.3577 - acc: 0.8717 - val_loss: 0.4080 - val_acc: 0.8588\n",
            "Epoch 18/20\n",
            "25000/25000 [==============================] - 2s 97us/step - loss: 0.3523 - acc: 0.8752 - val_loss: 0.4048 - val_acc: 0.8600\n",
            "Epoch 19/20\n",
            "25000/25000 [==============================] - 2s 96us/step - loss: 0.3419 - acc: 0.8778 - val_loss: 0.4144 - val_acc: 0.8616\n",
            "Epoch 20/20\n",
            "25000/25000 [==============================] - 2s 98us/step - loss: 0.3339 - acc: 0.8790 - val_loss: 0.4014 - val_acc: 0.8646\n"
          ],
          "name": "stdout"
        },
        {
          "output_type": "execute_result",
          "data": {
            "text/plain": [
              "<keras.callbacks.History at 0x7f9e59554cf8>"
            ]
          },
          "metadata": {
            "tags": []
          },
          "execution_count": 198
        }
      ]
    },
    {
      "cell_type": "code",
      "metadata": {
        "id": "BIoF_6g47Hr_",
        "colab_type": "code",
        "colab": {
          "base_uri": "https://localhost:8080/",
          "height": 67
        },
        "outputId": "814b5bcb-ea38-495a-f0e9-f3fcf4f1fccf"
      },
      "source": [
        "score = model_final.evaluate(xtest2, ytest2)\n",
        "print('Test loss:', score[0])\n",
        "print('Test accuracy:', score[1])"
      ],
      "execution_count": 199,
      "outputs": [
        {
          "output_type": "stream",
          "text": [
            "5000/5000 [==============================] - 1s 120us/step\n",
            "Test loss: 0.4013867317199707\n",
            "Test accuracy: 0.8646\n"
          ],
          "name": "stdout"
        }
      ]
    },
    {
      "cell_type": "markdown",
      "metadata": {
        "id": "0zDuRecXzEtr",
        "colab_type": "text"
      },
      "source": [
        "# Text classification using TF-IDF"
      ]
    },
    {
      "cell_type": "markdown",
      "metadata": {
        "id": "xMPlEJhHzb6P",
        "colab_type": "text"
      },
      "source": [
        "### 6. Load the dataset from sklearn.datasets"
      ]
    },
    {
      "cell_type": "code",
      "metadata": {
        "id": "B8S6_UUu9ByC",
        "colab_type": "code",
        "colab": {}
      },
      "source": [
        "import numpy as np\n",
        "from matplotlib import pyplot as plt\n",
        "import seaborn as sns\n",
        "import pandas as pd"
      ],
      "execution_count": 0,
      "outputs": []
    },
    {
      "cell_type": "code",
      "metadata": {
        "id": "Fe-B59u3zHNb",
        "colab_type": "code",
        "colab": {}
      },
      "source": [
        "from sklearn.datasets import fetch_20newsgroups"
      ],
      "execution_count": 0,
      "outputs": []
    },
    {
      "cell_type": "code",
      "metadata": {
        "id": "RjiVPiVb96k6",
        "colab_type": "code",
        "colab": {}
      },
      "source": [
        "train = fetch_20newsgroups(subset='train')"
      ],
      "execution_count": 0,
      "outputs": []
    },
    {
      "cell_type": "code",
      "metadata": {
        "id": "IBRCve1T-5HD",
        "colab_type": "code",
        "colab": {
          "base_uri": "https://localhost:8080/",
          "height": 353
        },
        "outputId": "4fa30660-6dc8-4cfc-e902-c87872d6ddba"
      },
      "source": [
        "from pprint import pprint\n",
        "pprint(list(train.target_names))"
      ],
      "execution_count": 13,
      "outputs": [
        {
          "output_type": "stream",
          "text": [
            "['alt.atheism',\n",
            " 'comp.graphics',\n",
            " 'comp.os.ms-windows.misc',\n",
            " 'comp.sys.ibm.pc.hardware',\n",
            " 'comp.sys.mac.hardware',\n",
            " 'comp.windows.x',\n",
            " 'misc.forsale',\n",
            " 'rec.autos',\n",
            " 'rec.motorcycles',\n",
            " 'rec.sport.baseball',\n",
            " 'rec.sport.hockey',\n",
            " 'sci.crypt',\n",
            " 'sci.electronics',\n",
            " 'sci.med',\n",
            " 'sci.space',\n",
            " 'soc.religion.christian',\n",
            " 'talk.politics.guns',\n",
            " 'talk.politics.mideast',\n",
            " 'talk.politics.misc',\n",
            " 'talk.religion.misc']\n"
          ],
          "name": "stdout"
        }
      ]
    },
    {
      "cell_type": "code",
      "metadata": {
        "id": "fIdTvj38ABvQ",
        "colab_type": "code",
        "colab": {
          "base_uri": "https://localhost:8080/",
          "height": 34
        },
        "outputId": "b027a0b9-fe47-4d56-fefe-8deb7fce1727"
      },
      "source": [
        "train.filenames.shape"
      ],
      "execution_count": 14,
      "outputs": [
        {
          "output_type": "execute_result",
          "data": {
            "text/plain": [
              "(11314,)"
            ]
          },
          "metadata": {
            "tags": []
          },
          "execution_count": 14
        }
      ]
    },
    {
      "cell_type": "code",
      "metadata": {
        "id": "0JCg5kFJCW94",
        "colab_type": "code",
        "colab": {
          "base_uri": "https://localhost:8080/",
          "height": 34
        },
        "outputId": "cbbb0703-1647-45f1-8537-0260aae8a6c9"
      },
      "source": [
        "train.filenames[0]"
      ],
      "execution_count": 15,
      "outputs": [
        {
          "output_type": "execute_result",
          "data": {
            "text/plain": [
              "'/root/scikit_learn_data/20news_home/20news-bydate-train/rec.autos/102994'"
            ]
          },
          "metadata": {
            "tags": []
          },
          "execution_count": 15
        }
      ]
    },
    {
      "cell_type": "code",
      "metadata": {
        "id": "BbX29jP0CjVS",
        "colab_type": "code",
        "colab": {
          "base_uri": "https://localhost:8080/",
          "height": 34
        },
        "outputId": "3ae3d9cd-c6cd-4324-94b0-fb944799b49a"
      },
      "source": [
        "train.target.shape"
      ],
      "execution_count": 16,
      "outputs": [
        {
          "output_type": "execute_result",
          "data": {
            "text/plain": [
              "(11314,)"
            ]
          },
          "metadata": {
            "tags": []
          },
          "execution_count": 16
        }
      ]
    },
    {
      "cell_type": "code",
      "metadata": {
        "id": "E34VfFQyCsrs",
        "colab_type": "code",
        "colab": {
          "base_uri": "https://localhost:8080/",
          "height": 34
        },
        "outputId": "e9e1b68e-4b6d-4bc1-c23e-c38f4792cfc2"
      },
      "source": [
        "train.target[0]"
      ],
      "execution_count": 17,
      "outputs": [
        {
          "output_type": "execute_result",
          "data": {
            "text/plain": [
              "7"
            ]
          },
          "metadata": {
            "tags": []
          },
          "execution_count": 17
        }
      ]
    },
    {
      "cell_type": "code",
      "metadata": {
        "id": "ZF8WhvZwC0BV",
        "colab_type": "code",
        "colab": {
          "base_uri": "https://localhost:8080/",
          "height": 54
        },
        "outputId": "b0bef26e-a3f1-47a2-9d25-ec579b812e4b"
      },
      "source": [
        "train.data[0]"
      ],
      "execution_count": 20,
      "outputs": [
        {
          "output_type": "execute_result",
          "data": {
            "text/plain": [
              "\"From: lerxst@wam.umd.edu (where's my thing)\\nSubject: WHAT car is this!?\\nNntp-Posting-Host: rac3.wam.umd.edu\\nOrganization: University of Maryland, College Park\\nLines: 15\\n\\n I was wondering if anyone out there could enlighten me on this car I saw\\nthe other day. It was a 2-door sports car, looked to be from the late 60s/\\nearly 70s. It was called a Bricklin. The doors were really small. In addition,\\nthe front bumper was separate from the rest of the body. This is \\nall I know. If anyone can tellme a model name, engine specs, years\\nof production, where this car is made, history, or whatever info you\\nhave on this funky looking car, please e-mail.\\n\\nThanks,\\n- IL\\n   ---- brought to you by your neighborhood Lerxst ----\\n\\n\\n\\n\\n\""
            ]
          },
          "metadata": {
            "tags": []
          },
          "execution_count": 20
        }
      ]
    },
    {
      "cell_type": "code",
      "metadata": {
        "id": "PRrMemVQzbHU",
        "colab_type": "code",
        "colab": {}
      },
      "source": [
        "categories = ['alt.atheism', 'soc.religion.christian', 'comp.graphics', 'sci.med']"
      ],
      "execution_count": 0,
      "outputs": []
    },
    {
      "cell_type": "markdown",
      "metadata": {
        "id": "-sZX0UbJzmg5",
        "colab_type": "text"
      },
      "source": [
        "### 7. Training data"
      ]
    },
    {
      "cell_type": "code",
      "metadata": {
        "id": "CITr_5aXziJ2",
        "colab_type": "code",
        "colab": {}
      },
      "source": [
        "twenty_train = fetch_20newsgroups(subset='train', categories=categories, shuffle=True, random_state=42)"
      ],
      "execution_count": 0,
      "outputs": []
    },
    {
      "cell_type": "markdown",
      "metadata": {
        "id": "xcESc5QXzr6p",
        "colab_type": "text"
      },
      "source": [
        "### 8. Test data"
      ]
    },
    {
      "cell_type": "code",
      "metadata": {
        "id": "ysInblUMzpvl",
        "colab_type": "code",
        "colab": {}
      },
      "source": [
        "twenty_test = fetch_20newsgroups(subset='test', categories=categories, shuffle=True, random_state=42)"
      ],
      "execution_count": 0,
      "outputs": []
    },
    {
      "cell_type": "markdown",
      "metadata": {
        "id": "DriL2yZ50DQq",
        "colab_type": "text"
      },
      "source": [
        "###  a.  You can access the values for the target variable using .target attribute \n",
        "###  b. You can access the name of the class in the target variable with .target_names\n"
      ]
    },
    {
      "cell_type": "code",
      "metadata": {
        "id": "vlUuai99z1hX",
        "colab_type": "code",
        "colab": {
          "base_uri": "https://localhost:8080/",
          "height": 34
        },
        "outputId": "2b9d57cb-f76e-436d-c5f8-282166172e15"
      },
      "source": [
        "twenty_train.target"
      ],
      "execution_count": 33,
      "outputs": [
        {
          "output_type": "execute_result",
          "data": {
            "text/plain": [
              "array([1, 1, 3, ..., 2, 2, 2])"
            ]
          },
          "metadata": {
            "tags": []
          },
          "execution_count": 33
        }
      ]
    },
    {
      "cell_type": "code",
      "metadata": {
        "id": "VEKzaDfSz5E-",
        "colab_type": "code",
        "colab": {
          "base_uri": "https://localhost:8080/",
          "height": 34
        },
        "outputId": "b4072718-4cf6-4598-c4dd-8302f2a60042"
      },
      "source": [
        "twenty_train.target_names"
      ],
      "execution_count": 34,
      "outputs": [
        {
          "output_type": "execute_result",
          "data": {
            "text/plain": [
              "['alt.atheism', 'comp.graphics', 'sci.med', 'soc.religion.christian']"
            ]
          },
          "metadata": {
            "tags": []
          },
          "execution_count": 34
        }
      ]
    },
    {
      "cell_type": "code",
      "metadata": {
        "id": "clBMKHzC0_N1",
        "colab_type": "code",
        "colab": {
          "base_uri": "https://localhost:8080/",
          "height": 121
        },
        "outputId": "4a73874d-92dd-442a-b612-255c012d78db"
      },
      "source": [
        "twenty_train.data[0:5]"
      ],
      "execution_count": 35,
      "outputs": [
        {
          "output_type": "execute_result",
          "data": {
            "text/plain": [
              "['From: sd345@city.ac.uk (Michael Collier)\\nSubject: Converting images to HP LaserJet III?\\nNntp-Posting-Host: hampton\\nOrganization: The City University\\nLines: 14\\n\\nDoes anyone know of a good way (standard PC application/PD utility) to\\nconvert tif/img/tga files into LaserJet III format.  We would also like to\\ndo the same, converting to HPGL (HP plotter) files.\\n\\nPlease email any response.\\n\\nIs this the correct group?\\n\\nThanks in advance.  Michael.\\n-- \\nMichael Collier (Programmer)                 The Computer Unit,\\nEmail: M.P.Collier@uk.ac.city                The City University,\\nTel: 071 477-8000 x3769                      London,\\nFax: 071 477-8565                            EC1V 0HB.\\n',\n",
              " \"From: ani@ms.uky.edu (Aniruddha B. Deglurkar)\\nSubject: help: Splitting a trimming region along a mesh \\nOrganization: University Of Kentucky, Dept. of Math Sciences\\nLines: 28\\n\\n\\n\\n\\tHi,\\n\\n\\tI have a problem, I hope some of the 'gurus' can help me solve.\\n\\n\\tBackground of the problem:\\n\\tI have a rectangular mesh in the uv domain, i.e  the mesh is a \\n\\tmapping of a 3d Bezier patch into 2d. The area in this domain\\n\\twhich is inside a trimming loop had to be rendered. The trimming\\n\\tloop is a set of 2d Bezier curve segments.\\n\\tFor the sake of notation: the mesh is made up of cells.\\n\\n\\tMy problem is this :\\n\\tThe trimming area has to be split up into individual smaller\\n\\tcells bounded by the trimming curve segments. If a cell\\n\\tis wholly inside the area...then it is output as a whole ,\\n\\telse it is trivially rejected. \\n\\n\\tDoes any body know how thiss can be done, or is there any algo. \\n\\tsomewhere for doing this.\\n\\n\\tAny help would be appreciated.\\n\\n\\tThanks, \\n\\tAni.\\n-- \\nTo get irritated is human, to stay cool, divine.\\n\",\n",
              " \"From: djohnson@cs.ucsd.edu (Darin Johnson)\\nSubject: Re: harrassed at work, could use some prayers\\nOrganization: =CSE Dept., U.C. San Diego\\nLines: 63\\n\\n(Well, I'll email also, but this may apply to other people, so\\nI'll post also.)\\n\\n>I've been working at this company for eight years in various\\n>engineering jobs.  I'm female.  Yesterday I counted and realized that\\n>on seven different occasions I've been sexually harrassed at this\\n>company.\\n\\n>I dreaded coming back to work today.  What if my boss comes in to ask\\n>me some kind of question...\\n\\nYour boss should be the person bring these problems to.  If he/she\\ndoes not seem to take any action, keep going up higher and higher.\\nSexual harrassment does not need to be tolerated, and it can be an\\nenormous emotional support to discuss this with someone and know that\\nthey are trying to do something about it.  If you feel you can not\\ndiscuss this with your boss, perhaps your company has a personnel\\ndepartment that can work for you while preserving your privacy.  Most\\ncompanies will want to deal with this problem because constant anxiety\\ndoes seriously affect how effectively employees do their jobs.\\n\\nIt is unclear from your letter if you have done this or not.  It is\\nnot inconceivable that management remains ignorant of employee\\nproblems/strife even after eight years (it's a miracle if they do\\nnotice).  Perhaps your manager did not bring to the attention of\\nhigher ups?  If the company indeed does seem to want to ignore the\\nentire problem, there may be a state agency willing to fight with\\nyou.  (check with a lawyer, a women's resource center, etc to find out)\\n\\nYou may also want to discuss this with your paster, priest, husband,\\netc.  That is, someone you know will not be judgemental and that is\\nsupportive, comforting, etc.  This will bring a lot of healing.\\n\\n>So I returned at 11:25, only to find that ever single\\n>person had already left for lunch.  They left at 11:15 or so.  No one\\n>could be bothered to call me at the other building, even though my\\n>number was posted.\\n\\nThis happens to a lot of people.  Honest.  I believe it may seem\\nto be due to gross insensitivity because of the feelings you are\\ngoing through.  People in offices tend to be more insensitive while\\nworking than they normally are (maybe it's the hustle or stress or...)\\nI've had this happen to me a lot, often because they didn't realize\\nmy car was broken, etc.  Then they will come back and wonder why I\\ndidn't want to go (this would tend to make me stop being angry at\\nbeing ignored and make me laugh).  Once, we went off without our\\nboss, who was paying for the lunch :-)\\n\\n>For this\\n>reason I hope good Mr. Moderator allows me this latest indulgence.\\n\\nWell, if you can't turn to the computer for support, what would\\nwe do?  (signs of the computer age :-)\\n\\nIn closing, please don't let the hateful actions of a single person\\nharm you.  They are doing it because they are still the playground\\nbully and enjoy seeing the hurt they cause.  And you should not\\naccept the opinions of an imbecile that you are worthless - much\\nwiser people hold you in great esteem.\\n-- \\nDarin Johnson\\ndjohnson@ucsd.edu\\n  - Luxury!  In MY day, we had to make do with 5 bytes of swap...\\n\",\n",
              " 'From: s0612596@let.rug.nl (M.M. Zwart)\\nSubject: catholic church poland\\nOrganization: Faculteit der Letteren, Rijksuniversiteit Groningen, NL\\nLines: 10\\n\\nHello,\\n\\nI\\'m writing a paper on the role of the catholic church in Poland after 1989. \\nCan anyone tell me more about this, or fill me in on recent books/articles(\\nin english, german or french). Most important for me is the role of the \\nchurch concerning the abortion-law, religious education at schools,\\nbirth-control and the relation church-state(government). Thanx,\\n\\n                                                 Masja,\\n\"M.M.Zwart\"<s0612596@let.rug.nl>\\n',\n",
              " 'From: stanly@grok11.columbiasc.ncr.com (stanly)\\nSubject: Re: Elder Brother\\nOrganization: NCR Corp., Columbia SC\\nLines: 15\\n\\nIn article <Apr.8.00.57.41.1993.28246@athos.rutgers.edu> REXLEX@fnal.gov writes:\\n>In article <Apr.7.01.56.56.1993.22824@athos.rutgers.edu> shrum@hpfcso.fc.hp.com\\n>Matt. 22:9-14 \\'Go therefore to the main highways, and as many as you find\\n>there, invite to the wedding feast.\\'...\\n\\n>hmmmmmm.  Sounds like your theology and Christ\\'s are at odds. Which one am I \\n>to believe?\\n\\nIn this parable, Jesus tells the parable of the wedding feast. \"The kingdom\\nof heaven is like unto a certain king which made a marriage for his son\".\\nSo the wedding clothes were customary,  and \"given\" to those who \"chose\" to\\nattend.  This man \"refused\" to wear the clothes.  The wedding clothes are\\nequalivant to the \"clothes of righteousness\".  When Jesus died for our sins,\\nthose \"clothes\" were then provided.  Like that man, it is our decision to\\nput the clothes on.\\n']"
            ]
          },
          "metadata": {
            "tags": []
          },
          "execution_count": 35
        }
      ]
    },
    {
      "cell_type": "code",
      "metadata": {
        "id": "toYu_PGfD9et",
        "colab_type": "code",
        "colab": {
          "base_uri": "https://localhost:8080/",
          "height": 34
        },
        "outputId": "f3905620-9746-424e-bd5c-ae76b59ce75d"
      },
      "source": [
        "twenty_train.target.shape"
      ],
      "execution_count": 36,
      "outputs": [
        {
          "output_type": "execute_result",
          "data": {
            "text/plain": [
              "(2257,)"
            ]
          },
          "metadata": {
            "tags": []
          },
          "execution_count": 36
        }
      ]
    },
    {
      "cell_type": "markdown",
      "metadata": {
        "id": "hTz4EaN_1WGc",
        "colab_type": "text"
      },
      "source": [
        "### 9.  Now with dependent and independent data available for both train and test datasets, using TfidfVectorizer fit and transform the training data and test data and get the tfidf features for both"
      ]
    },
    {
      "cell_type": "code",
      "metadata": {
        "id": "SFKLDZ1ZFl9M",
        "colab_type": "code",
        "colab": {}
      },
      "source": [
        "from sklearn.feature_extraction.text import TfidfVectorizer"
      ],
      "execution_count": 0,
      "outputs": []
    },
    {
      "cell_type": "code",
      "metadata": {
        "id": "H5G477f81C0Z",
        "colab_type": "code",
        "colab": {}
      },
      "source": [
        "vectorizer = TfidfVectorizer()\n",
        "twenty_train1 = vectorizer.fit_transform(twenty_train.data)\n",
        "twenty_test1 = vectorizer.transform(twenty_test.data)"
      ],
      "execution_count": 0,
      "outputs": []
    },
    {
      "cell_type": "code",
      "metadata": {
        "id": "-IjIZa4RHP-z",
        "colab_type": "code",
        "colab": {
          "base_uri": "https://localhost:8080/",
          "height": 34
        },
        "outputId": "519f7617-9e42-46fd-93f7-aa685694c89d"
      },
      "source": [
        "twenty_train1.shape"
      ],
      "execution_count": 73,
      "outputs": [
        {
          "output_type": "execute_result",
          "data": {
            "text/plain": [
              "(2257, 35788)"
            ]
          },
          "metadata": {
            "tags": []
          },
          "execution_count": 73
        }
      ]
    },
    {
      "cell_type": "code",
      "metadata": {
        "id": "CQkOwNciIUNE",
        "colab_type": "code",
        "colab": {
          "base_uri": "https://localhost:8080/",
          "height": 34
        },
        "outputId": "7f5675dc-c340-4329-e17d-1148d13b0c6a"
      },
      "source": [
        "twenty_train.target.shape"
      ],
      "execution_count": 74,
      "outputs": [
        {
          "output_type": "execute_result",
          "data": {
            "text/plain": [
              "(2257,)"
            ]
          },
          "metadata": {
            "tags": []
          },
          "execution_count": 74
        }
      ]
    },
    {
      "cell_type": "code",
      "metadata": {
        "id": "X0t9PnneHQI9",
        "colab_type": "code",
        "colab": {
          "base_uri": "https://localhost:8080/",
          "height": 34
        },
        "outputId": "4c74ad63-f50d-48da-9c7b-1144a61d9116"
      },
      "source": [
        "twenty_test1.shape"
      ],
      "execution_count": 75,
      "outputs": [
        {
          "output_type": "execute_result",
          "data": {
            "text/plain": [
              "(1502, 35788)"
            ]
          },
          "metadata": {
            "tags": []
          },
          "execution_count": 75
        }
      ]
    },
    {
      "cell_type": "code",
      "metadata": {
        "id": "BSgCXq7tIq2p",
        "colab_type": "code",
        "colab": {
          "base_uri": "https://localhost:8080/",
          "height": 34
        },
        "outputId": "c2756ec6-b1f3-4eab-88b3-330ad38f33e4"
      },
      "source": [
        "twenty_test.target.shape"
      ],
      "execution_count": 76,
      "outputs": [
        {
          "output_type": "execute_result",
          "data": {
            "text/plain": [
              "(1502,)"
            ]
          },
          "metadata": {
            "tags": []
          },
          "execution_count": 76
        }
      ]
    },
    {
      "cell_type": "markdown",
      "metadata": {
        "id": "tp_fDINJ1t4L",
        "colab_type": "text"
      },
      "source": [
        "### 10. Use logisticRegression with tfidf features as input and targets as output and train the model and report the train and test accuracy score"
      ]
    },
    {
      "cell_type": "code",
      "metadata": {
        "id": "THlN2b5d1yQp",
        "colab_type": "code",
        "colab": {}
      },
      "source": [
        "from sklearn.linear_model import LogisticRegression"
      ],
      "execution_count": 0,
      "outputs": []
    },
    {
      "cell_type": "code",
      "metadata": {
        "id": "_AbsBosNGfgk",
        "colab_type": "code",
        "colab": {}
      },
      "source": [
        "model1 = LogisticRegression()"
      ],
      "execution_count": 0,
      "outputs": []
    },
    {
      "cell_type": "code",
      "metadata": {
        "id": "mzaHisf0GjFA",
        "colab_type": "code",
        "colab": {
          "base_uri": "https://localhost:8080/",
          "height": 188
        },
        "outputId": "da0c0200-7bfe-4c32-9753-56add5c97f0c"
      },
      "source": [
        "model1.fit(twenty_train1, twenty_train.target)"
      ],
      "execution_count": 79,
      "outputs": [
        {
          "output_type": "stream",
          "text": [
            "/usr/local/lib/python3.6/dist-packages/sklearn/linear_model/logistic.py:432: FutureWarning: Default solver will be changed to 'lbfgs' in 0.22. Specify a solver to silence this warning.\n",
            "  FutureWarning)\n",
            "/usr/local/lib/python3.6/dist-packages/sklearn/linear_model/logistic.py:469: FutureWarning: Default multi_class will be changed to 'auto' in 0.22. Specify the multi_class option to silence this warning.\n",
            "  \"this warning.\", FutureWarning)\n"
          ],
          "name": "stderr"
        },
        {
          "output_type": "execute_result",
          "data": {
            "text/plain": [
              "LogisticRegression(C=1.0, class_weight=None, dual=False, fit_intercept=True,\n",
              "                   intercept_scaling=1, l1_ratio=None, max_iter=100,\n",
              "                   multi_class='warn', n_jobs=None, penalty='l2',\n",
              "                   random_state=None, solver='warn', tol=0.0001, verbose=0,\n",
              "                   warm_start=False)"
            ]
          },
          "metadata": {
            "tags": []
          },
          "execution_count": 79
        }
      ]
    },
    {
      "cell_type": "code",
      "metadata": {
        "id": "2TS03bxgGugg",
        "colab_type": "code",
        "colab": {}
      },
      "source": [
        "predicted = model1.predict(twenty_test1)"
      ],
      "execution_count": 0,
      "outputs": []
    },
    {
      "cell_type": "code",
      "metadata": {
        "id": "J0489xVwH5hc",
        "colab_type": "code",
        "colab": {}
      },
      "source": [
        "expected = twenty_test.target"
      ],
      "execution_count": 0,
      "outputs": []
    },
    {
      "cell_type": "code",
      "metadata": {
        "id": "hlxMOXP_OGkZ",
        "colab_type": "code",
        "colab": {
          "base_uri": "https://localhost:8080/",
          "height": 101
        },
        "outputId": "dbb206b1-5380-4223-bee7-b505e0f01e15"
      },
      "source": [
        "from sklearn.metrics import accuracy_score \n",
        "from sklearn.metrics import confusion_matrix\n",
        "print(confusion_matrix(expected, predicted))\n",
        "print(accuracy_score(expected,predicted))"
      ],
      "execution_count": 83,
      "outputs": [
        {
          "output_type": "stream",
          "text": [
            "[[240  16  15  48]\n",
            " [  2 376   6   5]\n",
            " [  3  47 341   5]\n",
            " [  4  14   5 375]]\n",
            "0.8868175765645806\n"
          ],
          "name": "stdout"
        }
      ]
    },
    {
      "cell_type": "code",
      "metadata": {
        "id": "pdWQNW-UOTvl",
        "colab_type": "code",
        "colab": {}
      },
      "source": [
        ""
      ],
      "execution_count": 0,
      "outputs": []
    }
  ]
}