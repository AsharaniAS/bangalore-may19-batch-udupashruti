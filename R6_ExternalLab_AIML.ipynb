{
 "cells": [
  {
   "cell_type": "markdown",
   "metadata": {
    "colab_type": "text",
    "id": "YYk8NG3yOIT9"
   },
   "source": [
    "### A MNIST-like fashion product database\n",
    "\n",
    "In this, we classify the images into respective classes given in the dataset. We use a Neural Net and a Deep Neural Net in Keras to solve this and check the accuracy scores."
   ]
  },
  {
   "cell_type": "markdown",
   "metadata": {
    "colab_type": "text",
    "id": "tFO6PuxzOIT_",
    "slideshow": {
     "slide_type": "slide"
    }
   },
   "source": [
    "### Load tensorflow"
   ]
  },
  {
   "cell_type": "code",
   "execution_count": 43,
   "metadata": {
    "colab": {},
    "colab_type": "code",
    "id": "efNjNImfOIUC"
   },
   "outputs": [],
   "source": [
    "import tensorflow as tf\n",
    "tf.random.set_seed(42)"
   ]
  },
  {
   "cell_type": "code",
   "execution_count": 44,
   "metadata": {
    "colab": {},
    "colab_type": "code",
    "id": "l9C4aAIGOIUH",
    "outputId": "5ef9aff6-a7bd-4b26-cba6-8750955f6ca3"
   },
   "outputs": [
    {
     "data": {
      "text/plain": [
       "'2.0.0'"
      ]
     },
     "execution_count": 44,
     "metadata": {},
     "output_type": "execute_result"
    }
   ],
   "source": [
    "tf.__version__"
   ]
  },
  {
   "cell_type": "markdown",
   "metadata": {
    "colab_type": "text",
    "id": "HcoZBStrOIUQ",
    "slideshow": {
     "slide_type": "slide"
    }
   },
   "source": [
    "### Collect Data"
   ]
  },
  {
   "cell_type": "code",
   "execution_count": 45,
   "metadata": {
    "colab": {},
    "colab_type": "code",
    "id": "XA1WsFSeOIUS"
   },
   "outputs": [],
   "source": [
    "import keras"
   ]
  },
  {
   "cell_type": "code",
   "execution_count": 46,
   "metadata": {
    "colab": {},
    "colab_type": "code",
    "id": "qnbx7TyQOIUY"
   },
   "outputs": [],
   "source": [
    "(trainX, trainY), (testX, testY) = keras.datasets.fashion_mnist.load_data()"
   ]
  },
  {
   "cell_type": "code",
   "execution_count": 47,
   "metadata": {
    "colab": {},
    "colab_type": "code",
    "id": "UbiHj5YPOIUc",
    "outputId": "87e1b9cd-07f0-45cb-e706-0d51ad742d72",
    "slideshow": {
     "slide_type": "fragment"
    }
   },
   "outputs": [
    {
     "name": "stdout",
     "output_type": "stream",
     "text": [
      "[9 2 1 1 6]\n"
     ]
    }
   ],
   "source": [
    "print(testY[0:5])"
   ]
  },
  {
   "cell_type": "code",
   "execution_count": 48,
   "metadata": {},
   "outputs": [
    {
     "name": "stdout",
     "output_type": "stream",
     "text": [
      "[9 0 0 3 0]\n"
     ]
    }
   ],
   "source": [
    "print(trainY[0:5])"
   ]
  },
  {
   "cell_type": "code",
   "execution_count": 49,
   "metadata": {},
   "outputs": [
    {
     "name": "stdout",
     "output_type": "stream",
     "text": [
      "[[  0   0   0   0   0   0   0   0   0   0   0   0   0   0   0   0   0   0\n",
      "    0   0   0   0   0   0   0   0   0   0]\n",
      " [  0   0   0   0   0   0   0   0   0   0   0   0   0   0   0   0   0   0\n",
      "    0   0   0   0   0   0   0   0   0   0]\n",
      " [  0   0   0   0   0   0   0   0   0   0   0   0   0   0   0   0   0   0\n",
      "    0   0   0   0   0   0   0   0   0   0]\n",
      " [  0   0   0   0   0   0   0   0   0   0   0   0   1   0   0  13  73   0\n",
      "    0   1   4   0   0   0   0   1   1   0]\n",
      " [  0   0   0   0   0   0   0   0   0   0   0   0   3   0  36 136 127  62\n",
      "   54   0   0   0   1   3   4   0   0   3]\n",
      " [  0   0   0   0   0   0   0   0   0   0   0   0   6   0 102 204 176 134\n",
      "  144 123  23   0   0   0   0  12  10   0]\n",
      " [  0   0   0   0   0   0   0   0   0   0   0   0   0   0 155 236 207 178\n",
      "  107 156 161 109  64  23  77 130  72  15]\n",
      " [  0   0   0   0   0   0   0   0   0   0   0   1   0  69 207 223 218 216\n",
      "  216 163 127 121 122 146 141  88 172  66]\n",
      " [  0   0   0   0   0   0   0   0   0   1   1   1   0 200 232 232 233 229\n",
      "  223 223 215 213 164 127 123 196 229   0]\n",
      " [  0   0   0   0   0   0   0   0   0   0   0   0   0 183 225 216 223 228\n",
      "  235 227 224 222 224 221 223 245 173   0]]\n"
     ]
    }
   ],
   "source": [
    "print(trainX[0][0:10])"
   ]
  },
  {
   "cell_type": "code",
   "execution_count": 50,
   "metadata": {},
   "outputs": [
    {
     "data": {
      "text/plain": [
       "(60000, 28, 28)"
      ]
     },
     "execution_count": 50,
     "metadata": {},
     "output_type": "execute_result"
    }
   ],
   "source": [
    "trainX.shape"
   ]
  },
  {
   "cell_type": "code",
   "execution_count": 51,
   "metadata": {},
   "outputs": [
    {
     "data": {
      "text/plain": [
       "(60000,)"
      ]
     },
     "execution_count": 51,
     "metadata": {},
     "output_type": "execute_result"
    }
   ],
   "source": [
    "trainY.shape"
   ]
  },
  {
   "cell_type": "code",
   "execution_count": 52,
   "metadata": {},
   "outputs": [
    {
     "data": {
      "text/plain": [
       "array([9, 0, 0, 3, 0, 2, 7, 2, 5, 5, 0, 9, 5, 5, 7, 9, 1, 0, 6, 4, 3, 1,\n",
       "       4, 8, 4, 3, 0, 2, 4, 4], dtype=uint8)"
      ]
     },
     "execution_count": 52,
     "metadata": {},
     "output_type": "execute_result"
    }
   ],
   "source": [
    "trainY[0:30]"
   ]
  },
  {
   "cell_type": "markdown",
   "metadata": {
    "colab_type": "text",
    "id": "lDAYzkwyOIUj",
    "slideshow": {
     "slide_type": "slide"
    }
   },
   "source": [
    "### Convert both training and testing labels into one-hot vectors.\n",
    "\n",
    "**Hint:** check **tf.keras.utils.to_categorical()**"
   ]
  },
  {
   "cell_type": "code",
   "execution_count": 53,
   "metadata": {
    "colab": {},
    "colab_type": "code",
    "id": "vBlfYlANOIUk"
   },
   "outputs": [],
   "source": [
    "trainY = tf.keras.utils.to_categorical(trainY)\n",
    "testY = tf.keras.utils.to_categorical(testY)"
   ]
  },
  {
   "cell_type": "code",
   "execution_count": 55,
   "metadata": {
    "colab": {},
    "colab_type": "code",
    "id": "RHV3b9mzOIUq",
    "outputId": "27bdfe58-91ee-4677-fe49-e742ad306c70",
    "scrolled": true,
    "slideshow": {
     "slide_type": "fragment"
    }
   },
   "outputs": [
    {
     "name": "stdout",
     "output_type": "stream",
     "text": [
      "(60000, 10)\n",
      "First 5 examples now are:  [[0. 0. 0. 0. 0. 0. 0. 0. 0. 1.]\n",
      " [1. 0. 0. 0. 0. 0. 0. 0. 0. 0.]\n",
      " [1. 0. 0. 0. 0. 0. 0. 0. 0. 0.]\n",
      " [0. 0. 0. 1. 0. 0. 0. 0. 0. 0.]\n",
      " [1. 0. 0. 0. 0. 0. 0. 0. 0. 0.]]\n"
     ]
    }
   ],
   "source": [
    "print(trainY.shape)\n",
    "print('First 5 examples now are: ', trainY[0:5])"
   ]
  },
  {
   "cell_type": "markdown",
   "metadata": {
    "colab_type": "text",
    "id": "FwhQ8e7VOIUw"
   },
   "source": [
    "### Visualize the data\n",
    "\n",
    "Plot first 10 images in the triaining set and their labels."
   ]
  },
  {
   "cell_type": "code",
   "execution_count": 0,
   "metadata": {
    "colab": {},
    "colab_type": "code",
    "id": "AvDML2OoOIUx",
    "outputId": "9dafc94e-61a8-4089-be03-d143163d68aa"
   },
   "outputs": [
    {
     "data": {
      "image/png": "[encoded data removed]",
      "text/plain": [
       "<matplotlib.figure.Figure at 0x7f60784a5950>"
      ]
     },
     "metadata": {
      "tags": []
     },
     "output_type": "display_data"
    },
    {
     "name": "stdout",
     "output_type": "stream",
     "text": [
      "label for each of the above image:\n",
      "9 0 0 3 0 2 7 2 5 5\n"
     ]
    }
   ],
   "source": []
  },
  {
   "cell_type": "code",
   "execution_count": 61,
   "metadata": {},
   "outputs": [],
   "source": [
    "label = [9,0,0,3,0,2,7,2,5,5]"
   ]
  },
  {
   "cell_type": "code",
   "execution_count": 62,
   "metadata": {},
   "outputs": [
    {
     "data": {
      "text/plain": [
       "[9, 0, 0, 3, 0, 2, 7, 2, 5, 5]"
      ]
     },
     "execution_count": 62,
     "metadata": {},
     "output_type": "execute_result"
    }
   ],
   "source": [
    "label"
   ]
  },
  {
   "cell_type": "code",
   "execution_count": 65,
   "metadata": {},
   "outputs": [
    {
     "data": {
      "image/png": "[encoded data removed]",
      "text/plain": [
       "<Figure size 720x720 with 10 Axes>"
      ]
     },
     "metadata": {},
     "output_type": "display_data"
    }
   ],
   "source": [
    "plt.figure(figsize=(10,10))\n",
    "for i in range(10):\n",
    "    plt.subplot(5,5,i+1)\n",
    "    plt.xticks([])\n",
    "    plt.yticks([])\n",
    "    plt.grid(False)\n",
    "    plt.imshow(trainX[i], cmap=plt.cm.binary)\n",
    "    plt.xlabel(label[i])\n",
    "plt.show()"
   ]
  },
  {
   "cell_type": "markdown",
   "metadata": {
    "colab_type": "text",
    "id": "l4TbJGeSOIU4",
    "slideshow": {
     "slide_type": "slide"
    }
   },
   "source": [
    "### Build a neural Network with a cross entropy loss function and sgd optimizer in Keras. The output layer with 10 neurons as we have 10 classes."
   ]
  },
  {
   "cell_type": "code",
   "execution_count": 94,
   "metadata": {
    "colab": {},
    "colab_type": "code",
    "id": "Ac06XZZTOIU6"
   },
   "outputs": [],
   "source": [
    "model = tf.keras.models.Sequential()"
   ]
  },
  {
   "cell_type": "code",
   "execution_count": 95,
   "metadata": {},
   "outputs": [],
   "source": [
    "model.add(tf.keras.layers.Reshape((784,),input_shape=(28,28,)))"
   ]
  },
  {
   "cell_type": "code",
   "execution_count": 96,
   "metadata": {},
   "outputs": [],
   "source": [
    "#hidden layers\n",
    "model.add(tf.keras.layers.Dense(200, activation='sigmoid'))\n",
    "model.add(tf.keras.layers.Dense(100, activation='sigmoid'))\n",
    "model.add(tf.keras.layers.Dense(50, activation='sigmoid'))"
   ]
  },
  {
   "cell_type": "code",
   "execution_count": 97,
   "metadata": {},
   "outputs": [],
   "source": [
    "#output layer\n",
    "model.add(tf.keras.layers.Dense(10, activation='softmax'))"
   ]
  },
  {
   "cell_type": "code",
   "execution_count": 98,
   "metadata": {},
   "outputs": [],
   "source": [
    "model.compile(optimizer='sgd', loss='categorical_crossentropy', metrics=['accuracy'])"
   ]
  },
  {
   "cell_type": "markdown",
   "metadata": {
    "colab_type": "text",
    "id": "3hQpLv3aOIU_",
    "slideshow": {
     "slide_type": "slide"
    }
   },
   "source": [
    "### Execute the model using model.fit()"
   ]
  },
  {
   "cell_type": "code",
   "execution_count": 99,
   "metadata": {
    "colab": {},
    "colab_type": "code",
    "id": "O59C_-IgOIVB"
   },
   "outputs": [
    {
     "name": "stdout",
     "output_type": "stream",
     "text": [
      "Train on 60000 samples, validate on 10000 samples\n",
      "Epoch 1/100\n",
      "60000/60000 [==============================] - 4s 66us/sample - loss: 1.9555 - accuracy: 0.4874 - val_loss: 1.5283 - val_accuracy: 0.6206\n",
      "Epoch 2/100\n",
      "60000/60000 [==============================] - 4s 64us/sample - loss: 1.2633 - accuracy: 0.6357 - val_loss: 1.0840 - val_accuracy: 0.6481\n",
      "Epoch 3/100\n",
      "60000/60000 [==============================] - 4s 63us/sample - loss: 0.9525 - accuracy: 0.6868 - val_loss: 0.8617 - val_accuracy: 0.7141\n",
      "Epoch 4/100\n",
      "60000/60000 [==============================] - 4s 61us/sample - loss: 0.7870 - accuracy: 0.7337 - val_loss: 0.7439 - val_accuracy: 0.7396\n",
      "Epoch 5/100\n",
      "60000/60000 [==============================] - 4s 62us/sample - loss: 0.6957 - accuracy: 0.7614 - val_loss: 0.6804 - val_accuracy: 0.7696\n",
      "Epoch 6/100\n",
      "60000/60000 [==============================] - 4s 61us/sample - loss: 0.6500 - accuracy: 0.7756 - val_loss: 0.6516 - val_accuracy: 0.7716\n",
      "Epoch 7/100\n",
      "60000/60000 [==============================] - 4s 61us/sample - loss: 0.6251 - accuracy: 0.7850 - val_loss: 0.6331 - val_accuracy: 0.7826\n",
      "Epoch 8/100\n",
      "60000/60000 [==============================] - 4s 61us/sample - loss: 0.6039 - accuracy: 0.7912 - val_loss: 0.6160 - val_accuracy: 0.7841\n",
      "Epoch 9/100\n",
      "60000/60000 [==============================] - 4s 60us/sample - loss: 0.6086 - accuracy: 0.7902 - val_loss: 0.6167 - val_accuracy: 0.7828\n",
      "Epoch 10/100\n",
      "60000/60000 [==============================] - 4s 60us/sample - loss: 0.6016 - accuracy: 0.7898 - val_loss: 0.6242 - val_accuracy: 0.7835\n",
      "Epoch 11/100\n",
      "60000/60000 [==============================] - 4s 60us/sample - loss: 0.5963 - accuracy: 0.7928 - val_loss: 0.6341 - val_accuracy: 0.7763\n",
      "Epoch 12/100\n",
      "60000/60000 [==============================] - 4s 62us/sample - loss: 0.6096 - accuracy: 0.7850 - val_loss: 0.6403 - val_accuracy: 0.7648\n",
      "Epoch 13/100\n",
      "60000/60000 [==============================] - 4s 61us/sample - loss: 0.6175 - accuracy: 0.7807 - val_loss: 0.6334 - val_accuracy: 0.7655\n",
      "Epoch 14/100\n",
      "60000/60000 [==============================] - 4s 59us/sample - loss: 0.6273 - accuracy: 0.7732 - val_loss: 0.6770 - val_accuracy: 0.7491\n",
      "Epoch 15/100\n",
      "60000/60000 [==============================] - 4s 61us/sample - loss: 0.6295 - accuracy: 0.7750 - val_loss: 0.6519 - val_accuracy: 0.7789\n",
      "Epoch 16/100\n",
      "60000/60000 [==============================] - 4s 60us/sample - loss: 0.6205 - accuracy: 0.7765 - val_loss: 0.6695 - val_accuracy: 0.7518\n",
      "Epoch 17/100\n",
      "60000/60000 [==============================] - 4s 61us/sample - loss: 0.6267 - accuracy: 0.7782 - val_loss: 0.6524 - val_accuracy: 0.7708\n",
      "Epoch 18/100\n",
      "60000/60000 [==============================] - 4s 65us/sample - loss: 0.6423 - accuracy: 0.7721 - val_loss: 0.6534 - val_accuracy: 0.7626\n",
      "Epoch 19/100\n",
      "60000/60000 [==============================] - 4s 61us/sample - loss: 0.6584 - accuracy: 0.7548 - val_loss: 0.6939 - val_accuracy: 0.7354\n",
      "Epoch 20/100\n",
      "60000/60000 [==============================] - 4s 61us/sample - loss: 0.6580 - accuracy: 0.7607 - val_loss: 0.6808 - val_accuracy: 0.7509\n",
      "Epoch 21/100\n",
      "60000/60000 [==============================] - 4s 60us/sample - loss: 0.6557 - accuracy: 0.7574 - val_loss: 0.6925 - val_accuracy: 0.7306\n",
      "Epoch 22/100\n",
      "60000/60000 [==============================] - 3s 57us/sample - loss: 0.6528 - accuracy: 0.7557 - val_loss: 0.6603 - val_accuracy: 0.7405\n",
      "Epoch 23/100\n",
      "60000/60000 [==============================] - 4s 64us/sample - loss: 0.6367 - accuracy: 0.7617 - val_loss: 0.6568 - val_accuracy: 0.7552\n",
      "Epoch 24/100\n",
      "60000/60000 [==============================] - 4s 59us/sample - loss: 0.6415 - accuracy: 0.7617 - val_loss: 0.6546 - val_accuracy: 0.7591\n",
      "Epoch 25/100\n",
      "60000/60000 [==============================] - 4s 60us/sample - loss: 0.6396 - accuracy: 0.7623 - val_loss: 0.6679 - val_accuracy: 0.7650\n",
      "Epoch 26/100\n",
      "60000/60000 [==============================] - 3s 57us/sample - loss: 0.6484 - accuracy: 0.7622 - val_loss: 0.6724 - val_accuracy: 0.7410\n",
      "Epoch 27/100\n",
      "60000/60000 [==============================] - 4s 61us/sample - loss: 0.6400 - accuracy: 0.7624 - val_loss: 0.7095 - val_accuracy: 0.7440\n",
      "Epoch 28/100\n",
      "60000/60000 [==============================] - 4s 59us/sample - loss: 0.6522 - accuracy: 0.7572 - val_loss: 0.6890 - val_accuracy: 0.7414\n",
      "Epoch 29/100\n",
      "60000/60000 [==============================] - 3s 58us/sample - loss: 0.6489 - accuracy: 0.7585 - val_loss: 0.6655 - val_accuracy: 0.7590\n",
      "Epoch 30/100\n",
      "60000/60000 [==============================] - 4s 61us/sample - loss: 0.6467 - accuracy: 0.7649 - val_loss: 0.6805 - val_accuracy: 0.7441\n",
      "Epoch 31/100\n",
      "60000/60000 [==============================] - 4s 59us/sample - loss: 0.6597 - accuracy: 0.7584 - val_loss: 0.7156 - val_accuracy: 0.7279\n",
      "Epoch 32/100\n",
      "60000/60000 [==============================] - 4s 59us/sample - loss: 0.6792 - accuracy: 0.7508 - val_loss: 0.7216 - val_accuracy: 0.7422\n",
      "Epoch 33/100\n",
      "60000/60000 [==============================] - 4s 59us/sample - loss: 0.6728 - accuracy: 0.7490 - val_loss: 0.6721 - val_accuracy: 0.7602\n",
      "Epoch 34/100\n",
      "60000/60000 [==============================] - 4s 61us/sample - loss: 0.6422 - accuracy: 0.7667 - val_loss: 0.6429 - val_accuracy: 0.7776\n",
      "Epoch 35/100\n",
      "60000/60000 [==============================] - 4s 65us/sample - loss: 0.6346 - accuracy: 0.7737 - val_loss: 0.6567 - val_accuracy: 0.7656\n",
      "Epoch 36/100\n",
      "60000/60000 [==============================] - 4s 60us/sample - loss: 0.6525 - accuracy: 0.7577 - val_loss: 0.6622 - val_accuracy: 0.7517\n",
      "Epoch 37/100\n",
      "60000/60000 [==============================] - 4s 60us/sample - loss: 0.6414 - accuracy: 0.7609 - val_loss: 0.6730 - val_accuracy: 0.7639\n",
      "Epoch 38/100\n",
      "60000/60000 [==============================] - 4s 69us/sample - loss: 0.6380 - accuracy: 0.7652 - val_loss: 0.6647 - val_accuracy: 0.7490\n",
      "Epoch 39/100\n",
      "60000/60000 [==============================] - 4s 62us/sample - loss: 0.6315 - accuracy: 0.7668 - val_loss: 0.6879 - val_accuracy: 0.7562\n",
      "Epoch 40/100\n",
      "60000/60000 [==============================] - 4s 59us/sample - loss: 0.6368 - accuracy: 0.7655 - val_loss: 0.6912 - val_accuracy: 0.7502\n",
      "Epoch 41/100\n",
      "60000/60000 [==============================] - 4s 64us/sample - loss: 0.6598 - accuracy: 0.7578 - val_loss: 0.6936 - val_accuracy: 0.7561\n",
      "Epoch 42/100\n",
      "60000/60000 [==============================] - 4s 62us/sample - loss: 0.6746 - accuracy: 0.7538 - val_loss: 0.6706 - val_accuracy: 0.7607\n",
      "Epoch 43/100\n",
      "60000/60000 [==============================] - 4s 70us/sample - loss: 0.6314 - accuracy: 0.7718 - val_loss: 0.6469 - val_accuracy: 0.7640\n",
      "Epoch 44/100\n",
      "60000/60000 [==============================] - 4s 62us/sample - loss: 0.6227 - accuracy: 0.7721 - val_loss: 0.6558 - val_accuracy: 0.7548\n",
      "Epoch 45/100\n",
      "60000/60000 [==============================] - 4s 60us/sample - loss: 0.6529 - accuracy: 0.7494 - val_loss: 0.7463 - val_accuracy: 0.7042\n",
      "Epoch 46/100\n",
      "60000/60000 [==============================] - 4s 59us/sample - loss: 0.6488 - accuracy: 0.7583 - val_loss: 0.6769 - val_accuracy: 0.7380\n",
      "Epoch 47/100\n",
      "60000/60000 [==============================] - 4s 59us/sample - loss: 0.6175 - accuracy: 0.7701 - val_loss: 0.6664 - val_accuracy: 0.7443\n",
      "Epoch 48/100\n",
      "60000/60000 [==============================] - 3s 58us/sample - loss: 0.6279 - accuracy: 0.7570 - val_loss: 0.6603 - val_accuracy: 0.7348\n",
      "Epoch 49/100\n",
      "60000/60000 [==============================] - 4s 62us/sample - loss: 0.6161 - accuracy: 0.7679 - val_loss: 0.6531 - val_accuracy: 0.7594\n",
      "Epoch 50/100\n",
      "60000/60000 [==============================] - 4s 59us/sample - loss: 0.6077 - accuracy: 0.7769 - val_loss: 0.6227 - val_accuracy: 0.7764\n",
      "Epoch 51/100\n",
      "60000/60000 [==============================] - 3s 58us/sample - loss: 0.6304 - accuracy: 0.7690 - val_loss: 0.6854 - val_accuracy: 0.7580\n",
      "Epoch 52/100\n",
      "60000/60000 [==============================] - 3s 58us/sample - loss: 0.6304 - accuracy: 0.7637 - val_loss: 0.6483 - val_accuracy: 0.7526\n",
      "Epoch 53/100\n",
      "60000/60000 [==============================] - 4s 59us/sample - loss: 0.6288 - accuracy: 0.7677 - val_loss: 0.6483 - val_accuracy: 0.7555\n",
      "Epoch 54/100\n",
      "60000/60000 [==============================] - 4s 59us/sample - loss: 0.6437 - accuracy: 0.7587 - val_loss: 0.6705 - val_accuracy: 0.7519\n"
     ]
    },
    {
     "name": "stdout",
     "output_type": "stream",
     "text": [
      "Epoch 55/100\n",
      "60000/60000 [==============================] - 4s 62us/sample - loss: 0.6233 - accuracy: 0.7742 - val_loss: 0.6216 - val_accuracy: 0.7813\n",
      "Epoch 56/100\n",
      "60000/60000 [==============================] - 4s 63us/sample - loss: 0.6218 - accuracy: 0.7732 - val_loss: 0.6521 - val_accuracy: 0.7446\n",
      "Epoch 57/100\n",
      "60000/60000 [==============================] - 4s 63us/sample - loss: 0.6288 - accuracy: 0.7703 - val_loss: 0.6756 - val_accuracy: 0.7439\n",
      "Epoch 58/100\n",
      "60000/60000 [==============================] - 4s 59us/sample - loss: 0.6212 - accuracy: 0.7737 - val_loss: 0.6786 - val_accuracy: 0.7576\n",
      "Epoch 59/100\n",
      "60000/60000 [==============================] - 4s 59us/sample - loss: 0.6391 - accuracy: 0.7658 - val_loss: 0.7000 - val_accuracy: 0.7161\n",
      "Epoch 60/100\n",
      "60000/60000 [==============================] - 4s 65us/sample - loss: 0.6289 - accuracy: 0.7692 - val_loss: 0.6689 - val_accuracy: 0.7473\n",
      "Epoch 61/100\n",
      "60000/60000 [==============================] - 4s 60us/sample - loss: 0.6318 - accuracy: 0.7603 - val_loss: 0.6428 - val_accuracy: 0.7656\n",
      "Epoch 62/100\n",
      "60000/60000 [==============================] - 4s 59us/sample - loss: 0.6150 - accuracy: 0.7702 - val_loss: 0.6722 - val_accuracy: 0.7563\n",
      "Epoch 63/100\n",
      "60000/60000 [==============================] - 4s 61us/sample - loss: 0.6054 - accuracy: 0.7769 - val_loss: 0.6748 - val_accuracy: 0.7449\n",
      "Epoch 64/100\n",
      "60000/60000 [==============================] - 4s 65us/sample - loss: 0.6020 - accuracy: 0.7798 - val_loss: 0.6325 - val_accuracy: 0.7656\n",
      "Epoch 65/100\n",
      "60000/60000 [==============================] - 4s 60us/sample - loss: 0.5943 - accuracy: 0.7780 - val_loss: 0.6186 - val_accuracy: 0.7796\n",
      "Epoch 66/100\n",
      "60000/60000 [==============================] - 4s 62us/sample - loss: 0.6009 - accuracy: 0.7815 - val_loss: 0.6292 - val_accuracy: 0.7626\n",
      "Epoch 67/100\n",
      "60000/60000 [==============================] - 4s 61us/sample - loss: 0.5957 - accuracy: 0.7808 - val_loss: 0.6108 - val_accuracy: 0.7827\n",
      "Epoch 68/100\n",
      "60000/60000 [==============================] - 4s 60us/sample - loss: 0.5990 - accuracy: 0.7774 - val_loss: 0.6303 - val_accuracy: 0.7748\n",
      "Epoch 69/100\n",
      "60000/60000 [==============================] - 4s 62us/sample - loss: 0.5977 - accuracy: 0.7835 - val_loss: 0.6286 - val_accuracy: 0.7753\n",
      "Epoch 70/100\n",
      "60000/60000 [==============================] - 4s 59us/sample - loss: 0.6147 - accuracy: 0.7728 - val_loss: 0.6370 - val_accuracy: 0.7589\n",
      "Epoch 71/100\n",
      "60000/60000 [==============================] - 4s 59us/sample - loss: 0.6266 - accuracy: 0.7646 - val_loss: 0.6353 - val_accuracy: 0.7661\n",
      "Epoch 72/100\n",
      "60000/60000 [==============================] - 4s 61us/sample - loss: 0.6112 - accuracy: 0.7771 - val_loss: 0.6197 - val_accuracy: 0.7816\n",
      "Epoch 73/100\n",
      "60000/60000 [==============================] - 4s 61us/sample - loss: 0.6004 - accuracy: 0.7754 - val_loss: 0.6422 - val_accuracy: 0.7551\n",
      "Epoch 74/100\n",
      "60000/60000 [==============================] - 4s 62us/sample - loss: 0.5991 - accuracy: 0.7795 - val_loss: 0.6664 - val_accuracy: 0.7611\n",
      "Epoch 75/100\n",
      "60000/60000 [==============================] - 4s 67us/sample - loss: 0.6159 - accuracy: 0.7778 - val_loss: 0.6455 - val_accuracy: 0.7703\n",
      "Epoch 76/100\n",
      "60000/60000 [==============================] - 4s 64us/sample - loss: 0.6142 - accuracy: 0.7781 - val_loss: 0.6932 - val_accuracy: 0.7302\n",
      "Epoch 77/100\n",
      "60000/60000 [==============================] - 4s 60us/sample - loss: 0.6278 - accuracy: 0.7648 - val_loss: 0.6539 - val_accuracy: 0.7609\n",
      "Epoch 78/100\n",
      "60000/60000 [==============================] - 4s 61us/sample - loss: 0.6400 - accuracy: 0.7624 - val_loss: 0.6800 - val_accuracy: 0.7354\n",
      "Epoch 79/100\n",
      "60000/60000 [==============================] - 4s 60us/sample - loss: 0.6187 - accuracy: 0.7763 - val_loss: 0.6402 - val_accuracy: 0.7743\n",
      "Epoch 80/100\n",
      "60000/60000 [==============================] - 4s 61us/sample - loss: 0.6224 - accuracy: 0.7749 - val_loss: 0.6846 - val_accuracy: 0.7518\n",
      "Epoch 81/100\n",
      "60000/60000 [==============================] - 4s 59us/sample - loss: 0.6353 - accuracy: 0.7634 - val_loss: 0.6535 - val_accuracy: 0.7697\n",
      "Epoch 82/100\n",
      "60000/60000 [==============================] - 4s 60us/sample - loss: 0.5993 - accuracy: 0.7833 - val_loss: 0.6046 - val_accuracy: 0.7881\n",
      "Epoch 83/100\n",
      "60000/60000 [==============================] - 4s 59us/sample - loss: 0.6207 - accuracy: 0.7689 - val_loss: 0.6249 - val_accuracy: 0.7723\n",
      "Epoch 84/100\n",
      "60000/60000 [==============================] - 4s 59us/sample - loss: 0.5900 - accuracy: 0.7856 - val_loss: 0.6203 - val_accuracy: 0.7717\n",
      "Epoch 85/100\n",
      "60000/60000 [==============================] - 4s 60us/sample - loss: 0.5907 - accuracy: 0.7811 - val_loss: 0.6083 - val_accuracy: 0.7676\n",
      "Epoch 86/100\n",
      "60000/60000 [==============================] - 4s 62us/sample - loss: 0.5752 - accuracy: 0.7880 - val_loss: 0.6013 - val_accuracy: 0.7683\n",
      "Epoch 87/100\n",
      "60000/60000 [==============================] - 4s 64us/sample - loss: 0.5727 - accuracy: 0.7869 - val_loss: 0.5972 - val_accuracy: 0.7826\n",
      "Epoch 88/100\n",
      "60000/60000 [==============================] - 4s 65us/sample - loss: 0.5694 - accuracy: 0.7946 - val_loss: 0.5964 - val_accuracy: 0.7901\n",
      "Epoch 89/100\n",
      "60000/60000 [==============================] - 4s 63us/sample - loss: 0.5761 - accuracy: 0.7898 - val_loss: 0.5911 - val_accuracy: 0.7852\n",
      "Epoch 90/100\n",
      "60000/60000 [==============================] - 4s 65us/sample - loss: 0.5632 - accuracy: 0.7945 - val_loss: 0.5987 - val_accuracy: 0.7813\n",
      "Epoch 91/100\n",
      "60000/60000 [==============================] - 4s 66us/sample - loss: 0.5752 - accuracy: 0.7850 - val_loss: 0.6171 - val_accuracy: 0.7577\n",
      "Epoch 92/100\n",
      "60000/60000 [==============================] - 4s 61us/sample - loss: 0.5803 - accuracy: 0.7856 - val_loss: 0.6381 - val_accuracy: 0.7682\n",
      "Epoch 93/100\n",
      "60000/60000 [==============================] - 4s 61us/sample - loss: 0.5867 - accuracy: 0.7780 - val_loss: 0.6150 - val_accuracy: 0.7849\n",
      "Epoch 94/100\n",
      "60000/60000 [==============================] - 4s 64us/sample - loss: 0.6058 - accuracy: 0.7729 - val_loss: 0.6354 - val_accuracy: 0.7382\n",
      "Epoch 95/100\n",
      "60000/60000 [==============================] - 4s 68us/sample - loss: 0.5909 - accuracy: 0.7732 - val_loss: 0.6027 - val_accuracy: 0.7664\n",
      "Epoch 96/100\n",
      "60000/60000 [==============================] - 3s 58us/sample - loss: 0.5967 - accuracy: 0.7728 - val_loss: 0.6227 - val_accuracy: 0.7621\n",
      "Epoch 97/100\n",
      "60000/60000 [==============================] - 3s 57us/sample - loss: 0.6054 - accuracy: 0.7717 - val_loss: 0.6170 - val_accuracy: 0.7776\n",
      "Epoch 98/100\n",
      "60000/60000 [==============================] - 3s 58us/sample - loss: 0.5783 - accuracy: 0.7850 - val_loss: 0.6072 - val_accuracy: 0.7609\n",
      "Epoch 99/100\n",
      "60000/60000 [==============================] - 4s 58us/sample - loss: 0.5877 - accuracy: 0.7814 - val_loss: 0.6093 - val_accuracy: 0.7635\n",
      "Epoch 100/100\n",
      "60000/60000 [==============================] - 3s 58us/sample - loss: 0.5761 - accuracy: 0.7867 - val_loss: 0.5985 - val_accuracy: 0.7775\n"
     ]
    },
    {
     "data": {
      "text/plain": [
       "<tensorflow.python.keras.callbacks.History at 0x1f6fb27a400>"
      ]
     },
     "execution_count": 99,
     "metadata": {},
     "output_type": "execute_result"
    }
   ],
   "source": [
    "model.fit(trainX,trainY,validation_data=(testX,testY),epochs=100,batch_size=32)"
   ]
  },
  {
   "cell_type": "code",
   "execution_count": 101,
   "metadata": {},
   "outputs": [
    {
     "name": "stdout",
     "output_type": "stream",
     "text": [
      "Model: \"sequential_10\"\n",
      "_________________________________________________________________\n",
      "Layer (type)                 Output Shape              Param #   \n",
      "=================================================================\n",
      "reshape_10 (Reshape)         (None, 784)               0         \n",
      "_________________________________________________________________\n",
      "dense_36 (Dense)             (None, 200)               157000    \n",
      "_________________________________________________________________\n",
      "dense_37 (Dense)             (None, 100)               20100     \n",
      "_________________________________________________________________\n",
      "dense_38 (Dense)             (None, 50)                5050      \n",
      "_________________________________________________________________\n",
      "dense_39 (Dense)             (None, 10)                510       \n",
      "=================================================================\n",
      "Total params: 182,660\n",
      "Trainable params: 182,660\n",
      "Non-trainable params: 0\n",
      "_________________________________________________________________\n"
     ]
    }
   ],
   "source": [
    "model.summary()"
   ]
  },
  {
   "cell_type": "markdown",
   "metadata": {
    "colab_type": "text",
    "id": "JdzDtGwDOIVF",
    "slideshow": {
     "slide_type": "slide"
    }
   },
   "source": [
    "### In the above Neural Network model add Batch Normalization layer after the input layer and repeat the steps."
   ]
  },
  {
   "cell_type": "code",
   "execution_count": 102,
   "metadata": {
    "colab": {},
    "colab_type": "code",
    "id": "kndfpdidOIVI"
   },
   "outputs": [],
   "source": [
    "model1 = tf.keras.models.Sequential()\n",
    "model1.add(tf.keras.layers.Reshape((784,),input_shape=(28,28,)))\n",
    "model1.add(tf.keras.layers.BatchNormalization())\n",
    "model1.add(tf.keras.layers.Dense(200, activation='sigmoid'))\n",
    "model1.add(tf.keras.layers.Dense(100, activation='sigmoid'))\n",
    "model1.add(tf.keras.layers.Dense(50, activation='sigmoid'))\n",
    "model1.add(tf.keras.layers.Dense(10, activation='softmax'))\n",
    "model1.compile(optimizer='sgd', loss='categorical_crossentropy', metrics=['accuracy'])"
   ]
  },
  {
   "cell_type": "markdown",
   "metadata": {
    "colab_type": "text",
    "id": "mwk3T5LJOIVN",
    "slideshow": {
     "slide_type": "slide"
    }
   },
   "source": [
    "### Execute the model"
   ]
  },
  {
   "cell_type": "code",
   "execution_count": 103,
   "metadata": {
    "colab": {},
    "colab_type": "code",
    "id": "JNLR8tcBOIVP"
   },
   "outputs": [
    {
     "name": "stdout",
     "output_type": "stream",
     "text": [
      "Train on 60000 samples, validate on 10000 samples\n",
      "Epoch 1/100\n",
      "60000/60000 [==============================] - 4s 73us/sample - loss: 2.1270 - accuracy: 0.4060 - val_loss: 1.8194 - val_accuracy: 0.5127\n",
      "Epoch 2/100\n",
      "60000/60000 [==============================] - 4s 73us/sample - loss: 1.5119 - accuracy: 0.5868 - val_loss: 1.2384 - val_accuracy: 0.6553\n",
      "Epoch 3/100\n",
      "60000/60000 [==============================] - 4s 71us/sample - loss: 1.0841 - accuracy: 0.6720 - val_loss: 0.9318 - val_accuracy: 0.7119\n",
      "Epoch 4/100\n",
      "60000/60000 [==============================] - 4s 69us/sample - loss: 0.8620 - accuracy: 0.7188 - val_loss: 0.7745 - val_accuracy: 0.7357\n",
      "Epoch 5/100\n",
      "60000/60000 [==============================] - 4s 68us/sample - loss: 0.7470 - accuracy: 0.7369 - val_loss: 0.6921 - val_accuracy: 0.7526\n",
      "Epoch 6/100\n",
      "60000/60000 [==============================] - 4s 70us/sample - loss: 0.6816 - accuracy: 0.7532 - val_loss: 0.6424 - val_accuracy: 0.7660\n",
      "Epoch 7/100\n",
      "60000/60000 [==============================] - 4s 68us/sample - loss: 0.6381 - accuracy: 0.7692 - val_loss: 0.6066 - val_accuracy: 0.7783\n",
      "Epoch 8/100\n",
      "60000/60000 [==============================] - 4s 72us/sample - loss: 0.6049 - accuracy: 0.7822 - val_loss: 0.5768 - val_accuracy: 0.7929\n",
      "Epoch 9/100\n",
      "60000/60000 [==============================] - 4s 71us/sample - loss: 0.5767 - accuracy: 0.7947 - val_loss: 0.5537 - val_accuracy: 0.8011\n",
      "Epoch 10/100\n",
      "60000/60000 [==============================] - 4s 70us/sample - loss: 0.5544 - accuracy: 0.8030 - val_loss: 0.5348 - val_accuracy: 0.8063\n",
      "Epoch 11/100\n",
      "60000/60000 [==============================] - 4s 71us/sample - loss: 0.5353 - accuracy: 0.8104 - val_loss: 0.5191 - val_accuracy: 0.8133\n",
      "Epoch 12/100\n",
      "60000/60000 [==============================] - 4s 66us/sample - loss: 0.5176 - accuracy: 0.8166 - val_loss: 0.5044 - val_accuracy: 0.8199\n",
      "Epoch 13/100\n",
      "60000/60000 [==============================] - 4s 74us/sample - loss: 0.5014 - accuracy: 0.8222 - val_loss: 0.4926 - val_accuracy: 0.8251\n",
      "Epoch 14/100\n",
      "60000/60000 [==============================] - 4s 70us/sample - loss: 0.4902 - accuracy: 0.8267 - val_loss: 0.4813 - val_accuracy: 0.8290\n",
      "Epoch 15/100\n",
      "60000/60000 [==============================] - 4s 72us/sample - loss: 0.4775 - accuracy: 0.8313 - val_loss: 0.4740 - val_accuracy: 0.8315\n",
      "Epoch 16/100\n",
      "60000/60000 [==============================] - 4s 70us/sample - loss: 0.4717 - accuracy: 0.8340 - val_loss: 0.4666 - val_accuracy: 0.8309\n",
      "Epoch 17/100\n",
      "60000/60000 [==============================] - 4s 68us/sample - loss: 0.4604 - accuracy: 0.8367 - val_loss: 0.4600 - val_accuracy: 0.8342\n",
      "Epoch 18/100\n",
      "60000/60000 [==============================] - 4s 67us/sample - loss: 0.4531 - accuracy: 0.8404 - val_loss: 0.4540 - val_accuracy: 0.8349\n",
      "Epoch 19/100\n",
      "60000/60000 [==============================] - 4s 67us/sample - loss: 0.4462 - accuracy: 0.8421 - val_loss: 0.4474 - val_accuracy: 0.8373\n",
      "Epoch 20/100\n",
      "60000/60000 [==============================] - 4s 68us/sample - loss: 0.4363 - accuracy: 0.8461 - val_loss: 0.4427 - val_accuracy: 0.8395\n",
      "Epoch 21/100\n",
      "60000/60000 [==============================] - 4s 69us/sample - loss: 0.4345 - accuracy: 0.8456 - val_loss: 0.4367 - val_accuracy: 0.8388\n",
      "Epoch 22/100\n",
      "60000/60000 [==============================] - 4s 73us/sample - loss: 0.4267 - accuracy: 0.8490 - val_loss: 0.4309 - val_accuracy: 0.8410\n",
      "Epoch 23/100\n",
      "60000/60000 [==============================] - 4s 67us/sample - loss: 0.4187 - accuracy: 0.8501 - val_loss: 0.4265 - val_accuracy: 0.8415\n",
      "Epoch 24/100\n",
      "60000/60000 [==============================] - 4s 69us/sample - loss: 0.4140 - accuracy: 0.8527 - val_loss: 0.4245 - val_accuracy: 0.8423\n",
      "Epoch 25/100\n",
      "60000/60000 [==============================] - 4s 71us/sample - loss: 0.4104 - accuracy: 0.8551 - val_loss: 0.4186 - val_accuracy: 0.8461\n",
      "Epoch 26/100\n",
      "60000/60000 [==============================] - 4s 72us/sample - loss: 0.4043 - accuracy: 0.8556 - val_loss: 0.4158 - val_accuracy: 0.8465\n",
      "Epoch 27/100\n",
      "60000/60000 [==============================] - 4s 67us/sample - loss: 0.3974 - accuracy: 0.8587 - val_loss: 0.4100 - val_accuracy: 0.8488\n",
      "Epoch 28/100\n",
      "60000/60000 [==============================] - 4s 67us/sample - loss: 0.3938 - accuracy: 0.8604 - val_loss: 0.4060 - val_accuracy: 0.8505\n",
      "Epoch 29/100\n",
      "60000/60000 [==============================] - 4s 68us/sample - loss: 0.3880 - accuracy: 0.8614 - val_loss: 0.4047 - val_accuracy: 0.8516\n",
      "Epoch 30/100\n",
      "60000/60000 [==============================] - 4s 68us/sample - loss: 0.3842 - accuracy: 0.8632 - val_loss: 0.3996 - val_accuracy: 0.8517\n",
      "Epoch 31/100\n",
      "60000/60000 [==============================] - 4s 67us/sample - loss: 0.3796 - accuracy: 0.8657 - val_loss: 0.3963 - val_accuracy: 0.8551\n",
      "Epoch 32/100\n",
      "60000/60000 [==============================] - 4s 67us/sample - loss: 0.3738 - accuracy: 0.8673 - val_loss: 0.3914 - val_accuracy: 0.8564\n",
      "Epoch 33/100\n",
      "60000/60000 [==============================] - 4s 68us/sample - loss: 0.3688 - accuracy: 0.8688 - val_loss: 0.3894 - val_accuracy: 0.8580\n",
      "Epoch 34/100\n",
      "60000/60000 [==============================] - 4s 66us/sample - loss: 0.3658 - accuracy: 0.8698 - val_loss: 0.3856 - val_accuracy: 0.8572\n",
      "Epoch 35/100\n",
      "60000/60000 [==============================] - 4s 67us/sample - loss: 0.3607 - accuracy: 0.8719 - val_loss: 0.3835 - val_accuracy: 0.8599\n",
      "Epoch 36/100\n",
      "60000/60000 [==============================] - 4s 66us/sample - loss: 0.3580 - accuracy: 0.8732 - val_loss: 0.3810 - val_accuracy: 0.8599\n",
      "Epoch 37/100\n",
      "60000/60000 [==============================] - 4s 69us/sample - loss: 0.3542 - accuracy: 0.8740 - val_loss: 0.3780 - val_accuracy: 0.8624\n",
      "Epoch 38/100\n",
      "60000/60000 [==============================] - 4s 67us/sample - loss: 0.3501 - accuracy: 0.8747 - val_loss: 0.3780 - val_accuracy: 0.8612\n",
      "Epoch 39/100\n",
      "60000/60000 [==============================] - 4s 66us/sample - loss: 0.3468 - accuracy: 0.8756 - val_loss: 0.3739 - val_accuracy: 0.8629\n",
      "Epoch 40/100\n",
      "60000/60000 [==============================] - 4s 67us/sample - loss: 0.3436 - accuracy: 0.8787 - val_loss: 0.3720 - val_accuracy: 0.8612\n",
      "Epoch 41/100\n",
      "60000/60000 [==============================] - 4s 67us/sample - loss: 0.3398 - accuracy: 0.8777 - val_loss: 0.3681 - val_accuracy: 0.8637\n",
      "Epoch 42/100\n",
      "60000/60000 [==============================] - 4s 67us/sample - loss: 0.3359 - accuracy: 0.8805 - val_loss: 0.3727 - val_accuracy: 0.8624\n",
      "Epoch 43/100\n",
      "60000/60000 [==============================] - 4s 67us/sample - loss: 0.3319 - accuracy: 0.8820 - val_loss: 0.3693 - val_accuracy: 0.8656\n",
      "Epoch 44/100\n",
      "60000/60000 [==============================] - 4s 68us/sample - loss: 0.3287 - accuracy: 0.8833 - val_loss: 0.3638 - val_accuracy: 0.8656\n",
      "Epoch 45/100\n",
      "60000/60000 [==============================] - 4s 68us/sample - loss: 0.3261 - accuracy: 0.8824 - val_loss: 0.3608 - val_accuracy: 0.8681\n",
      "Epoch 46/100\n",
      "60000/60000 [==============================] - 4s 67us/sample - loss: 0.3212 - accuracy: 0.8849 - val_loss: 0.3587 - val_accuracy: 0.8688\n",
      "Epoch 47/100\n",
      "60000/60000 [==============================] - 4s 68us/sample - loss: 0.3184 - accuracy: 0.8872 - val_loss: 0.3575 - val_accuracy: 0.8681\n",
      "Epoch 48/100\n",
      "60000/60000 [==============================] - 4s 68us/sample - loss: 0.3153 - accuracy: 0.8877 - val_loss: 0.3562 - val_accuracy: 0.8689\n",
      "Epoch 49/100\n",
      "60000/60000 [==============================] - 4s 66us/sample - loss: 0.3117 - accuracy: 0.8884 - val_loss: 0.3546 - val_accuracy: 0.8703\n",
      "Epoch 50/100\n",
      "60000/60000 [==============================] - 4s 67us/sample - loss: 0.3077 - accuracy: 0.8896 - val_loss: 0.3498 - val_accuracy: 0.8735\n",
      "Epoch 51/100\n",
      "60000/60000 [==============================] - 4s 66us/sample - loss: 0.3068 - accuracy: 0.8910 - val_loss: 0.3523 - val_accuracy: 0.8708\n",
      "Epoch 52/100\n",
      "60000/60000 [==============================] - 4s 66us/sample - loss: 0.3027 - accuracy: 0.8914 - val_loss: 0.3509 - val_accuracy: 0.8704\n",
      "Epoch 53/100\n",
      "60000/60000 [==============================] - 4s 68us/sample - loss: 0.2992 - accuracy: 0.8928 - val_loss: 0.3447 - val_accuracy: 0.8726\n",
      "Epoch 54/100\n",
      "60000/60000 [==============================] - 4s 68us/sample - loss: 0.2961 - accuracy: 0.8932 - val_loss: 0.3479 - val_accuracy: 0.8735\n"
     ]
    },
    {
     "name": "stdout",
     "output_type": "stream",
     "text": [
      "Epoch 55/100\n",
      "60000/60000 [==============================] - 4s 71us/sample - loss: 0.2937 - accuracy: 0.8939 - val_loss: 0.3421 - val_accuracy: 0.8750\n",
      "Epoch 56/100\n",
      "60000/60000 [==============================] - 4s 70us/sample - loss: 0.2922 - accuracy: 0.8956 - val_loss: 0.3435 - val_accuracy: 0.8748\n",
      "Epoch 57/100\n",
      "60000/60000 [==============================] - 4s 66us/sample - loss: 0.2872 - accuracy: 0.8967 - val_loss: 0.3410 - val_accuracy: 0.8750\n",
      "Epoch 58/100\n",
      "60000/60000 [==============================] - 4s 68us/sample - loss: 0.2861 - accuracy: 0.8970 - val_loss: 0.3422 - val_accuracy: 0.8770\n",
      "Epoch 59/100\n",
      "60000/60000 [==============================] - 4s 68us/sample - loss: 0.2810 - accuracy: 0.8989 - val_loss: 0.3399 - val_accuracy: 0.8755\n",
      "Epoch 60/100\n",
      "60000/60000 [==============================] - 4s 69us/sample - loss: 0.2797 - accuracy: 0.8999 - val_loss: 0.3365 - val_accuracy: 0.8768\n",
      "Epoch 61/100\n",
      "60000/60000 [==============================] - 4s 65us/sample - loss: 0.2773 - accuracy: 0.9006 - val_loss: 0.3366 - val_accuracy: 0.8762\n",
      "Epoch 62/100\n",
      "60000/60000 [==============================] - 4s 66us/sample - loss: 0.2745 - accuracy: 0.9010 - val_loss: 0.3372 - val_accuracy: 0.8795\n",
      "Epoch 63/100\n",
      "60000/60000 [==============================] - 4s 67us/sample - loss: 0.2721 - accuracy: 0.9017 - val_loss: 0.3360 - val_accuracy: 0.8784\n",
      "Epoch 64/100\n",
      "60000/60000 [==============================] - 4s 68us/sample - loss: 0.2684 - accuracy: 0.9029 - val_loss: 0.3355 - val_accuracy: 0.8775\n",
      "Epoch 65/100\n",
      "60000/60000 [==============================] - 4s 66us/sample - loss: 0.2648 - accuracy: 0.9056 - val_loss: 0.3334 - val_accuracy: 0.8801\n",
      "Epoch 66/100\n",
      "60000/60000 [==============================] - 4s 65us/sample - loss: 0.2632 - accuracy: 0.9059 - val_loss: 0.3320 - val_accuracy: 0.8787\n",
      "Epoch 67/100\n",
      "60000/60000 [==============================] - 4s 65us/sample - loss: 0.2617 - accuracy: 0.9069 - val_loss: 0.3344 - val_accuracy: 0.8820\n",
      "Epoch 68/100\n",
      "60000/60000 [==============================] - 4s 67us/sample - loss: 0.2575 - accuracy: 0.9070 - val_loss: 0.3321 - val_accuracy: 0.8801\n",
      "Epoch 69/100\n",
      "60000/60000 [==============================] - 4s 68us/sample - loss: 0.2549 - accuracy: 0.9082 - val_loss: 0.3354 - val_accuracy: 0.8789\n",
      "Epoch 70/100\n",
      "60000/60000 [==============================] - 5s 78us/sample - loss: 0.2538 - accuracy: 0.9077 - val_loss: 0.3315 - val_accuracy: 0.8815\n",
      "Epoch 71/100\n",
      "60000/60000 [==============================] - 4s 74us/sample - loss: 0.2497 - accuracy: 0.9102 - val_loss: 0.3334 - val_accuracy: 0.8824\n",
      "Epoch 72/100\n",
      "60000/60000 [==============================] - 4s 66us/sample - loss: 0.2466 - accuracy: 0.9108 - val_loss: 0.3337 - val_accuracy: 0.8822\n",
      "Epoch 73/100\n",
      "60000/60000 [==============================] - 4s 66us/sample - loss: 0.2456 - accuracy: 0.9117 - val_loss: 0.3308 - val_accuracy: 0.8816\n",
      "Epoch 74/100\n",
      "60000/60000 [==============================] - 4s 66us/sample - loss: 0.2423 - accuracy: 0.9122 - val_loss: 0.3320 - val_accuracy: 0.8814\n",
      "Epoch 75/100\n",
      "60000/60000 [==============================] - 4s 67us/sample - loss: 0.2386 - accuracy: 0.9152 - val_loss: 0.3416 - val_accuracy: 0.8796\n",
      "Epoch 76/100\n",
      "60000/60000 [==============================] - 4s 66us/sample - loss: 0.2402 - accuracy: 0.9132 - val_loss: 0.3307 - val_accuracy: 0.8825\n",
      "Epoch 77/100\n",
      "60000/60000 [==============================] - 4s 65us/sample - loss: 0.2360 - accuracy: 0.9148 - val_loss: 0.3259 - val_accuracy: 0.8827\n",
      "Epoch 78/100\n",
      "60000/60000 [==============================] - 4s 65us/sample - loss: 0.2332 - accuracy: 0.9162 - val_loss: 0.3254 - val_accuracy: 0.8827\n",
      "Epoch 79/100\n",
      "60000/60000 [==============================] - 4s 71us/sample - loss: 0.2296 - accuracy: 0.9177 - val_loss: 0.3328 - val_accuracy: 0.8817\n",
      "Epoch 80/100\n",
      "60000/60000 [==============================] - 4s 66us/sample - loss: 0.2298 - accuracy: 0.9173 - val_loss: 0.3320 - val_accuracy: 0.8840\n",
      "Epoch 81/100\n",
      "60000/60000 [==============================] - 4s 66us/sample - loss: 0.2278 - accuracy: 0.9170 - val_loss: 0.3240 - val_accuracy: 0.8835\n",
      "Epoch 82/100\n",
      "60000/60000 [==============================] - 4s 67us/sample - loss: 0.2251 - accuracy: 0.9190 - val_loss: 0.3272 - val_accuracy: 0.8828\n",
      "Epoch 83/100\n",
      "60000/60000 [==============================] - 4s 65us/sample - loss: 0.2207 - accuracy: 0.9215 - val_loss: 0.3288 - val_accuracy: 0.8828\n",
      "Epoch 84/100\n",
      "60000/60000 [==============================] - 4s 66us/sample - loss: 0.2182 - accuracy: 0.9218 - val_loss: 0.3314 - val_accuracy: 0.8856\n",
      "Epoch 85/100\n",
      "60000/60000 [==============================] - 4s 66us/sample - loss: 0.2180 - accuracy: 0.9221 - val_loss: 0.3211 - val_accuracy: 0.8836\n",
      "Epoch 86/100\n",
      "60000/60000 [==============================] - 4s 66us/sample - loss: 0.2139 - accuracy: 0.9231 - val_loss: 0.3249 - val_accuracy: 0.8856\n",
      "Epoch 87/100\n",
      "60000/60000 [==============================] - 4s 66us/sample - loss: 0.2139 - accuracy: 0.9231 - val_loss: 0.3266 - val_accuracy: 0.8820\n",
      "Epoch 88/100\n",
      "60000/60000 [==============================] - 5s 77us/sample - loss: 0.2100 - accuracy: 0.9257 - val_loss: 0.3239 - val_accuracy: 0.8850\n",
      "Epoch 89/100\n",
      "60000/60000 [==============================] - 4s 70us/sample - loss: 0.2087 - accuracy: 0.9256 - val_loss: 0.3283 - val_accuracy: 0.8853\n",
      "Epoch 90/100\n",
      "60000/60000 [==============================] - 4s 71us/sample - loss: 0.2073 - accuracy: 0.9257 - val_loss: 0.3297 - val_accuracy: 0.8830\n",
      "Epoch 91/100\n",
      "60000/60000 [==============================] - 4s 69us/sample - loss: 0.2050 - accuracy: 0.9259 - val_loss: 0.3271 - val_accuracy: 0.8839\n",
      "Epoch 92/100\n",
      "60000/60000 [==============================] - 5s 79us/sample - loss: 0.2021 - accuracy: 0.9279 - val_loss: 0.3242 - val_accuracy: 0.8858\n",
      "Epoch 93/100\n",
      "60000/60000 [==============================] - 4s 67us/sample - loss: 0.1994 - accuracy: 0.9280 - val_loss: 0.3385 - val_accuracy: 0.8836\n",
      "Epoch 94/100\n",
      "60000/60000 [==============================] - 4s 70us/sample - loss: 0.1980 - accuracy: 0.9295 - val_loss: 0.3257 - val_accuracy: 0.8858\n",
      "Epoch 95/100\n",
      "60000/60000 [==============================] - 5s 83us/sample - loss: 0.1948 - accuracy: 0.9302 - val_loss: 0.3305 - val_accuracy: 0.8851\n",
      "Epoch 96/100\n",
      "60000/60000 [==============================] - 5s 76us/sample - loss: 0.1938 - accuracy: 0.9314 - val_loss: 0.3302 - val_accuracy: 0.8872\n",
      "Epoch 97/100\n",
      "60000/60000 [==============================] - 4s 67us/sample - loss: 0.1909 - accuracy: 0.9315 - val_loss: 0.3288 - val_accuracy: 0.8851\n",
      "Epoch 98/100\n",
      "60000/60000 [==============================] - 4s 70us/sample - loss: 0.1887 - accuracy: 0.9323 - val_loss: 0.3261 - val_accuracy: 0.8855\n",
      "Epoch 99/100\n",
      "60000/60000 [==============================] - 4s 68us/sample - loss: 0.1881 - accuracy: 0.9327 - val_loss: 0.3371 - val_accuracy: 0.8872\n",
      "Epoch 100/100\n",
      "60000/60000 [==============================] - 4s 70us/sample - loss: 0.1832 - accuracy: 0.9350 - val_loss: 0.3340 - val_accuracy: 0.8845\n"
     ]
    },
    {
     "data": {
      "text/plain": [
       "<tensorflow.python.keras.callbacks.History at 0x1f6f85e3080>"
      ]
     },
     "execution_count": 103,
     "metadata": {},
     "output_type": "execute_result"
    }
   ],
   "source": [
    "model1.fit(trainX,trainY,validation_data=(testX,testY),epochs=100,batch_size=32)"
   ]
  },
  {
   "cell_type": "code",
   "execution_count": 104,
   "metadata": {},
   "outputs": [
    {
     "name": "stdout",
     "output_type": "stream",
     "text": [
      "Model: \"sequential_11\"\n",
      "_________________________________________________________________\n",
      "Layer (type)                 Output Shape              Param #   \n",
      "=================================================================\n",
      "reshape_11 (Reshape)         (None, 784)               0         \n",
      "_________________________________________________________________\n",
      "batch_normalization_10 (Batc (None, 784)               3136      \n",
      "_________________________________________________________________\n",
      "dense_40 (Dense)             (None, 200)               157000    \n",
      "_________________________________________________________________\n",
      "dense_41 (Dense)             (None, 100)               20100     \n",
      "_________________________________________________________________\n",
      "dense_42 (Dense)             (None, 50)                5050      \n",
      "_________________________________________________________________\n",
      "dense_43 (Dense)             (None, 10)                510       \n",
      "=================================================================\n",
      "Total params: 185,796\n",
      "Trainable params: 184,228\n",
      "Non-trainable params: 1,568\n",
      "_________________________________________________________________\n"
     ]
    }
   ],
   "source": [
    "model1.summary()"
   ]
  },
  {
   "cell_type": "markdown",
   "metadata": {
    "colab_type": "text",
    "id": "Py-KwkmjOIVU"
   },
   "source": [
    "### Customize the learning rate to 0.001 in sgd optimizer and run the model"
   ]
  },
  {
   "cell_type": "code",
   "execution_count": 133,
   "metadata": {
    "colab": {},
    "colab_type": "code",
    "id": "yLXUE9jWOIVV"
   },
   "outputs": [
    {
     "data": {
      "text/plain": [
       "<tensorflow.python.keras.optimizer_v2.gradient_descent.SGD at 0x1f6fad9e780>"
      ]
     },
     "execution_count": 133,
     "metadata": {},
     "output_type": "execute_result"
    }
   ],
   "source": [
    "model2 = tf.keras.models.Sequential()\n",
    "model2.add(tf.keras.layers.Reshape((784,),input_shape=(28,28,)))\n",
    "model2.add(tf.keras.layers.BatchNormalization())\n",
    "model2.add(tf.keras.layers.Dense(200, activation='sigmoid'))\n",
    "model2.add(tf.keras.layers.Dense(100, activation='sigmoid'))\n",
    "model2.add(tf.keras.layers.Dense(50, activation='sigmoid'))\n",
    "model2.add(tf.keras.layers.Dense(10, activation='softmax'))\n",
    "tf.keras.optimizers.SGD(learning_rate=0.001)"
   ]
  },
  {
   "cell_type": "code",
   "execution_count": 134,
   "metadata": {},
   "outputs": [],
   "source": [
    "model2.compile(loss='categorical_crossentropy', optimizer='sgd')"
   ]
  },
  {
   "cell_type": "code",
   "execution_count": 135,
   "metadata": {
    "colab": {},
    "colab_type": "code",
    "id": "pJUqA5T4OIVc"
   },
   "outputs": [
    {
     "name": "stdout",
     "output_type": "stream",
     "text": [
      "Train on 60000 samples, validate on 10000 samples\n",
      "Epoch 1/100\n",
      "60000/60000 [==============================] - 4s 70us/sample - loss: 2.1469 - val_loss: 1.8537\n",
      "Epoch 2/100\n",
      "60000/60000 [==============================] - 4s 62us/sample - loss: 1.5510 - val_loss: 1.2865\n",
      "Epoch 3/100\n",
      "60000/60000 [==============================] - 4s 63us/sample - loss: 1.1399 - val_loss: 0.9874\n",
      "Epoch 4/100\n",
      "60000/60000 [==============================] - 4s 64us/sample - loss: 0.9108 - val_loss: 0.8115\n",
      "Epoch 5/100\n",
      "60000/60000 [==============================] - 4s 65us/sample - loss: 0.7746 - val_loss: 0.7106\n",
      "Epoch 6/100\n",
      "60000/60000 [==============================] - 4s 62us/sample - loss: 0.6960 - val_loss: 0.6527\n",
      "Epoch 7/100\n",
      "60000/60000 [==============================] - 4s 66us/sample - loss: 0.6465 - val_loss: 0.6124\n",
      "Epoch 8/100\n",
      "60000/60000 [==============================] - 4s 66us/sample - loss: 0.6105 - val_loss: 0.5811\n",
      "Epoch 9/100\n",
      "60000/60000 [==============================] - 4s 74us/sample - loss: 0.5804 - val_loss: 0.5558\n",
      "Epoch 10/100\n",
      "60000/60000 [==============================] - 4s 65us/sample - loss: 0.5567 - val_loss: 0.5360\n",
      "Epoch 11/100\n",
      "60000/60000 [==============================] - 4s 65us/sample - loss: 0.5368 - val_loss: 0.5198\n",
      "Epoch 12/100\n",
      "60000/60000 [==============================] - 4s 64us/sample - loss: 0.5178 - val_loss: 0.5042\n",
      "Epoch 13/100\n",
      "60000/60000 [==============================] - 4s 64us/sample - loss: 0.5005 - val_loss: 0.4911\n",
      "Epoch 14/100\n",
      "60000/60000 [==============================] - 4s 64us/sample - loss: 0.4893 - val_loss: 0.4801\n",
      "Epoch 15/100\n",
      "60000/60000 [==============================] - 4s 63us/sample - loss: 0.4749 - val_loss: 0.4717\n",
      "Epoch 16/100\n",
      "60000/60000 [==============================] - 4s 63us/sample - loss: 0.4689 - val_loss: 0.4641\n",
      "Epoch 17/100\n",
      "60000/60000 [==============================] - 4s 65us/sample - loss: 0.4583 - val_loss: 0.4562\n",
      "Epoch 18/100\n",
      "60000/60000 [==============================] - 4s 63us/sample - loss: 0.4498 - val_loss: 0.4495\n",
      "Epoch 19/100\n",
      "60000/60000 [==============================] - 4s 64us/sample - loss: 0.4433 - val_loss: 0.4445\n",
      "Epoch 20/100\n",
      "60000/60000 [==============================] - 4s 64us/sample - loss: 0.4335 - val_loss: 0.4390\n",
      "Epoch 21/100\n",
      "60000/60000 [==============================] - 4s 63us/sample - loss: 0.4309 - val_loss: 0.4328\n",
      "Epoch 22/100\n",
      "60000/60000 [==============================] - 4s 64us/sample - loss: 0.4234 - val_loss: 0.4274\n",
      "Epoch 23/100\n",
      "60000/60000 [==============================] - 4s 64us/sample - loss: 0.4159 - val_loss: 0.4224\n",
      "Epoch 24/100\n",
      "60000/60000 [==============================] - 4s 63us/sample - loss: 0.4111 - val_loss: 0.4198\n",
      "Epoch 25/100\n",
      "60000/60000 [==============================] - 4s 64us/sample - loss: 0.4071 - val_loss: 0.4155\n",
      "Epoch 26/100\n",
      "60000/60000 [==============================] - 4s 65us/sample - loss: 0.4011 - val_loss: 0.4120\n",
      "Epoch 27/100\n",
      "60000/60000 [==============================] - 4s 63us/sample - loss: 0.3956 - val_loss: 0.4056\n",
      "Epoch 28/100\n",
      "60000/60000 [==============================] - 4s 65us/sample - loss: 0.3920 - val_loss: 0.4020\n",
      "Epoch 29/100\n",
      "60000/60000 [==============================] - 4s 63us/sample - loss: 0.3855 - val_loss: 0.4012\n",
      "Epoch 30/100\n",
      "60000/60000 [==============================] - 4s 64us/sample - loss: 0.3820 - val_loss: 0.3954\n",
      "Epoch 31/100\n",
      "60000/60000 [==============================] - 4s 64us/sample - loss: 0.3775 - val_loss: 0.3937\n",
      "Epoch 32/100\n",
      "60000/60000 [==============================] - 4s 64us/sample - loss: 0.3724 - val_loss: 0.3890\n",
      "Epoch 33/100\n",
      "60000/60000 [==============================] - 4s 64us/sample - loss: 0.3679 - val_loss: 0.3855\n",
      "Epoch 34/100\n",
      "60000/60000 [==============================] - 4s 64us/sample - loss: 0.3660 - val_loss: 0.3833\n",
      "Epoch 35/100\n",
      "60000/60000 [==============================] - 4s 64us/sample - loss: 0.3598 - val_loss: 0.3804\n",
      "Epoch 36/100\n",
      "60000/60000 [==============================] - 4s 63us/sample - loss: 0.3562 - val_loss: 0.3777\n",
      "Epoch 37/100\n",
      "60000/60000 [==============================] - 4s 64us/sample - loss: 0.3538 - val_loss: 0.3752\n",
      "Epoch 38/100\n",
      "60000/60000 [==============================] - 4s 64us/sample - loss: 0.3490 - val_loss: 0.3744\n",
      "Epoch 39/100\n",
      "60000/60000 [==============================] - 4s 64us/sample - loss: 0.3459 - val_loss: 0.3705\n",
      "Epoch 40/100\n",
      "60000/60000 [==============================] - 4s 73us/sample - loss: 0.3436 - val_loss: 0.3690\n",
      "Epoch 41/100\n",
      "60000/60000 [==============================] - 4s 64us/sample - loss: 0.3403 - val_loss: 0.3643\n",
      "Epoch 42/100\n",
      "60000/60000 [==============================] - 4s 72us/sample - loss: 0.3364 - val_loss: 0.3690\n",
      "Epoch 43/100\n",
      "60000/60000 [==============================] - 4s 64us/sample - loss: 0.3331 - val_loss: 0.3637\n",
      "Epoch 44/100\n",
      "60000/60000 [==============================] - 4s 63us/sample - loss: 0.3291 - val_loss: 0.3606\n",
      "Epoch 45/100\n",
      "60000/60000 [==============================] - 4s 67us/sample - loss: 0.3262 - val_loss: 0.3568\n",
      "Epoch 46/100\n",
      "60000/60000 [==============================] - 4s 62us/sample - loss: 0.3225 - val_loss: 0.3547\n",
      "Epoch 47/100\n",
      "60000/60000 [==============================] - 4s 62us/sample - loss: 0.3192 - val_loss: 0.3534\n",
      "Epoch 48/100\n",
      "60000/60000 [==============================] - 4s 61us/sample - loss: 0.3161 - val_loss: 0.3517\n",
      "Epoch 49/100\n",
      "60000/60000 [==============================] - 4s 62us/sample - loss: 0.3130 - val_loss: 0.3515\n",
      "Epoch 50/100\n",
      "60000/60000 [==============================] - 4s 64us/sample - loss: 0.3087 - val_loss: 0.3473\n",
      "Epoch 51/100\n",
      "60000/60000 [==============================] - 4s 72us/sample - loss: 0.3080 - val_loss: 0.3495\n",
      "Epoch 52/100\n",
      "60000/60000 [==============================] - 4s 65us/sample - loss: 0.3036 - val_loss: 0.3458\n",
      "Epoch 53/100\n",
      "60000/60000 [==============================] - 4s 62us/sample - loss: 0.3008 - val_loss: 0.3415\n",
      "Epoch 54/100\n",
      "60000/60000 [==============================] - 4s 62us/sample - loss: 0.2982 - val_loss: 0.3437\n",
      "Epoch 55/100\n",
      "60000/60000 [==============================] - 4s 63us/sample - loss: 0.2960 - val_loss: 0.3384\n",
      "Epoch 56/100\n",
      "60000/60000 [==============================] - 4s 62us/sample - loss: 0.2933 - val_loss: 0.3413\n",
      "Epoch 57/100\n",
      "60000/60000 [==============================] - 4s 63us/sample - loss: 0.2897 - val_loss: 0.3375\n",
      "Epoch 58/100\n",
      "60000/60000 [==============================] - 4s 63us/sample - loss: 0.2901 - val_loss: 0.3380\n",
      "Epoch 59/100\n",
      "60000/60000 [==============================] - 4s 62us/sample - loss: 0.2844 - val_loss: 0.3358\n",
      "Epoch 60/100\n",
      "60000/60000 [==============================] - 4s 61us/sample - loss: 0.2832 - val_loss: 0.3327\n",
      "Epoch 61/100\n",
      "60000/60000 [==============================] - 4s 66us/sample - loss: 0.2803 - val_loss: 0.3337\n",
      "Epoch 62/100\n",
      "60000/60000 [==============================] - 4s 65us/sample - loss: 0.2769 - val_loss: 0.3335\n",
      "Epoch 63/100\n",
      "60000/60000 [==============================] - 5s 77us/sample - loss: 0.2753 - val_loss: 0.3316\n",
      "Epoch 64/100\n",
      "60000/60000 [==============================] - 4s 75us/sample - loss: 0.2698 - val_loss: 0.3317\n",
      "Epoch 65/100\n",
      "60000/60000 [==============================] - 4s 68us/sample - loss: 0.2683 - val_loss: 0.3287\n",
      "Epoch 66/100\n",
      "60000/60000 [==============================] - 4s 65us/sample - loss: 0.2669 - val_loss: 0.3308\n",
      "Epoch 67/100\n",
      "60000/60000 [==============================] - 4s 65us/sample - loss: 0.2650 - val_loss: 0.3302\n",
      "Epoch 68/100\n",
      "60000/60000 [==============================] - 4s 65us/sample - loss: 0.2611 - val_loss: 0.3276\n",
      "Epoch 69/100\n",
      "60000/60000 [==============================] - 4s 62us/sample - loss: 0.2587 - val_loss: 0.3284\n",
      "Epoch 70/100\n",
      "60000/60000 [==============================] - 4s 62us/sample - loss: 0.2565 - val_loss: 0.3285\n",
      "Epoch 71/100\n",
      "60000/60000 [==============================] - 4s 64us/sample - loss: 0.2525 - val_loss: 0.3300\n",
      "Epoch 72/100\n",
      "60000/60000 [==============================] - 4s 64us/sample - loss: 0.2507 - val_loss: 0.3278\n",
      "Epoch 73/100\n",
      "60000/60000 [==============================] - 4s 67us/sample - loss: 0.2493 - val_loss: 0.3256\n",
      "Epoch 74/100\n",
      "60000/60000 [==============================] - 4s 65us/sample - loss: 0.2466 - val_loss: 0.3260\n",
      "Epoch 75/100\n",
      "60000/60000 [==============================] - 4s 65us/sample - loss: 0.2442 - val_loss: 0.3379\n"
     ]
    },
    {
     "name": "stdout",
     "output_type": "stream",
     "text": [
      "Epoch 76/100\n",
      "60000/60000 [==============================] - 4s 64us/sample - loss: 0.2433 - val_loss: 0.3237\n",
      "Epoch 77/100\n",
      "60000/60000 [==============================] - 4s 64us/sample - loss: 0.2399 - val_loss: 0.3230\n",
      "Epoch 78/100\n",
      "60000/60000 [==============================] - 4s 64us/sample - loss: 0.2385 - val_loss: 0.3210\n",
      "Epoch 79/100\n",
      "60000/60000 [==============================] - 4s 64us/sample - loss: 0.2350 - val_loss: 0.3254\n",
      "Epoch 80/100\n",
      "60000/60000 [==============================] - 4s 62us/sample - loss: 0.2341 - val_loss: 0.3294\n",
      "Epoch 81/100\n",
      "60000/60000 [==============================] - 4s 62us/sample - loss: 0.2318 - val_loss: 0.3220\n",
      "Epoch 82/100\n",
      "60000/60000 [==============================] - 4s 64us/sample - loss: 0.2292 - val_loss: 0.3232\n",
      "Epoch 83/100\n",
      "60000/60000 [==============================] - 4s 62us/sample - loss: 0.2251 - val_loss: 0.3228\n",
      "Epoch 84/100\n",
      "60000/60000 [==============================] - 4s 64us/sample - loss: 0.2247 - val_loss: 0.3258\n",
      "Epoch 85/100\n",
      "60000/60000 [==============================] - 4s 64us/sample - loss: 0.2202 - val_loss: 0.3222\n",
      "Epoch 86/100\n",
      "60000/60000 [==============================] - 4s 63us/sample - loss: 0.2181 - val_loss: 0.3232\n",
      "Epoch 87/100\n",
      "60000/60000 [==============================] - 4s 63us/sample - loss: 0.2194 - val_loss: 0.3222\n",
      "Epoch 88/100\n",
      "60000/60000 [==============================] - 4s 64us/sample - loss: 0.2160 - val_loss: 0.3254\n",
      "Epoch 89/100\n",
      "60000/60000 [==============================] - 4s 63us/sample - loss: 0.2145 - val_loss: 0.3248\n",
      "Epoch 90/100\n",
      "60000/60000 [==============================] - 4s 63us/sample - loss: 0.2122 - val_loss: 0.3243\n",
      "Epoch 91/100\n",
      "60000/60000 [==============================] - 4s 63us/sample - loss: 0.2111 - val_loss: 0.3207\n",
      "Epoch 92/100\n",
      "60000/60000 [==============================] - 4s 64us/sample - loss: 0.2092 - val_loss: 0.3206\n",
      "Epoch 93/100\n",
      "60000/60000 [==============================] - 4s 63us/sample - loss: 0.2049 - val_loss: 0.3306\n",
      "Epoch 94/100\n",
      "60000/60000 [==============================] - 4s 63us/sample - loss: 0.2044 - val_loss: 0.3214\n",
      "Epoch 95/100\n",
      "60000/60000 [==============================] - 4s 62us/sample - loss: 0.2019 - val_loss: 0.3260\n",
      "Epoch 96/100\n",
      "60000/60000 [==============================] - 4s 63us/sample - loss: 0.2004 - val_loss: 0.3231\n",
      "Epoch 97/100\n",
      "60000/60000 [==============================] - 4s 63us/sample - loss: 0.1973 - val_loss: 0.3249\n",
      "Epoch 98/100\n",
      "60000/60000 [==============================] - 4s 63us/sample - loss: 0.1955 - val_loss: 0.3241\n",
      "Epoch 99/100\n",
      "60000/60000 [==============================] - 4s 64us/sample - loss: 0.1951 - val_loss: 0.3296\n",
      "Epoch 100/100\n",
      "60000/60000 [==============================] - 4s 64us/sample - loss: 0.1907 - val_loss: 0.3312\n"
     ]
    },
    {
     "data": {
      "text/plain": [
       "<tensorflow.python.keras.callbacks.History at 0x1f6faeb6da0>"
      ]
     },
     "execution_count": 135,
     "metadata": {},
     "output_type": "execute_result"
    }
   ],
   "source": [
    "model2.fit(trainX,trainY,validation_data=(testX,testY),epochs=100,batch_size=32)"
   ]
  },
  {
   "cell_type": "code",
   "execution_count": 136,
   "metadata": {},
   "outputs": [
    {
     "name": "stdout",
     "output_type": "stream",
     "text": [
      "Model: \"sequential_24\"\n",
      "_________________________________________________________________\n",
      "Layer (type)                 Output Shape              Param #   \n",
      "=================================================================\n",
      "reshape_24 (Reshape)         (None, 784)               0         \n",
      "_________________________________________________________________\n",
      "batch_normalization_23 (Batc (None, 784)               3136      \n",
      "_________________________________________________________________\n",
      "dense_88 (Dense)             (None, 200)               157000    \n",
      "_________________________________________________________________\n",
      "dense_89 (Dense)             (None, 100)               20100     \n",
      "_________________________________________________________________\n",
      "dense_90 (Dense)             (None, 50)                5050      \n",
      "_________________________________________________________________\n",
      "dense_91 (Dense)             (None, 10)                510       \n",
      "=================================================================\n",
      "Total params: 185,796\n",
      "Trainable params: 184,228\n",
      "Non-trainable params: 1,568\n",
      "_________________________________________________________________\n"
     ]
    }
   ],
   "source": [
    "model2.summary()"
   ]
  },
  {
   "cell_type": "markdown",
   "metadata": {
    "colab_type": "text",
    "id": "j9CSqKvpOIVk",
    "slideshow": {
     "slide_type": "slide"
    }
   },
   "source": [
    "### Build the Neural Network model with 3 Dense layers with 100,100,10 neurons respectively in each layer. Use cross entropy loss function and singmoid as activation in the hidden layers and softmax as activation function in the output layer. Use sgd optimizer with learning rate 0.03."
   ]
  },
  {
   "cell_type": "code",
   "execution_count": 123,
   "metadata": {
    "colab": {},
    "colab_type": "code",
    "id": "GGAad54JOIVm"
   },
   "outputs": [
    {
     "data": {
      "text/plain": [
       "<tensorflow.python.keras.optimizer_v2.gradient_descent.SGD at 0x1f7061f4908>"
      ]
     },
     "execution_count": 123,
     "metadata": {},
     "output_type": "execute_result"
    }
   ],
   "source": [
    "model3 = tf.keras.models.Sequential()\n",
    "model3.add(tf.keras.layers.Reshape((784,),input_shape=(28,28,)))\n",
    "model3.add(tf.keras.layers.BatchNormalization())\n",
    "model3.add(tf.keras.layers.Dense(100, activation='sigmoid'))\n",
    "model3.add(tf.keras.layers.Dense(100, activation='sigmoid'))\n",
    "model3.add(tf.keras.layers.Dense(10, activation='softmax'))\n",
    "tf.keras.optimizers.SGD(learning_rate=0.03)"
   ]
  },
  {
   "cell_type": "code",
   "execution_count": 128,
   "metadata": {
    "colab": {},
    "colab_type": "code",
    "id": "MQ7oIymROIVp"
   },
   "outputs": [],
   "source": [
    "model3.compile(loss='categorical_crossentropy', optimizer='sgd')"
   ]
  },
  {
   "cell_type": "markdown",
   "metadata": {
    "colab_type": "text",
    "id": "Nr2YsZV0OIV0",
    "slideshow": {
     "slide_type": "slide"
    }
   },
   "source": [
    "## Review model"
   ]
  },
  {
   "cell_type": "code",
   "execution_count": 130,
   "metadata": {
    "colab": {},
    "colab_type": "code",
    "id": "h4ojW6-oOIV2"
   },
   "outputs": [
    {
     "name": "stdout",
     "output_type": "stream",
     "text": [
      "Model: \"sequential_23\"\n",
      "_________________________________________________________________\n",
      "Layer (type)                 Output Shape              Param #   \n",
      "=================================================================\n",
      "reshape_23 (Reshape)         (None, 784)               0         \n",
      "_________________________________________________________________\n",
      "batch_normalization_22 (Batc (None, 784)               3136      \n",
      "_________________________________________________________________\n",
      "dense_85 (Dense)             (None, 100)               78500     \n",
      "_________________________________________________________________\n",
      "dense_86 (Dense)             (None, 100)               10100     \n",
      "_________________________________________________________________\n",
      "dense_87 (Dense)             (None, 10)                1010      \n",
      "=================================================================\n",
      "Total params: 92,746\n",
      "Trainable params: 91,178\n",
      "Non-trainable params: 1,568\n",
      "_________________________________________________________________\n"
     ]
    }
   ],
   "source": [
    "model3.summary()"
   ]
  },
  {
   "cell_type": "markdown",
   "metadata": {
    "colab_type": "text",
    "id": "gfFGmbZLOIV5",
    "slideshow": {
     "slide_type": "slide"
    }
   },
   "source": [
    "### Run the model"
   ]
  },
  {
   "cell_type": "code",
   "execution_count": 132,
   "metadata": {
    "colab": {},
    "colab_type": "code",
    "id": "bIkbMEN5OIV7"
   },
   "outputs": [
    {
     "name": "stdout",
     "output_type": "stream",
     "text": [
      "Train on 60000 samples, validate on 10000 samples\n",
      "Epoch 1/100\n",
      "60000/60000 [==============================] - 4s 71us/sample - loss: 0.1828 - accuracy: 0.9353 - val_loss: 0.3313 - val_accuracy: 0.8865\n",
      "Epoch 2/100\n",
      "60000/60000 [==============================] - 4s 70us/sample - loss: 0.1837 - accuracy: 0.9346 - val_loss: 0.3357 - val_accuracy: 0.8817\n",
      "Epoch 3/100\n",
      "60000/60000 [==============================] - 4s 72us/sample - loss: 0.1813 - accuracy: 0.9353 - val_loss: 0.3312 - val_accuracy: 0.8860\n",
      "Epoch 4/100\n",
      "60000/60000 [==============================] - 4s 70us/sample - loss: 0.1792 - accuracy: 0.9362 - val_loss: 0.3308 - val_accuracy: 0.8864\n",
      "Epoch 5/100\n",
      "60000/60000 [==============================] - 4s 75us/sample - loss: 0.1766 - accuracy: 0.9371 - val_loss: 0.3345 - val_accuracy: 0.8855\n",
      "Epoch 6/100\n",
      "60000/60000 [==============================] - 5s 77us/sample - loss: 0.1749 - accuracy: 0.9370 - val_loss: 0.3376 - val_accuracy: 0.8865\n",
      "Epoch 7/100\n",
      "60000/60000 [==============================] - 4s 72us/sample - loss: 0.1738 - accuracy: 0.9374 - val_loss: 0.3450 - val_accuracy: 0.8838\n",
      "Epoch 8/100\n",
      "60000/60000 [==============================] - 4s 68us/sample - loss: 0.1718 - accuracy: 0.9380 - val_loss: 0.3371 - val_accuracy: 0.8847\n",
      "Epoch 9/100\n",
      "60000/60000 [==============================] - 4s 69us/sample - loss: 0.1698 - accuracy: 0.9405 - val_loss: 0.3394 - val_accuracy: 0.8824\n",
      "Epoch 10/100\n",
      "60000/60000 [==============================] - 4s 69us/sample - loss: 0.1676 - accuracy: 0.9407 - val_loss: 0.3400 - val_accuracy: 0.8887\n",
      "Epoch 11/100\n",
      "60000/60000 [==============================] - 4s 69us/sample - loss: 0.1682 - accuracy: 0.9407 - val_loss: 0.3376 - val_accuracy: 0.8872\n",
      "Epoch 12/100\n",
      "60000/60000 [==============================] - 4s 68us/sample - loss: 0.1648 - accuracy: 0.9404 - val_loss: 0.3363 - val_accuracy: 0.8865\n",
      "Epoch 13/100\n",
      "60000/60000 [==============================] - 4s 69us/sample - loss: 0.1605 - accuracy: 0.9433 - val_loss: 0.3432 - val_accuracy: 0.8872\n",
      "Epoch 14/100\n",
      "60000/60000 [==============================] - 4s 69us/sample - loss: 0.1607 - accuracy: 0.9425 - val_loss: 0.3416 - val_accuracy: 0.8866\n",
      "Epoch 15/100\n",
      "60000/60000 [==============================] - 4s 68us/sample - loss: 0.1578 - accuracy: 0.9438 - val_loss: 0.3419 - val_accuracy: 0.8847\n",
      "Epoch 16/100\n",
      "60000/60000 [==============================] - 4s 69us/sample - loss: 0.1584 - accuracy: 0.9437 - val_loss: 0.3518 - val_accuracy: 0.8818\n",
      "Epoch 17/100\n",
      "60000/60000 [==============================] - 4s 69us/sample - loss: 0.1561 - accuracy: 0.9440 - val_loss: 0.3577 - val_accuracy: 0.8883\n",
      "Epoch 18/100\n",
      "60000/60000 [==============================] - 4s 70us/sample - loss: 0.1536 - accuracy: 0.9453 - val_loss: 0.3490 - val_accuracy: 0.8865\n",
      "Epoch 19/100\n",
      "60000/60000 [==============================] - 4s 72us/sample - loss: 0.1532 - accuracy: 0.9452 - val_loss: 0.3478 - val_accuracy: 0.8883\n",
      "Epoch 20/100\n",
      "60000/60000 [==============================] - 4s 70us/sample - loss: 0.1510 - accuracy: 0.9466 - val_loss: 0.3520 - val_accuracy: 0.8853\n",
      "Epoch 21/100\n",
      "60000/60000 [==============================] - 4s 69us/sample - loss: 0.1510 - accuracy: 0.9466 - val_loss: 0.3508 - val_accuracy: 0.8868\n",
      "Epoch 22/100\n",
      "60000/60000 [==============================] - 4s 74us/sample - loss: 0.1492 - accuracy: 0.9470 - val_loss: 0.3464 - val_accuracy: 0.8857\n",
      "Epoch 23/100\n",
      "60000/60000 [==============================] - 4s 70us/sample - loss: 0.1462 - accuracy: 0.9478 - val_loss: 0.3474 - val_accuracy: 0.8883\n",
      "Epoch 24/100\n",
      "60000/60000 [==============================] - 4s 68us/sample - loss: 0.1427 - accuracy: 0.9491 - val_loss: 0.3459 - val_accuracy: 0.8876\n",
      "Epoch 25/100\n",
      "60000/60000 [==============================] - 4s 72us/sample - loss: 0.1454 - accuracy: 0.9485 - val_loss: 0.3535 - val_accuracy: 0.8870\n",
      "Epoch 26/100\n",
      "60000/60000 [==============================] - 4s 72us/sample - loss: 0.1431 - accuracy: 0.9498 - val_loss: 0.3543 - val_accuracy: 0.8904\n",
      "Epoch 27/100\n",
      "60000/60000 [==============================] - 5s 81us/sample - loss: 0.1391 - accuracy: 0.9510 - val_loss: 0.3479 - val_accuracy: 0.8855\n",
      "Epoch 28/100\n",
      "60000/60000 [==============================] - 5s 80us/sample - loss: 0.1421 - accuracy: 0.9496 - val_loss: 0.3504 - val_accuracy: 0.8882\n",
      "Epoch 29/100\n",
      "60000/60000 [==============================] - 4s 70us/sample - loss: 0.1404 - accuracy: 0.9500 - val_loss: 0.3675 - val_accuracy: 0.8829\n",
      "Epoch 30/100\n",
      "60000/60000 [==============================] - 4s 69us/sample - loss: 0.1371 - accuracy: 0.9513 - val_loss: 0.3494 - val_accuracy: 0.8877\n",
      "Epoch 31/100\n",
      "60000/60000 [==============================] - 4s 68us/sample - loss: 0.1351 - accuracy: 0.9522 - val_loss: 0.3605 - val_accuracy: 0.8857\n",
      "Epoch 32/100\n",
      "60000/60000 [==============================] - 4s 70us/sample - loss: 0.1321 - accuracy: 0.9531 - val_loss: 0.3558 - val_accuracy: 0.8900\n",
      "Epoch 33/100\n",
      "60000/60000 [==============================] - 4s 70us/sample - loss: 0.1318 - accuracy: 0.9537 - val_loss: 0.3635 - val_accuracy: 0.8867\n",
      "Epoch 34/100\n",
      "60000/60000 [==============================] - 4s 71us/sample - loss: 0.1312 - accuracy: 0.9539 - val_loss: 0.3632 - val_accuracy: 0.8855\n",
      "Epoch 35/100\n",
      "60000/60000 [==============================] - 4s 72us/sample - loss: 0.1304 - accuracy: 0.9536 - val_loss: 0.3618 - val_accuracy: 0.8866\n",
      "Epoch 36/100\n",
      "60000/60000 [==============================] - 5s 78us/sample - loss: 0.1271 - accuracy: 0.9552 - val_loss: 0.3625 - val_accuracy: 0.8856\n",
      "Epoch 37/100\n",
      "60000/60000 [==============================] - 4s 73us/sample - loss: 0.1272 - accuracy: 0.9556 - val_loss: 0.3561 - val_accuracy: 0.8879\n",
      "Epoch 38/100\n",
      "60000/60000 [==============================] - 4s 70us/sample - loss: 0.1273 - accuracy: 0.9544 - val_loss: 0.3694 - val_accuracy: 0.8844\n",
      "Epoch 39/100\n",
      "60000/60000 [==============================] - 4s 70us/sample - loss: 0.1228 - accuracy: 0.9579 - val_loss: 0.3735 - val_accuracy: 0.8825\n",
      "Epoch 40/100\n",
      "60000/60000 [==============================] - 4s 69us/sample - loss: 0.1237 - accuracy: 0.9560 - val_loss: 0.3665 - val_accuracy: 0.8855\n",
      "Epoch 41/100\n",
      "60000/60000 [==============================] - 4s 71us/sample - loss: 0.1242 - accuracy: 0.9569 - val_loss: 0.3664 - val_accuracy: 0.8847\n",
      "Epoch 42/100\n",
      "60000/60000 [==============================] - 4s 70us/sample - loss: 0.1233 - accuracy: 0.9564 - val_loss: 0.3678 - val_accuracy: 0.8864\n",
      "Epoch 43/100\n",
      "60000/60000 [==============================] - 4s 70us/sample - loss: 0.1194 - accuracy: 0.9582 - val_loss: 0.3882 - val_accuracy: 0.8845\n",
      "Epoch 44/100\n",
      "60000/60000 [==============================] - 4s 72us/sample - loss: 0.1192 - accuracy: 0.9574 - val_loss: 0.3792 - val_accuracy: 0.8843\n",
      "Epoch 45/100\n",
      "60000/60000 [==============================] - 4s 71us/sample - loss: 0.1190 - accuracy: 0.9578 - val_loss: 0.3790 - val_accuracy: 0.8812\n",
      "Epoch 46/100\n",
      "60000/60000 [==============================] - 4s 70us/sample - loss: 0.1184 - accuracy: 0.9584 - val_loss: 0.3744 - val_accuracy: 0.8856\n",
      "Epoch 47/100\n",
      "60000/60000 [==============================] - 4s 70us/sample - loss: 0.1153 - accuracy: 0.9587 - val_loss: 0.3800 - val_accuracy: 0.8814\n",
      "Epoch 48/100\n",
      "60000/60000 [==============================] - 4s 71us/sample - loss: 0.1140 - accuracy: 0.9603 - val_loss: 0.3835 - val_accuracy: 0.8850\n",
      "Epoch 49/100\n",
      "60000/60000 [==============================] - 4s 70us/sample - loss: 0.1158 - accuracy: 0.9593 - val_loss: 0.3846 - val_accuracy: 0.8834\n",
      "Epoch 50/100\n",
      "60000/60000 [==============================] - 4s 71us/sample - loss: 0.1121 - accuracy: 0.9612 - val_loss: 0.3706 - val_accuracy: 0.8859\n",
      "Epoch 51/100\n",
      "60000/60000 [==============================] - 4s 71us/sample - loss: 0.1115 - accuracy: 0.9613 - val_loss: 0.3849 - val_accuracy: 0.8847\n",
      "Epoch 52/100\n",
      "60000/60000 [==============================] - 4s 71us/sample - loss: 0.1117 - accuracy: 0.9601 - val_loss: 0.3804 - val_accuracy: 0.8825\n",
      "Epoch 53/100\n",
      "60000/60000 [==============================] - 4s 70us/sample - loss: 0.1108 - accuracy: 0.9618 - val_loss: 0.3737 - val_accuracy: 0.8866\n",
      "Epoch 54/100\n",
      "60000/60000 [==============================] - 4s 70us/sample - loss: 0.1082 - accuracy: 0.9619 - val_loss: 0.3839 - val_accuracy: 0.8858\n"
     ]
    },
    {
     "name": "stdout",
     "output_type": "stream",
     "text": [
      "Epoch 55/100\n",
      "60000/60000 [==============================] - 4s 70us/sample - loss: 0.1061 - accuracy: 0.9626 - val_loss: 0.3877 - val_accuracy: 0.8858\n",
      "Epoch 56/100\n",
      "60000/60000 [==============================] - 4s 71us/sample - loss: 0.1060 - accuracy: 0.9630 - val_loss: 0.3890 - val_accuracy: 0.8823\n",
      "Epoch 57/100\n",
      "60000/60000 [==============================] - 4s 69us/sample - loss: 0.1048 - accuracy: 0.9635 - val_loss: 0.3873 - val_accuracy: 0.8824\n",
      "Epoch 58/100\n",
      "60000/60000 [==============================] - 4s 71us/sample - loss: 0.1060 - accuracy: 0.9634 - val_loss: 0.3874 - val_accuracy: 0.8847\n",
      "Epoch 59/100\n",
      "60000/60000 [==============================] - 4s 70us/sample - loss: 0.1019 - accuracy: 0.9641 - val_loss: 0.3922 - val_accuracy: 0.8842\n",
      "Epoch 60/100\n",
      "60000/60000 [==============================] - 4s 69us/sample - loss: 0.1030 - accuracy: 0.9639 - val_loss: 0.3899 - val_accuracy: 0.8855\n",
      "Epoch 61/100\n",
      "60000/60000 [==============================] - 4s 70us/sample - loss: 0.1018 - accuracy: 0.9639 - val_loss: 0.3953 - val_accuracy: 0.8841\n",
      "Epoch 62/100\n",
      "60000/60000 [==============================] - 4s 71us/sample - loss: 0.0998 - accuracy: 0.9655 - val_loss: 0.4044 - val_accuracy: 0.8854\n",
      "Epoch 63/100\n",
      "60000/60000 [==============================] - 4s 72us/sample - loss: 0.1003 - accuracy: 0.9652 - val_loss: 0.4002 - val_accuracy: 0.8811\n",
      "Epoch 64/100\n",
      "60000/60000 [==============================] - 4s 70us/sample - loss: 0.0991 - accuracy: 0.9658 - val_loss: 0.4033 - val_accuracy: 0.8841\n",
      "Epoch 65/100\n",
      "60000/60000 [==============================] - 4s 70us/sample - loss: 0.0968 - accuracy: 0.9663 - val_loss: 0.4036 - val_accuracy: 0.8844\n",
      "Epoch 66/100\n",
      "60000/60000 [==============================] - 4s 70us/sample - loss: 0.0969 - accuracy: 0.9667 - val_loss: 0.3994 - val_accuracy: 0.8864\n",
      "Epoch 67/100\n",
      "60000/60000 [==============================] - 4s 71us/sample - loss: 0.0964 - accuracy: 0.9661 - val_loss: 0.3976 - val_accuracy: 0.8845\n",
      "Epoch 68/100\n",
      "60000/60000 [==============================] - 4s 69us/sample - loss: 0.0949 - accuracy: 0.9661 - val_loss: 0.4062 - val_accuracy: 0.8849\n",
      "Epoch 69/100\n",
      "60000/60000 [==============================] - 4s 70us/sample - loss: 0.0948 - accuracy: 0.9670 - val_loss: 0.4027 - val_accuracy: 0.8873\n",
      "Epoch 70/100\n",
      "60000/60000 [==============================] - 4s 69us/sample - loss: 0.0919 - accuracy: 0.9679 - val_loss: 0.4077 - val_accuracy: 0.8825\n",
      "Epoch 71/100\n",
      "60000/60000 [==============================] - 4s 71us/sample - loss: 0.0899 - accuracy: 0.9698 - val_loss: 0.4042 - val_accuracy: 0.8841\n",
      "Epoch 72/100\n",
      "60000/60000 [==============================] - 4s 70us/sample - loss: 0.0916 - accuracy: 0.9679 - val_loss: 0.4034 - val_accuracy: 0.8847\n",
      "Epoch 73/100\n",
      "60000/60000 [==============================] - 4s 69us/sample - loss: 0.0924 - accuracy: 0.9680 - val_loss: 0.4015 - val_accuracy: 0.8840\n",
      "Epoch 74/100\n",
      "60000/60000 [==============================] - 4s 69us/sample - loss: 0.0897 - accuracy: 0.9688 - val_loss: 0.4133 - val_accuracy: 0.8833\n",
      "Epoch 75/100\n",
      "60000/60000 [==============================] - 4s 70us/sample - loss: 0.0877 - accuracy: 0.9691 - val_loss: 0.4277 - val_accuracy: 0.8810\n",
      "Epoch 76/100\n",
      "60000/60000 [==============================] - 4s 70us/sample - loss: 0.0902 - accuracy: 0.9690 - val_loss: 0.4151 - val_accuracy: 0.8854\n",
      "Epoch 77/100\n",
      "60000/60000 [==============================] - 4s 69us/sample - loss: 0.0887 - accuracy: 0.9689 - val_loss: 0.4077 - val_accuracy: 0.8850\n",
      "Epoch 78/100\n",
      "60000/60000 [==============================] - 4s 71us/sample - loss: 0.0874 - accuracy: 0.9698 - val_loss: 0.4088 - val_accuracy: 0.8836\n",
      "Epoch 79/100\n",
      "60000/60000 [==============================] - 4s 70us/sample - loss: 0.0854 - accuracy: 0.9703 - val_loss: 0.4218 - val_accuracy: 0.8801\n",
      "Epoch 80/100\n",
      "60000/60000 [==============================] - 4s 69us/sample - loss: 0.0858 - accuracy: 0.9696 - val_loss: 0.4225 - val_accuracy: 0.8814\n",
      "Epoch 81/100\n",
      "60000/60000 [==============================] - 4s 70us/sample - loss: 0.0860 - accuracy: 0.9698 - val_loss: 0.4180 - val_accuracy: 0.8834\n",
      "Epoch 82/100\n",
      "60000/60000 [==============================] - 4s 72us/sample - loss: 0.0849 - accuracy: 0.9702 - val_loss: 0.4211 - val_accuracy: 0.8826\n",
      "Epoch 83/100\n",
      "60000/60000 [==============================] - 4s 72us/sample - loss: 0.0857 - accuracy: 0.9704 - val_loss: 0.4159 - val_accuracy: 0.8841\n",
      "Epoch 84/100\n",
      "60000/60000 [==============================] - 4s 69us/sample - loss: 0.0831 - accuracy: 0.9705 - val_loss: 0.4221 - val_accuracy: 0.8824\n",
      "Epoch 85/100\n",
      "60000/60000 [==============================] - 4s 71us/sample - loss: 0.0819 - accuracy: 0.9715 - val_loss: 0.4170 - val_accuracy: 0.8840\n",
      "Epoch 86/100\n",
      "60000/60000 [==============================] - 4s 71us/sample - loss: 0.0817 - accuracy: 0.9718 - val_loss: 0.4140 - val_accuracy: 0.8860\n",
      "Epoch 87/100\n",
      "60000/60000 [==============================] - 4s 70us/sample - loss: 0.0813 - accuracy: 0.9716 - val_loss: 0.4189 - val_accuracy: 0.8839\n",
      "Epoch 88/100\n",
      "60000/60000 [==============================] - 4s 70us/sample - loss: 0.0793 - accuracy: 0.9726 - val_loss: 0.4185 - val_accuracy: 0.8853\n",
      "Epoch 89/100\n",
      "60000/60000 [==============================] - 4s 70us/sample - loss: 0.0805 - accuracy: 0.9718 - val_loss: 0.4248 - val_accuracy: 0.8806\n",
      "Epoch 90/100\n",
      "60000/60000 [==============================] - 4s 71us/sample - loss: 0.0773 - accuracy: 0.9730 - val_loss: 0.4229 - val_accuracy: 0.8834\n",
      "Epoch 91/100\n",
      "60000/60000 [==============================] - 4s 70us/sample - loss: 0.0793 - accuracy: 0.9727 - val_loss: 0.4236 - val_accuracy: 0.8812\n",
      "Epoch 92/100\n",
      "60000/60000 [==============================] - 4s 71us/sample - loss: 0.0769 - accuracy: 0.9735 - val_loss: 0.4232 - val_accuracy: 0.8835\n",
      "Epoch 93/100\n",
      "60000/60000 [==============================] - 4s 73us/sample - loss: 0.0761 - accuracy: 0.9738 - val_loss: 0.4531 - val_accuracy: 0.8776\n",
      "Epoch 94/100\n",
      "60000/60000 [==============================] - 4s 72us/sample - loss: 0.0754 - accuracy: 0.9736 - val_loss: 0.4226 - val_accuracy: 0.8838\n",
      "Epoch 95/100\n",
      "60000/60000 [==============================] - 4s 70us/sample - loss: 0.0749 - accuracy: 0.9740 - val_loss: 0.4350 - val_accuracy: 0.8795\n",
      "Epoch 96/100\n",
      "60000/60000 [==============================] - 4s 69us/sample - loss: 0.0756 - accuracy: 0.9740 - val_loss: 0.4364 - val_accuracy: 0.8802\n",
      "Epoch 97/100\n",
      "60000/60000 [==============================] - 4s 71us/sample - loss: 0.0731 - accuracy: 0.9751 - val_loss: 0.4279 - val_accuracy: 0.8853\n",
      "Epoch 98/100\n",
      "60000/60000 [==============================] - 4s 72us/sample - loss: 0.0725 - accuracy: 0.9744 - val_loss: 0.4303 - val_accuracy: 0.8831\n",
      "Epoch 99/100\n",
      "60000/60000 [==============================] - 4s 69us/sample - loss: 0.0731 - accuracy: 0.9752 - val_loss: 0.4539 - val_accuracy: 0.8806\n",
      "Epoch 100/100\n",
      "60000/60000 [==============================] - 4s 71us/sample - loss: 0.0704 - accuracy: 0.9761 - val_loss: 0.4393 - val_accuracy: 0.8830\n"
     ]
    },
    {
     "data": {
      "text/plain": [
       "<tensorflow.python.keras.callbacks.History at 0x1f6facd3160>"
      ]
     },
     "execution_count": 132,
     "metadata": {},
     "output_type": "execute_result"
    }
   ],
   "source": [
    "model1.fit(trainX,trainY,validation_data=(testX,testY),epochs=100,batch_size=32)"
   ]
  },
  {
   "cell_type": "code",
   "execution_count": null,
   "metadata": {},
   "outputs": [],
   "source": []
  }
 ],
 "metadata": {
  "colab": {
   "name": "R6_ExternalLab_AIML.ipynb",
   "provenance": [],
   "version": "0.3.2"
  },
  "kernelspec": {
   "display_name": "Python 3",
   "language": "python",
   "name": "python3"
  },
  "language_info": {
   "codemirror_mode": {
    "name": "ipython",
    "version": 3
   },
   "file_extension": ".py",
   "mimetype": "text/x-python",
   "name": "python",
   "nbconvert_exporter": "python",
   "pygments_lexer": "ipython3",
   "version": "3.7.3"
  }
 },
 "nbformat": 4,
 "nbformat_minor": 1
}
